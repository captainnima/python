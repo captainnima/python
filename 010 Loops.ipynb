{
 "cells": [
  {
   "cell_type": "code",
   "execution_count": 1,
   "id": "e6909b71",
   "metadata": {},
   "outputs": [],
   "source": [
    "#for loops\n",
    "#loops over collections"
   ]
  },
  {
   "cell_type": "code",
   "execution_count": 2,
   "id": "7575ea54",
   "metadata": {},
   "outputs": [],
   "source": [
    "courses = ['History', 'Math', 'Art', 'Music', 'Physics', 'English']"
   ]
  },
  {
   "cell_type": "code",
   "execution_count": 3,
   "id": "28659387",
   "metadata": {},
   "outputs": [
    {
     "name": "stdout",
     "output_type": "stream",
     "text": [
      "History\n",
      "Math\n",
      "Art\n",
      "Music\n",
      "Physics\n",
      "English\n"
     ]
    }
   ],
   "source": [
    "for c in courses:\n",
    "    print(c)"
   ]
  },
  {
   "cell_type": "code",
   "execution_count": 6,
   "id": "511ffb68",
   "metadata": {},
   "outputs": [
    {
     "name": "stdout",
     "output_type": "stream",
     "text": [
      "2 4\n",
      "3 9\n",
      "4 16\n",
      "5 25\n",
      "6 36\n"
     ]
    }
   ],
   "source": [
    "for i in range(2,7):\n",
    "    print(i, i**2)"
   ]
  },
  {
   "cell_type": "code",
   "execution_count": 7,
   "id": "54a41ecf",
   "metadata": {},
   "outputs": [
    {
     "name": "stdout",
     "output_type": "stream",
     "text": [
      "2\n",
      "5\n",
      "8\n",
      "11\n",
      "14\n",
      "17\n",
      "20\n",
      "23\n",
      "26\n",
      "29\n"
     ]
    }
   ],
   "source": [
    "for i in range(2, 30, 3):\n",
    "    print(i)"
   ]
  },
  {
   "cell_type": "code",
   "execution_count": 9,
   "id": "213cf0d1",
   "metadata": {},
   "outputs": [
    {
     "name": "stdout",
     "output_type": "stream",
     "text": [
      "I\n",
      "t\n",
      " \n",
      "i\n",
      "s\n",
      " \n",
      "n\n",
      "o\n",
      "w\n",
      " \n",
      "c\n",
      "o\n",
      "f\n",
      "f\n",
      "e\n",
      "e\n",
      " \n",
      "t\n",
      "i\n",
      "m\n",
      "e\n"
     ]
    }
   ],
   "source": [
    "message = 'It is now coffee time'\n",
    "for m in message:\n",
    "    print (m)"
   ]
  },
  {
   "cell_type": "code",
   "execution_count": 12,
   "id": "3953dda8",
   "metadata": {},
   "outputs": [
    {
     "name": "stdout",
     "output_type": "stream",
     "text": [
      "100\n",
      "81\n",
      "64\n",
      "49\n",
      "36\n",
      "25\n",
      "16\n",
      "9\n",
      "4\n",
      "1\n"
     ]
    }
   ],
   "source": [
    "#while loops\n",
    "\n",
    "c = 10\n",
    "\n",
    "while c > 0:\n",
    "    print(c**2)\n",
    "    c -= 1"
   ]
  },
  {
   "cell_type": "code",
   "execution_count": 14,
   "id": "ba63d76b",
   "metadata": {},
   "outputs": [
    {
     "name": "stdout",
     "output_type": "stream",
     "text": [
      "0\n",
      "1\n",
      "4\n",
      "9\n",
      "16\n",
      "25\n",
      "36\n"
     ]
    }
   ],
   "source": [
    "#looking at \"break\" and \"continue\" keywords\n",
    "\n",
    "for i in range(10):\n",
    "    if i == 7:\n",
    "        break #stop the loop completely\n",
    "    print(i**2)"
   ]
  },
  {
   "cell_type": "code",
   "execution_count": 15,
   "id": "dbf3ac72",
   "metadata": {},
   "outputs": [
    {
     "name": "stdout",
     "output_type": "stream",
     "text": [
      "0\n",
      "1\n",
      "4\n",
      "9\n",
      "16\n",
      "25\n",
      "36\n",
      "64\n",
      "81\n"
     ]
    }
   ],
   "source": [
    "for i in range(10):\n",
    "    if i == 7:\n",
    "        continue #stop the loop for this iteration\n",
    "    print(i**2)"
   ]
  },
  {
   "cell_type": "code",
   "execution_count": null,
   "id": "64ea3b73",
   "metadata": {},
   "outputs": [],
   "source": []
  }
 ],
 "metadata": {
  "kernelspec": {
   "display_name": "Python 3 (ipykernel)",
   "language": "python",
   "name": "python3"
  },
  "language_info": {
   "codemirror_mode": {
    "name": "ipython",
    "version": 3
   },
   "file_extension": ".py",
   "mimetype": "text/x-python",
   "name": "python",
   "nbconvert_exporter": "python",
   "pygments_lexer": "ipython3",
   "version": "3.9.12"
  }
 },
 "nbformat": 4,
 "nbformat_minor": 5
}
