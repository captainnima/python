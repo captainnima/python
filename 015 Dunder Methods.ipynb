{
 "cells": [
  {
   "cell_type": "code",
   "execution_count": 2,
   "id": "ac42317a",
   "metadata": {},
   "outputs": [],
   "source": [
    "#dunder methods\n",
    "#these are special methods surrounded by __ (double underscores)\n",
    "#they allow emulation of some of the built-in behavior in Python\n",
    "#they also allow for method overloading and overriding\n",
    "\n",
    "class Employee:\n",
    "    raise_amount = 1.04 #class variable\n",
    "    num_of_emps = 0 #number of employees\n",
    "    \n",
    "    def __init__(self, first, last, pay=50000): #construtor method\n",
    "        self.first = first\n",
    "        self.last = last\n",
    "        self.pay = pay\n",
    "        self.email = first + '.' + last + '@company.edu'\n",
    "        \n",
    "        Employee.num_of_emps += 1 #add 1 each time a new employee is added\n",
    "                                  #notice the Employee class sicne we do not\n",
    "                                  #want the total number of employees to be\n",
    "                                  #different for every instance\n",
    "        \n",
    "    def __del__(self):\n",
    "        Employee.num_of_emps -= 1\n",
    "        \n",
    "    def full_name(self):\n",
    "        return self.first + ' ' + self.last\n",
    "    \n",
    "    def apply_raise(self):\n",
    "        self.pay = int(self.pay * self.raise_amount)\n",
    "        \n",
    "    @classmethod    #class method for all instances\n",
    "    def set_raise_amount(cls, amount):\n",
    "        cls.raise_amount = amount\n",
    "        \n",
    "    @classmethod\n",
    "    def from_string(cls, emp_str):\n",
    "        first, last, pay = emp_str.split('-')\n",
    "        return cls(first, last, pay) #create the object and return it\n",
    "    \n",
    "    @staticmethod #static method to determine if a day is a workday\n",
    "    def is_workday(day):\n",
    "        if (day.weekday() == 5 or day.weekday() == 6):\n",
    "            return False\n",
    "        else:\n",
    "            return True"
   ]
  },
  {
   "cell_type": "code",
   "execution_count": 3,
   "id": "cd3b9af6",
   "metadata": {},
   "outputs": [
    {
     "name": "stdout",
     "output_type": "stream",
     "text": [
      "3\n",
      "ab\n"
     ]
    }
   ],
   "source": [
    "#method overloading; the + operator behaves differently for numbers and strings\n",
    "\n",
    "print(1+2)\n",
    "print('a' + 'b')"
   ]
  },
  {
   "cell_type": "code",
   "execution_count": 9,
   "id": "c16e6f2b",
   "metadata": {},
   "outputs": [],
   "source": [
    "emp_1 = Employee('Bugs', 'Bunny', 100000)"
   ]
  },
  {
   "cell_type": "code",
   "execution_count": 5,
   "id": "10ad9e48",
   "metadata": {},
   "outputs": [
    {
     "name": "stdout",
     "output_type": "stream",
     "text": [
      "<__main__.Employee object at 0x000002472B54EA60>\n"
     ]
    }
   ],
   "source": [
    "print(emp_1)"
   ]
  },
  {
   "cell_type": "code",
   "execution_count": 8,
   "id": "f5618129",
   "metadata": {},
   "outputs": [],
   "source": [
    "class Employee:\n",
    "    raise_amount = 1.04 #class variable\n",
    "    num_of_emps = 0 #number of employees\n",
    "    \n",
    "    def __init__(self, first, last, pay=50000): #construtor method\n",
    "        self.first = first\n",
    "        self.last = last\n",
    "        self.pay = pay\n",
    "        self.email = first + '.' + last + '@company.edu'\n",
    "        \n",
    "        Employee.num_of_emps += 1 #add 1 each time a new employee is added\n",
    "                                  #notice the Employee class sicne we do not\n",
    "                                  #want the total number of employees to be\n",
    "                                  #different for every instance\n",
    "        \n",
    "    def __del__(self):\n",
    "        Employee.num_of_emps -= 1\n",
    "        \n",
    "    def full_name(self):\n",
    "        return self.first + ' ' + self.last\n",
    "    \n",
    "    def apply_raise(self):\n",
    "        self.pay = int(self.pay * self.raise_amount)\n",
    "        \n",
    "    #adding __repr__\n",
    "    #allow for a better representation of the object when printed\n",
    "    def __repr__(self):\n",
    "        return \"Employee('{}, {}, {}')\".format(self.first, self.last, self.pay)\n",
    "        \n",
    "        \n",
    "    @classmethod    #class method for all instances\n",
    "    def set_raise_amount(cls, amount):\n",
    "        cls.raise_amount = amount\n",
    "        \n",
    "    @classmethod\n",
    "    def from_string(cls, emp_str):\n",
    "        first, last, pay = emp_str.split('-')\n",
    "        return cls(first, last, pay) #create the object and return it\n",
    "    \n",
    "    @staticmethod #static method to determine if a day is a workday\n",
    "    def is_workday(day):\n",
    "        if (day.weekday() == 5 or day.weekday() == 6):\n",
    "            return False\n",
    "        else:\n",
    "            return True"
   ]
  },
  {
   "cell_type": "code",
   "execution_count": 10,
   "id": "cc06889b",
   "metadata": {},
   "outputs": [
    {
     "name": "stdout",
     "output_type": "stream",
     "text": [
      "Employee('Bugs, Bunny, 100000')\n"
     ]
    }
   ],
   "source": [
    "print(emp_1) #__repr__ makes the output be this instead of the default"
   ]
  },
  {
   "cell_type": "code",
   "execution_count": 14,
   "id": "6601b3da",
   "metadata": {},
   "outputs": [],
   "source": [
    "class Employee:\n",
    "    raise_amount = 1.04 #class variable\n",
    "    num_of_emps = 0 #number of employees\n",
    "    \n",
    "    def __init__(self, first, last, pay=50000): #construtor method\n",
    "        self.first = first\n",
    "        self.last = last\n",
    "        self.pay = pay\n",
    "        self.email = first + '.' + last + '@company.edu'\n",
    "        \n",
    "        Employee.num_of_emps += 1 #add 1 each time a new employee is added\n",
    "                                  #notice the Employee class sicne we do not\n",
    "                                  #want the total number of employees to be\n",
    "                                  #different for every instance\n",
    "        \n",
    "    def __del__(self):\n",
    "        Employee.num_of_emps -= 1\n",
    "        \n",
    "    def full_name(self):\n",
    "        return self.first + ' ' + self.last\n",
    "    \n",
    "    def apply_raise(self):\n",
    "        self.pay = int(self.pay * self.raise_amount)\n",
    "        \n",
    "    #adding __repr__\n",
    "    #allow for a better representation of the object when printed\n",
    "    def __repr__(self):\n",
    "        return \"Employee('{}, {}, {}')\".format(self.first, self.last, self.pay)\n",
    "        \n",
    "    #__str__ actually calls __repr__\n",
    "    def __str__(self):\n",
    "        return \"{} - {}\".format(self.full_name(), self.email)\n",
    "    \n",
    "    \n",
    "    @classmethod    #class method for all instances\n",
    "    def set_raise_amount(cls, amount):\n",
    "        cls.raise_amount = amount\n",
    "        \n",
    "    @classmethod\n",
    "    def from_string(cls, emp_str):\n",
    "        first, last, pay = emp_str.split('-')\n",
    "        return cls(first, last, pay) #create the object and return it\n",
    "    \n",
    "    @staticmethod #static method to determine if a day is a workday\n",
    "    def is_workday(day):\n",
    "        if (day.weekday() == 5 or day.weekday() == 6):\n",
    "            return False\n",
    "        else:\n",
    "            return True"
   ]
  },
  {
   "cell_type": "code",
   "execution_count": 15,
   "id": "8e85aaa3",
   "metadata": {},
   "outputs": [],
   "source": [
    "emp_1 = Employee('Bugs', 'Bunny', 100000)"
   ]
  },
  {
   "cell_type": "code",
   "execution_count": 16,
   "id": "e293ac5c",
   "metadata": {},
   "outputs": [
    {
     "name": "stdout",
     "output_type": "stream",
     "text": [
      "Bugs Bunny - Bugs.Bunny@company.edu\n"
     ]
    }
   ],
   "source": [
    "print(emp_1)"
   ]
  },
  {
   "cell_type": "code",
   "execution_count": 17,
   "id": "cfb29b3f",
   "metadata": {},
   "outputs": [
    {
     "name": "stdout",
     "output_type": "stream",
     "text": [
      "Employee('Bugs, Bunny, 100000')\n"
     ]
    }
   ],
   "source": [
    "print(repr(emp_1))"
   ]
  },
  {
   "cell_type": "code",
   "execution_count": 18,
   "id": "73861ede",
   "metadata": {},
   "outputs": [
    {
     "name": "stdout",
     "output_type": "stream",
     "text": [
      "Bugs Bunny - Bugs.Bunny@company.edu\n"
     ]
    }
   ],
   "source": [
    "print(str(emp_1))"
   ]
  },
  {
   "cell_type": "code",
   "execution_count": 21,
   "id": "7a9f5315",
   "metadata": {},
   "outputs": [
    {
     "name": "stdout",
     "output_type": "stream",
     "text": [
      "Employee('Bugs, Bunny, 100000')\n",
      "Bugs Bunny - Bugs.Bunny@company.edu\n"
     ]
    }
   ],
   "source": [
    "#when calling repr() and str() above, they are calling the corresponding\n",
    "#__repr__() and __str__()\n",
    "\n",
    "print(emp_1.__repr__())\n",
    "print(emp_1.__str__())"
   ]
  },
  {
   "cell_type": "code",
   "execution_count": 22,
   "id": "4a97c7cc",
   "metadata": {},
   "outputs": [
    {
     "name": "stdout",
     "output_type": "stream",
     "text": [
      "3\n"
     ]
    }
   ],
   "source": [
    "#addition example\n",
    "\n",
    "print(1+2)"
   ]
  },
  {
   "cell_type": "code",
   "execution_count": 23,
   "id": "49e8ae65",
   "metadata": {},
   "outputs": [
    {
     "name": "stdout",
     "output_type": "stream",
     "text": [
      "3\n"
     ]
    }
   ],
   "source": [
    "print(int.__add__(1,2))"
   ]
  },
  {
   "cell_type": "code",
   "execution_count": 24,
   "id": "e2814284",
   "metadata": {},
   "outputs": [],
   "source": [
    "class Employee:\n",
    "    raise_amount = 1.04 #class variable\n",
    "    num_of_emps = 0 #number of employees\n",
    "    \n",
    "    def __init__(self, first, last, pay=50000): #construtor method\n",
    "        self.first = first\n",
    "        self.last = last\n",
    "        self.pay = pay\n",
    "        self.email = first + '.' + last + '@company.edu'\n",
    "        \n",
    "        Employee.num_of_emps += 1 #add 1 each time a new employee is added\n",
    "                                  #notice the Employee class sicne we do not\n",
    "                                  #want the total number of employees to be\n",
    "                                  #different for every instance\n",
    "        \n",
    "    def __del__(self):\n",
    "        Employee.num_of_emps -= 1\n",
    "        \n",
    "    def full_name(self):\n",
    "        return self.first + ' ' + self.last\n",
    "    \n",
    "    def apply_raise(self):\n",
    "        self.pay = int(self.pay * self.raise_amount)\n",
    "        \n",
    "    #adding __repr__\n",
    "    #allow for a better representation of the object when printed\n",
    "    def __repr__(self):\n",
    "        return \"Employee('{}, {}, {}')\".format(self.first, self.last, self.pay)\n",
    "        \n",
    "    #__str__ actually calls __repr__\n",
    "    def __str__(self):\n",
    "        return \"{} - {}\".format(self.full_name(), self.email)\n",
    "    \n",
    "    #adding two employees together\n",
    "    #our definition: adding their salaries\n",
    "    def __add__(self, other):\n",
    "        return self.pay + other.pay\n",
    "    \n",
    "    @classmethod    #class method for all instances\n",
    "    def set_raise_amount(cls, amount):\n",
    "        cls.raise_amount = amount\n",
    "        \n",
    "    @classmethod\n",
    "    def from_string(cls, emp_str):\n",
    "        first, last, pay = emp_str.split('-')\n",
    "        return cls(first, last, pay) #create the object and return it\n",
    "    \n",
    "    @staticmethod #static method to determine if a day is a workday\n",
    "    def is_workday(day):\n",
    "        if (day.weekday() == 5 or day.weekday() == 6):\n",
    "            return False\n",
    "        else:\n",
    "            return True"
   ]
  },
  {
   "cell_type": "code",
   "execution_count": 25,
   "id": "1da127e6",
   "metadata": {},
   "outputs": [],
   "source": [
    "emp_1 = Employee('Bugs', 'Bunny', 100000)\n",
    "emp_2 = Employee('Daffy', 'Duck', 70000)"
   ]
  },
  {
   "cell_type": "code",
   "execution_count": 26,
   "id": "3e4a332e",
   "metadata": {},
   "outputs": [
    {
     "name": "stdout",
     "output_type": "stream",
     "text": [
      "Bugs Bunny 100000\n",
      "Daffy Duck 70000\n"
     ]
    }
   ],
   "source": [
    "print(emp_1.full_name(), emp_1.pay)\n",
    "print(emp_2.full_name(), emp_2.pay)"
   ]
  },
  {
   "cell_type": "code",
   "execution_count": 27,
   "id": "35733091",
   "metadata": {},
   "outputs": [
    {
     "name": "stdout",
     "output_type": "stream",
     "text": [
      "170000\n"
     ]
    }
   ],
   "source": [
    "print(emp_1 + emp_2)"
   ]
  },
  {
   "cell_type": "code",
   "execution_count": 28,
   "id": "d3be718d",
   "metadata": {},
   "outputs": [
    {
     "name": "stdout",
     "output_type": "stream",
     "text": [
      "Bugs\n",
      "Bugs Bunny\n",
      "Bugs.Bunny@company.edu\n"
     ]
    }
   ],
   "source": [
    "#issues with changing an attribute\n",
    "\n",
    "print(emp_1.first)\n",
    "print(emp_1.full_name())\n",
    "print(emp_1.email)"
   ]
  },
  {
   "cell_type": "code",
   "execution_count": 29,
   "id": "b21a64e3",
   "metadata": {},
   "outputs": [],
   "source": [
    "emp_1.first = 'Babs'"
   ]
  },
  {
   "cell_type": "code",
   "execution_count": 30,
   "id": "abb4fefb",
   "metadata": {},
   "outputs": [
    {
     "name": "stdout",
     "output_type": "stream",
     "text": [
      "Babs\n",
      "Babs Bunny\n",
      "Bugs.Bunny@company.edu\n"
     ]
    }
   ],
   "source": [
    "print(emp_1.first)\n",
    "print(emp_1.full_name())\n",
    "print(emp_1.email)"
   ]
  },
  {
   "cell_type": "code",
   "execution_count": 31,
   "id": "6e25f242",
   "metadata": {},
   "outputs": [],
   "source": [
    "#notice the email didn't change\n",
    "#this is because the email is based on the first and last names\n",
    "#when the object is created"
   ]
  },
  {
   "cell_type": "code",
   "execution_count": 32,
   "id": "8e42b003",
   "metadata": {},
   "outputs": [],
   "source": [
    "#let's do this using a method call\n",
    "\n",
    "class Employee:\n",
    "    raise_amount = 1.04 #class variable\n",
    "    num_of_emps = 0 #number of employees\n",
    "    \n",
    "    def __init__(self, first, last, pay=50000): #construtor method\n",
    "        self.first = first\n",
    "        self.last = last\n",
    "        self.pay = pay\n",
    "        \n",
    "        Employee.num_of_emps += 1 #add 1 each time a new employee is added\n",
    "                                  #notice the Employee class sicne we do not\n",
    "                                  #want the total number of employees to be\n",
    "                                  #different for every instance\n",
    "        \n",
    "    def __del__(self):\n",
    "        Employee.num_of_emps -= 1\n",
    "        \n",
    "    def full_name(self):\n",
    "        return self.first + ' ' + self.last\n",
    "    \n",
    "    def email(self):\n",
    "        return self.first + '.' + self.last + '@companyname.edu'\n",
    "    \n",
    "    def apply_raise(self):\n",
    "        self.pay = int(self.pay * self.raise_amount)\n",
    "        \n",
    "    #adding __repr__\n",
    "    #allow for a better representation of the object when printed\n",
    "    def __repr__(self):\n",
    "        return \"Employee('{}, {}, {}')\".format(self.first, self.last, self.pay)\n",
    "        \n",
    "    #__str__ actually calls __repr__\n",
    "    def __str__(self):\n",
    "        return \"{} - {}\".format(self.full_name(), self.email)\n",
    "    \n",
    "    #adding two employees together\n",
    "    #our definition: adding their salaries\n",
    "    def __add__(self, other):\n",
    "        return self.pay + other.pay\n",
    "    \n",
    "    @classmethod    #class method for all instances\n",
    "    def set_raise_amount(cls, amount):\n",
    "        cls.raise_amount = amount\n",
    "        \n",
    "    @classmethod\n",
    "    def from_string(cls, emp_str):\n",
    "        first, last, pay = emp_str.split('-')\n",
    "        return cls(first, last, pay) #create the object and return it\n",
    "    \n",
    "    @staticmethod #static method to determine if a day is a workday\n",
    "    def is_workday(day):\n",
    "        if (day.weekday() == 5 or day.weekday() == 6):\n",
    "            return False\n",
    "        else:\n",
    "            return True"
   ]
  },
  {
   "cell_type": "code",
   "execution_count": 33,
   "id": "64e55b11",
   "metadata": {},
   "outputs": [],
   "source": [
    "emp_1 = Employee('Bugs', 'Bunny', 100000)\n",
    "emp_2 = Employee('Daffy', 'Duck', 70000)"
   ]
  },
  {
   "cell_type": "code",
   "execution_count": 35,
   "id": "afacb1a2",
   "metadata": {},
   "outputs": [
    {
     "name": "stdout",
     "output_type": "stream",
     "text": [
      "Bugs\n",
      "Bugs Bunny\n",
      "Bugs.Bunny@companyname.edu\n"
     ]
    }
   ],
   "source": [
    "print(emp_1.first)\n",
    "print(emp_1.full_name())\n",
    "print(emp_1.email())"
   ]
  },
  {
   "cell_type": "code",
   "execution_count": 36,
   "id": "0ad4f6b9",
   "metadata": {},
   "outputs": [],
   "source": [
    "emp_1.first = 'Babs'"
   ]
  },
  {
   "cell_type": "code",
   "execution_count": 37,
   "id": "4dabaad4",
   "metadata": {},
   "outputs": [
    {
     "name": "stdout",
     "output_type": "stream",
     "text": [
      "Babs\n",
      "Babs Bunny\n",
      "Babs.Bunny@companyname.edu\n"
     ]
    }
   ],
   "source": [
    "print(emp_1.first)\n",
    "print(emp_1.full_name())\n",
    "print(emp_1.email())"
   ]
  },
  {
   "cell_type": "code",
   "execution_count": 42,
   "id": "bec747eb",
   "metadata": {},
   "outputs": [],
   "source": [
    "#while the above works, it requires all subsequent code be changed;\n",
    "#all print(emp_1.email) for instances must be changed to print(emp_1.email())\n",
    "#to solve this issue, let's use a decorator\n",
    "\n",
    "#let's do this using a method call\n",
    "\n",
    "class Employee:\n",
    "    raise_amount = 1.04 #class variable\n",
    "    num_of_emps = 0 #number of employees\n",
    "    \n",
    "    def __init__(self, first, last, pay=50000): #construtor method\n",
    "        self.first = first\n",
    "        self.last = last\n",
    "        self.pay = pay\n",
    "        \n",
    "        Employee.num_of_emps += 1 #add 1 each time a new employee is added\n",
    "                                  #notice the Employee class sicne we do not\n",
    "                                  #want the total number of employees to be\n",
    "                                  #different for every instance\n",
    "        \n",
    "    def __del__(self):\n",
    "        Employee.num_of_emps -= 1\n",
    "     \n",
    "    @property\n",
    "    def full_name(self):\n",
    "        return self.first + ' ' + self.last\n",
    "    \n",
    "    @property #treat this as a property\n",
    "    def email(self):\n",
    "        return self.first + '.' + self.last + '@companyname.edu'\n",
    "    \n",
    "    def apply_raise(self):\n",
    "        self.pay = int(self.pay * self.raise_amount)\n",
    "        \n",
    "    #adding __repr__\n",
    "    #allow for a better representation of the object when printed\n",
    "    def __repr__(self):\n",
    "        return \"Employee('{}, {}, {}')\".format(self.first, self.last, self.pay)\n",
    "        \n",
    "    #__str__ actually calls __repr__\n",
    "    def __str__(self):\n",
    "        return \"{} - {}\".format(self.full_name(), self.email)\n",
    "    \n",
    "    #adding two employees together\n",
    "    #our definition: adding their salaries\n",
    "    def __add__(self, other):\n",
    "        return self.pay + other.pay\n",
    "    \n",
    "    @classmethod    #class method for all instances\n",
    "    def set_raise_amount(cls, amount):\n",
    "        cls.raise_amount = amount\n",
    "        \n",
    "    @classmethod\n",
    "    def from_string(cls, emp_str):\n",
    "        first, last, pay = emp_str.split('-')\n",
    "        return cls(first, last, pay) #create the object and return it\n",
    "    \n",
    "    @staticmethod #static method to determine if a day is a workday\n",
    "    def is_workday(day):\n",
    "        if (day.weekday() == 5 or day.weekday() == 6):\n",
    "            return False\n",
    "        else:\n",
    "            return True"
   ]
  },
  {
   "cell_type": "code",
   "execution_count": 43,
   "id": "11a7ad90",
   "metadata": {},
   "outputs": [],
   "source": [
    "emp_1 = Employee('Bugs', 'Bunny', 100000)\n",
    "emp_2 = Employee('Daffy', 'Duck', 70000)"
   ]
  },
  {
   "cell_type": "code",
   "execution_count": 45,
   "id": "866eeb5e",
   "metadata": {},
   "outputs": [
    {
     "name": "stdout",
     "output_type": "stream",
     "text": [
      "Bugs\n",
      "Bugs Bunny\n",
      "Bugs.Bunny@companyname.edu\n"
     ]
    }
   ],
   "source": [
    "print(emp_1.first)\n",
    "print(emp_1.full_name)\n",
    "print(emp_1.email)"
   ]
  },
  {
   "cell_type": "code",
   "execution_count": 46,
   "id": "f34e5432",
   "metadata": {},
   "outputs": [],
   "source": [
    "emp_1.first = 'Babs'"
   ]
  },
  {
   "cell_type": "code",
   "execution_count": 47,
   "id": "04899d92",
   "metadata": {},
   "outputs": [
    {
     "name": "stdout",
     "output_type": "stream",
     "text": [
      "Babs\n",
      "Babs Bunny\n",
      "Babs.Bunny@companyname.edu\n"
     ]
    }
   ],
   "source": [
    "print(emp_1.first)\n",
    "print(emp_1.full_name)\n",
    "print(emp_1.email)"
   ]
  },
  {
   "cell_type": "code",
   "execution_count": 48,
   "id": "7694b1c8",
   "metadata": {},
   "outputs": [
    {
     "ename": "AttributeError",
     "evalue": "can't set attribute",
     "output_type": "error",
     "traceback": [
      "\u001b[1;31m---------------------------------------------------------------------------\u001b[0m",
      "\u001b[1;31mAttributeError\u001b[0m                            Traceback (most recent call last)",
      "Input \u001b[1;32mIn [48]\u001b[0m, in \u001b[0;36m<cell line: 4>\u001b[1;34m()\u001b[0m\n\u001b[0;32m      1\u001b[0m \u001b[38;5;66;03m#another issue\u001b[39;00m\n\u001b[0;32m      2\u001b[0m \u001b[38;5;66;03m#@property decorator works great but we can't set anything with it\u001b[39;00m\n\u001b[1;32m----> 4\u001b[0m emp_1\u001b[38;5;241m.\u001b[39mfull_name \u001b[38;5;241m=\u001b[39m \u001b[38;5;124m'\u001b[39m\u001b[38;5;124mPorky Pig\u001b[39m\u001b[38;5;124m'\u001b[39m\n",
      "\u001b[1;31mAttributeError\u001b[0m: can't set attribute"
     ]
    }
   ],
   "source": [
    "#another issue\n",
    "#@property decorator works great but we can't set anything with it\n",
    "\n",
    "emp_1.full_name = 'Porky Pig'"
   ]
  },
  {
   "cell_type": "code",
   "execution_count": 50,
   "id": "cebb51b0",
   "metadata": {},
   "outputs": [],
   "source": [
    "#while the above works, it requires all subsequent code be changed;\n",
    "#all print(emp_1.email) for instances must be changed to print(emp_1.email())\n",
    "#to solve this issue, let's use a decorator\n",
    "\n",
    "#let's do this using a method call\n",
    "\n",
    "class Employee:\n",
    "    raise_amount = 1.04 #class variable\n",
    "    num_of_emps = 0 #number of employees\n",
    "    \n",
    "    def __init__(self, first, last, pay=50000): #construtor method\n",
    "        self.first = first\n",
    "        self.last = last\n",
    "        self.pay = pay\n",
    "        \n",
    "        Employee.num_of_emps += 1 #add 1 each time a new employee is added\n",
    "                                  #notice the Employee class sicne we do not\n",
    "                                  #want the total number of employees to be\n",
    "                                  #different for every instance\n",
    "        \n",
    "    def __del__(self):\n",
    "        Employee.num_of_emps -= 1\n",
    "     \n",
    "    @property\n",
    "    def full_name(self):\n",
    "        return self.first + ' ' + self.last\n",
    "    \n",
    "    @full_name.setter #add this\n",
    "    def full_name(self, name):\n",
    "        first, last = name.split() #nothing passed uses space to split\n",
    "        self.first = first\n",
    "        self.last = last\n",
    "    \n",
    "    @property #treat this as a property\n",
    "    def email(self):\n",
    "        return self.first + '.' + self.last + '@companyname.edu'\n",
    "    \n",
    "    def apply_raise(self):\n",
    "        self.pay = int(self.pay * self.raise_amount)\n",
    "        \n",
    "    #adding __repr__\n",
    "    #allow for a better representation of the object when printed\n",
    "    def __repr__(self):\n",
    "        return \"Employee('{}, {}, {}')\".format(self.first, self.last, self.pay)\n",
    "        \n",
    "    #__str__ actually calls __repr__\n",
    "    def __str__(self):\n",
    "        return \"{} - {}\".format(self.full_name(), self.email)\n",
    "    \n",
    "    #adding two employees together\n",
    "    #our definition: adding their salaries\n",
    "    def __add__(self, other):\n",
    "        return self.pay + other.pay\n",
    "    \n",
    "    @classmethod    #class method for all instances\n",
    "    def set_raise_amount(cls, amount):\n",
    "        cls.raise_amount = amount\n",
    "        \n",
    "    @classmethod\n",
    "    def from_string(cls, emp_str):\n",
    "        first, last, pay = emp_str.split('-')\n",
    "        return cls(first, last, pay) #create the object and return it\n",
    "    \n",
    "    @staticmethod #static method to determine if a day is a workday\n",
    "    def is_workday(day):\n",
    "        if (day.weekday() == 5 or day.weekday() == 6):\n",
    "            return False\n",
    "        else:\n",
    "            return True"
   ]
  },
  {
   "cell_type": "code",
   "execution_count": 51,
   "id": "3e708c0f",
   "metadata": {},
   "outputs": [],
   "source": [
    "emp_1 = Employee('Bugs', 'Bunny', 100000)\n",
    "emp_2 = Employee('Daffy', 'Duck', 70000)"
   ]
  },
  {
   "cell_type": "code",
   "execution_count": 52,
   "id": "8ead6240",
   "metadata": {},
   "outputs": [
    {
     "name": "stdout",
     "output_type": "stream",
     "text": [
      "Bugs\n",
      "Bugs Bunny\n",
      "Bugs.Bunny@companyname.edu\n"
     ]
    }
   ],
   "source": [
    "print(emp_1.first)\n",
    "print(emp_1.full_name)\n",
    "print(emp_1.email)"
   ]
  },
  {
   "cell_type": "code",
   "execution_count": 53,
   "id": "1d5db410",
   "metadata": {},
   "outputs": [],
   "source": [
    "emp_1.full_name = 'Porky Pig'"
   ]
  },
  {
   "cell_type": "code",
   "execution_count": 54,
   "id": "815aab84",
   "metadata": {},
   "outputs": [
    {
     "name": "stdout",
     "output_type": "stream",
     "text": [
      "Porky\n",
      "Porky Pig\n",
      "Porky.Pig@companyname.edu\n"
     ]
    }
   ],
   "source": [
    "print(emp_1.first)\n",
    "print(emp_1.full_name)\n",
    "print(emp_1.email)"
   ]
  },
  {
   "cell_type": "code",
   "execution_count": 55,
   "id": "a89f2358",
   "metadata": {},
   "outputs": [
    {
     "ename": "TypeError",
     "evalue": "'str' object is not callable",
     "output_type": "error",
     "traceback": [
      "\u001b[1;31m---------------------------------------------------------------------------\u001b[0m",
      "\u001b[1;31mTypeError\u001b[0m                                 Traceback (most recent call last)",
      "Input \u001b[1;32mIn [55]\u001b[0m, in \u001b[0;36m<cell line: 1>\u001b[1;34m()\u001b[0m\n\u001b[1;32m----> 1\u001b[0m \u001b[43memp_1\u001b[49m\u001b[38;5;241;43m.\u001b[39;49m\u001b[43mfull_name\u001b[49m\u001b[43m(\u001b[49m\u001b[43m)\u001b[49m\n",
      "\u001b[1;31mTypeError\u001b[0m: 'str' object is not callable"
     ]
    }
   ],
   "source": [
    "emp_1.full_name()"
   ]
  },
  {
   "cell_type": "code",
   "execution_count": null,
   "id": "32ac7692",
   "metadata": {},
   "outputs": [],
   "source": []
  }
 ],
 "metadata": {
  "kernelspec": {
   "display_name": "Python 3 (ipykernel)",
   "language": "python",
   "name": "python3"
  },
  "language_info": {
   "codemirror_mode": {
    "name": "ipython",
    "version": 3
   },
   "file_extension": ".py",
   "mimetype": "text/x-python",
   "name": "python",
   "nbconvert_exporter": "python",
   "pygments_lexer": "ipython3",
   "version": "3.9.12"
  }
 },
 "nbformat": 4,
 "nbformat_minor": 5
}
