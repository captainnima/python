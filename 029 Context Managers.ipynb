{
 "cells": [
  {
   "cell_type": "markdown",
   "metadata": {},
   "source": [
    "# 029 Context Managers"
   ]
  },
  {
   "cell_type": "code",
   "execution_count": null,
   "metadata": {},
   "outputs": [],
   "source": [
    "#context managers allow us to properly use resources in Python\n",
    "#as to what we want to setup and tear down"
   ]
  },
  {
   "cell_type": "code",
   "execution_count": 1,
   "metadata": {},
   "outputs": [],
   "source": [
    "#let's see context manager for files\n",
    "#first without a context manager\n",
    "\n",
    "f = open('coffee.txt', 'w')\n",
    "f.write('Coffee Time')\n",
    "f.close()"
   ]
  },
  {
   "cell_type": "code",
   "execution_count": 2,
   "metadata": {},
   "outputs": [],
   "source": [
    "#using a context manager\n",
    "\n",
    "with open('tea.txt', 'w') as f:\n",
    "    f.write(\"Tea Time\")"
   ]
  },
  {
   "cell_type": "code",
   "execution_count": null,
   "metadata": {},
   "outputs": [],
   "source": [
    "#with context manager we don't have to remember to close the file\n",
    "#in this instance"
   ]
  },
  {
   "cell_type": "code",
   "execution_count": 3,
   "metadata": {},
   "outputs": [],
   "source": [
    "#creating the file context manager using classes\n",
    "\n",
    "class Open_File():\n",
    "    def __init__(self, filename, mode):\n",
    "        self.filename = filename\n",
    "        self.mode = mode\n",
    "    \n",
    "    def __enter__(self):\n",
    "        self.file = open(self.filename, self.mode)\n",
    "        return self.file #this matches the \"f\"\n",
    "    \n",
    "    def __exit__(self, exc_type, exc_val, traceback):\n",
    "        self.file.close()\n",
    "        \n",
    "        #the extra parameters are there for if we throw\n",
    "        #an exception; they are needed for __exit__ dunder\n",
    "        #method though we are not using them"
   ]
  },
  {
   "cell_type": "code",
   "execution_count": 4,
   "metadata": {},
   "outputs": [],
   "source": [
    "with Open_File('coffee.txt', 'w') as f:\n",
    "    f.write(\"It's Coffee Time using classes\")"
   ]
  },
  {
   "cell_type": "code",
   "execution_count": 5,
   "metadata": {},
   "outputs": [
    {
     "name": "stdout",
     "output_type": "stream",
     "text": [
      "True\n"
     ]
    }
   ],
   "source": [
    "print(f.closed)"
   ]
  },
  {
   "cell_type": "code",
   "execution_count": 6,
   "metadata": {},
   "outputs": [],
   "source": [
    "#creating the file context manager using functions\n",
    "\n",
    "from contextlib import contextmanager\n",
    "\n",
    "@contextmanager\n",
    "def open_file(file, mode):\n",
    "    try:\n",
    "        f = open(file, mode)\n",
    "        yield f #the code within the with statement is going to run\n",
    "                #this is the variable that comes after \"as\"\n",
    "                #yield returns a generator function\n",
    "    finally:\n",
    "        f.close()\n",
    "        print(\"Bye\")"
   ]
  },
  {
   "cell_type": "code",
   "execution_count": 7,
   "metadata": {},
   "outputs": [
    {
     "name": "stdout",
     "output_type": "stream",
     "text": [
      "Bye\n"
     ]
    }
   ],
   "source": [
    "with open_file(\"coffee.txt\", 'w') as f:\n",
    "    f.write(\"Coffee time using functions\")"
   ]
  },
  {
   "cell_type": "code",
   "execution_count": 8,
   "metadata": {},
   "outputs": [
    {
     "name": "stdout",
     "output_type": "stream",
     "text": [
      "['file2', 'file1']\n",
      "['file3', 'file4']\n"
     ]
    }
   ],
   "source": [
    "#a practical example\n",
    "#first without a context manager\n",
    "\n",
    "import os\n",
    "\n",
    "cwd = os.getcwd()\n",
    "os.chdir('stuff1') #create this directory and add some files\n",
    "print(os.listdir())\n",
    "os.chdir(cwd)\n",
    "\n",
    "cwd = os.getcwd()\n",
    "os.chdir('stuff2') #create this directory and add some files\n",
    "print(os.listdir())\n",
    "os.chdir(cwd)"
   ]
  },
  {
   "cell_type": "code",
   "execution_count": 9,
   "metadata": {},
   "outputs": [],
   "source": [
    "#let's make this operation into a context manager\n",
    "\n",
    "from contextlib import contextmanager\n",
    "\n",
    "@contextmanager\n",
    "def change_dir(destination):\n",
    "    try:\n",
    "        cwd = os.getcwd()\n",
    "        os.chdir(destination)\n",
    "        yield\n",
    "    finally:\n",
    "        os.chdir(cwd)"
   ]
  },
  {
   "cell_type": "code",
   "execution_count": 12,
   "metadata": {},
   "outputs": [
    {
     "name": "stdout",
     "output_type": "stream",
     "text": [
      "['file2', 'file1']\n"
     ]
    }
   ],
   "source": [
    "with change_dir('stuff1'): #since yield didn't return anything\n",
    "                           #as var is not needed\n",
    "    print(os.listdir())"
   ]
  },
  {
   "cell_type": "code",
   "execution_count": null,
   "metadata": {},
   "outputs": [],
   "source": []
  }
 ],
 "metadata": {
  "kernelspec": {
   "display_name": "Python 3 (ipykernel)",
   "language": "python",
   "name": "python3"
  },
  "language_info": {
   "codemirror_mode": {
    "name": "ipython",
    "version": 3
   },
   "file_extension": ".py",
   "mimetype": "text/x-python",
   "name": "python",
   "nbconvert_exporter": "python",
   "pygments_lexer": "ipython3",
   "version": "3.11.5"
  }
 },
 "nbformat": 4,
 "nbformat_minor": 2
}
