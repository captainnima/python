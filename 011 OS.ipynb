{
 "cells": [
  {
   "cell_type": "code",
   "execution_count": 1,
   "id": "ee1f9e1b",
   "metadata": {},
   "outputs": [],
   "source": [
    "import os"
   ]
  },
  {
   "cell_type": "code",
   "execution_count": 2,
   "id": "da637b66",
   "metadata": {},
   "outputs": [
    {
     "name": "stdout",
     "output_type": "stream",
     "text": [
      "['DirEntry', 'F_OK', 'GenericAlias', 'Mapping', 'MutableMapping', 'O_APPEND', 'O_BINARY', 'O_CREAT', 'O_EXCL', 'O_NOINHERIT', 'O_RANDOM', 'O_RDONLY', 'O_RDWR', 'O_SEQUENTIAL', 'O_SHORT_LIVED', 'O_TEMPORARY', 'O_TEXT', 'O_TRUNC', 'O_WRONLY', 'P_DETACH', 'P_NOWAIT', 'P_NOWAITO', 'P_OVERLAY', 'P_WAIT', 'PathLike', 'R_OK', 'SEEK_CUR', 'SEEK_END', 'SEEK_SET', 'TMP_MAX', 'W_OK', 'X_OK', '_AddedDllDirectory', '_Environ', '__all__', '__builtins__', '__cached__', '__doc__', '__file__', '__loader__', '__name__', '__package__', '__spec__', '_check_methods', '_execvpe', '_exists', '_exit', '_fspath', '_get_exports_list', '_walk', '_wrap_close', 'abc', 'abort', 'access', 'add_dll_directory', 'altsep', 'chdir', 'chmod', 'close', 'closerange', 'cpu_count', 'curdir', 'defpath', 'device_encoding', 'devnull', 'dup', 'dup2', 'environ', 'error', 'execl', 'execle', 'execlp', 'execlpe', 'execv', 'execve', 'execvp', 'execvpe', 'extsep', 'fdopen', 'fsdecode', 'fsencode', 'fspath', 'fstat', 'fsync', 'ftruncate', 'get_exec_path', 'get_handle_inheritable', 'get_inheritable', 'get_terminal_size', 'getcwd', 'getcwdb', 'getenv', 'getlogin', 'getpid', 'getppid', 'isatty', 'kill', 'linesep', 'link', 'listdir', 'lseek', 'lstat', 'makedirs', 'mkdir', 'name', 'open', 'pardir', 'path', 'pathsep', 'pipe', 'popen', 'putenv', 'read', 'readlink', 'remove', 'removedirs', 'rename', 'renames', 'replace', 'rmdir', 'scandir', 'sep', 'set_handle_inheritable', 'set_inheritable', 'spawnl', 'spawnle', 'spawnv', 'spawnve', 'st', 'startfile', 'stat', 'stat_result', 'statvfs_result', 'strerror', 'supports_bytes_environ', 'supports_dir_fd', 'supports_effective_ids', 'supports_fd', 'supports_follow_symlinks', 'symlink', 'sys', 'system', 'terminal_size', 'times', 'times_result', 'truncate', 'umask', 'uname_result', 'unlink', 'unsetenv', 'urandom', 'utime', 'waitpid', 'waitstatus_to_exitcode', 'walk', 'write']\n"
     ]
    }
   ],
   "source": [
    "print(dir(os))"
   ]
  },
  {
   "cell_type": "code",
   "execution_count": 3,
   "id": "2990709c",
   "metadata": {},
   "outputs": [
    {
     "name": "stdout",
     "output_type": "stream",
     "text": [
      "C:\\Users\\Student\\Desktop\\Python\n"
     ]
    }
   ],
   "source": [
    "#print the current working directory\n",
    "\n",
    "print(os.getcwd())"
   ]
  },
  {
   "cell_type": "code",
   "execution_count": 4,
   "id": "5d162ead",
   "metadata": {},
   "outputs": [
    {
     "name": "stdout",
     "output_type": "stream",
     "text": [
      "C:\\Users\\Student\\Desktop\n"
     ]
    }
   ],
   "source": [
    "#navigate\n",
    "\n",
    "os.chdir('../')\n",
    "print(os.getcwd())"
   ]
  },
  {
   "cell_type": "code",
   "execution_count": 5,
   "id": "7e0f33b5",
   "metadata": {},
   "outputs": [
    {
     "name": "stdout",
     "output_type": "stream",
     "text": [
      "C:\\Users\n"
     ]
    }
   ],
   "source": [
    "os.chdir('../../')\n",
    "print(os.getcwd())"
   ]
  },
  {
   "cell_type": "code",
   "execution_count": 6,
   "id": "cb57e402",
   "metadata": {},
   "outputs": [
    {
     "name": "stdout",
     "output_type": "stream",
     "text": [
      "C:\\Users\\Student\\Desktop\\Python\n"
     ]
    }
   ],
   "source": [
    "os.chdir('Student/Desktop/Python')\n",
    "print(os.getcwd())"
   ]
  },
  {
   "cell_type": "code",
   "execution_count": 7,
   "id": "75f4bd91",
   "metadata": {},
   "outputs": [
    {
     "name": "stdout",
     "output_type": "stream",
     "text": [
      "['.ipynb_checkpoints', '002 Coffee.ipynb', '003 Strings.ipynb', '004 Numbers.ipynb', '005 Collections.ipynb', '006 Dictionaries.ipynb', '007 Conditionals.ipynb', '008 Functions.ipynb', '009 Modules.ipynb', '010 Loops.ipynb', '011 OS.ipynb', 'my_module.ipynb', 'my_module.py', '__pycache__']\n"
     ]
    }
   ],
   "source": [
    "print(os.listdir())"
   ]
  },
  {
   "cell_type": "code",
   "execution_count": 8,
   "id": "7d61dc92",
   "metadata": {},
   "outputs": [],
   "source": [
    "#create a folder\n",
    "#2 methods: mkdir() makes a directory; makedirs() creates all \n",
    "#subdirectories also\n",
    "\n",
    "os.mkdir('sample')"
   ]
  },
  {
   "cell_type": "code",
   "execution_count": 14,
   "id": "fb335142",
   "metadata": {},
   "outputs": [],
   "source": [
    "os.makedirs('data/pubs/stuff/mystuff')"
   ]
  },
  {
   "cell_type": "code",
   "execution_count": 10,
   "id": "0ba02eb4",
   "metadata": {},
   "outputs": [],
   "source": [
    "#removing folders\n",
    "\n",
    "os.rmdir('sample')"
   ]
  },
  {
   "cell_type": "code",
   "execution_count": 11,
   "id": "de62aef4",
   "metadata": {},
   "outputs": [
    {
     "ename": "OSError",
     "evalue": "[WinError 145] The directory is not empty: 'data'",
     "output_type": "error",
     "traceback": [
      "\u001b[1;31m---------------------------------------------------------------------------\u001b[0m",
      "\u001b[1;31mOSError\u001b[0m                                   Traceback (most recent call last)",
      "Input \u001b[1;32mIn [11]\u001b[0m, in \u001b[0;36m<cell line: 1>\u001b[1;34m()\u001b[0m\n\u001b[1;32m----> 1\u001b[0m \u001b[43mos\u001b[49m\u001b[38;5;241;43m.\u001b[39;49m\u001b[43mrmdir\u001b[49m\u001b[43m(\u001b[49m\u001b[38;5;124;43m'\u001b[39;49m\u001b[38;5;124;43mdata\u001b[39;49m\u001b[38;5;124;43m'\u001b[39;49m\u001b[43m)\u001b[49m\n",
      "\u001b[1;31mOSError\u001b[0m: [WinError 145] The directory is not empty: 'data'"
     ]
    }
   ],
   "source": [
    "os.rmdir('data')"
   ]
  },
  {
   "cell_type": "code",
   "execution_count": 12,
   "id": "224e55ef",
   "metadata": {},
   "outputs": [],
   "source": [
    "os.removedirs('data/pubs/stuff/mystuff')"
   ]
  },
  {
   "cell_type": "code",
   "execution_count": 13,
   "id": "729f04ff",
   "metadata": {},
   "outputs": [],
   "source": [
    "#shell utilities\n",
    "\n",
    "import shutil"
   ]
  },
  {
   "cell_type": "code",
   "execution_count": 15,
   "id": "21dfb611",
   "metadata": {},
   "outputs": [],
   "source": [
    "shutil.rmtree('data')"
   ]
  },
  {
   "cell_type": "code",
   "execution_count": 16,
   "id": "52c5ac27",
   "metadata": {},
   "outputs": [],
   "source": [
    "os.mkdir('sample')"
   ]
  },
  {
   "cell_type": "code",
   "execution_count": 17,
   "id": "a1907556",
   "metadata": {},
   "outputs": [],
   "source": [
    "os.rename('sample', 'final')"
   ]
  },
  {
   "cell_type": "code",
   "execution_count": 18,
   "id": "0e799de9",
   "metadata": {},
   "outputs": [],
   "source": [
    "os.chdir('final')"
   ]
  },
  {
   "cell_type": "code",
   "execution_count": 19,
   "id": "9665a47e",
   "metadata": {},
   "outputs": [],
   "source": [
    "coffee = open('coffee.txt', 'w')\n",
    "coffee.write('coffee time...followed by tea time')\n",
    "coffee.close()"
   ]
  },
  {
   "cell_type": "code",
   "execution_count": 20,
   "id": "3679525f",
   "metadata": {},
   "outputs": [],
   "source": [
    "os.rename('coffee.txt', 'tea.txt')"
   ]
  },
  {
   "cell_type": "code",
   "execution_count": 21,
   "id": "67e071d4",
   "metadata": {},
   "outputs": [
    {
     "data": {
      "text/plain": [
       "os.stat_result(st_mode=33206, st_ino=5066549580899524, st_dev=2953256895, st_nlink=1, st_uid=0, st_gid=0, st_size=34, st_atime=1666034082, st_mtime=1666034047, st_ctime=1666034047)"
      ]
     },
     "execution_count": 21,
     "metadata": {},
     "output_type": "execute_result"
    }
   ],
   "source": [
    "#get some file info\n",
    "\n",
    "os.stat('tea.txt')"
   ]
  },
  {
   "cell_type": "code",
   "execution_count": 22,
   "id": "142d47dc",
   "metadata": {},
   "outputs": [
    {
     "data": {
      "text/plain": [
       "34"
      ]
     },
     "execution_count": 22,
     "metadata": {},
     "output_type": "execute_result"
    }
   ],
   "source": [
    "#picking a particular attribute\n",
    "\n",
    "os.stat('tea.txt').st_size"
   ]
  },
  {
   "cell_type": "code",
   "execution_count": 23,
   "id": "2905ba3e",
   "metadata": {},
   "outputs": [
    {
     "data": {
      "text/plain": [
       "1666034047.2412422"
      ]
     },
     "execution_count": 23,
     "metadata": {},
     "output_type": "execute_result"
    }
   ],
   "source": [
    "os.stat('tea.txt').st_mtime #modification time"
   ]
  },
  {
   "cell_type": "code",
   "execution_count": 24,
   "id": "c2f518ab",
   "metadata": {},
   "outputs": [],
   "source": [
    "#making the time readable\n",
    "\n",
    "from datetime import datetime"
   ]
  },
  {
   "cell_type": "code",
   "execution_count": 25,
   "id": "10321164",
   "metadata": {},
   "outputs": [
    {
     "name": "stdout",
     "output_type": "stream",
     "text": [
      "2022-10-17 15:14:07.241242\n"
     ]
    }
   ],
   "source": [
    "print(datetime.fromtimestamp(os.stat('tea.txt').st_mtime))"
   ]
  },
  {
   "cell_type": "code",
   "execution_count": 26,
   "id": "ec7473c4",
   "metadata": {},
   "outputs": [
    {
     "name": "stdout",
     "output_type": "stream",
     "text": [
      "C:\\Users\\Student\\Desktop\\Python\\final\n"
     ]
    }
   ],
   "source": [
    "#traversing a directoring using walk()\n",
    "\n",
    "print(os.getcwd())"
   ]
  },
  {
   "cell_type": "code",
   "execution_count": 27,
   "id": "d31a43ff",
   "metadata": {},
   "outputs": [
    {
     "name": "stdout",
     "output_type": "stream",
     "text": [
      "C:\\Users\\Student\\Desktop\n"
     ]
    }
   ],
   "source": [
    "os.chdir('../../')\n",
    "print(os.getcwd())"
   ]
  },
  {
   "cell_type": "code",
   "execution_count": 28,
   "id": "4e21e132",
   "metadata": {},
   "outputs": [
    {
     "data": {
      "text/plain": [
       "<generator object _walk at 0x000001F7AB7B9510>"
      ]
     },
     "execution_count": 28,
     "metadata": {},
     "output_type": "execute_result"
    }
   ],
   "source": [
    "os.walk(os.getcwd())"
   ]
  },
  {
   "cell_type": "code",
   "execution_count": 30,
   "id": "af055e92",
   "metadata": {},
   "outputs": [],
   "source": [
    "#os.walk() returns a tuple of 3 values\n",
    "#they are: dir path, directories, file names\n",
    "\n",
    "os.chdir('Python')"
   ]
  },
  {
   "cell_type": "code",
   "execution_count": 31,
   "id": "0d9eef24",
   "metadata": {},
   "outputs": [
    {
     "name": "stdout",
     "output_type": "stream",
     "text": [
      "current path:  C:\\Users\\Student\\Desktop\\Python\n",
      "directories:  ['.ipynb_checkpoints', 'final', '__pycache__']\n",
      "files:  ['002 Coffee.ipynb', '003 Strings.ipynb', '004 Numbers.ipynb', '005 Collections.ipynb', '006 Dictionaries.ipynb', '007 Conditionals.ipynb', '008 Functions.ipynb', '009 Modules.ipynb', '010 Loops.ipynb', '011 OS.ipynb', 'my_module.ipynb', 'my_module.py']\n",
      "\n",
      "current path:  C:\\Users\\Student\\Desktop\\Python\\.ipynb_checkpoints\n",
      "directories:  []\n",
      "files:  ['002 Coffee-checkpoint.ipynb', '003 Strings-checkpoint.ipynb', '004 Numbers-checkpoint.ipynb', '005 Collections-checkpoint.ipynb', '006 Dictionaries-checkpoint.ipynb', '007 Conditionals-checkpoint.ipynb', '008 Functions-checkpoint.ipynb', '009 Modules-checkpoint.ipynb', '010 Loops-checkpoint.ipynb', '011 OS-checkpoint.ipynb', 'my_module-checkpoint.ipynb']\n",
      "\n",
      "current path:  C:\\Users\\Student\\Desktop\\Python\\final\n",
      "directories:  []\n",
      "files:  ['tea.txt']\n",
      "\n",
      "current path:  C:\\Users\\Student\\Desktop\\Python\\__pycache__\n",
      "directories:  []\n",
      "files:  ['my_module.cpython-39.pyc']\n",
      "\n"
     ]
    }
   ],
   "source": [
    "for dirpath, dirnames, filenames in os.walk(os.getcwd()):\n",
    "    print('current path: ', dirpath)\n",
    "    print('directories: ', dirnames)\n",
    "    print('files: ', filenames)\n",
    "    print()"
   ]
  },
  {
   "cell_type": "code",
   "execution_count": 32,
   "id": "bf46b575",
   "metadata": {},
   "outputs": [
    {
     "name": "stdout",
     "output_type": "stream",
     "text": [
      "File name found\n",
      "C:\\Users\\Student\\Desktop\\Python\\final\n"
     ]
    }
   ],
   "source": [
    "#searching for a file using os.walk()\n",
    "#then export\n",
    "\n",
    "for dirpath, dirnames, filenames in os.walk(os.getcwd()):\n",
    "    for f in filenames:\n",
    "        if f =='tea.txt':\n",
    "            print('File name found')\n",
    "            print(dirpath)\n",
    "            f_out = open('/Users/Student/Desktop/tea_copy.txt', 'wb')\n",
    "            f_in = open(dirpath + '/' + f, 'rb')\n",
    "            data = f_in.read() #read all the data\n",
    "            f_out.write(data)\n",
    "            f_out.close()\n",
    "            f_in.close()\n",
    "            "
   ]
  },
  {
   "cell_type": "code",
   "execution_count": 33,
   "id": "b015ef47",
   "metadata": {},
   "outputs": [
    {
     "name": "stdout",
     "output_type": "stream",
     "text": [
      "environ({'ALLUSERSPROFILE': 'C:\\\\ProgramData', 'APPDATA': 'C:\\\\Users\\\\Student\\\\AppData\\\\Roaming', 'COMMONPROGRAMFILES': 'C:\\\\Program Files\\\\Common Files', 'COMMONPROGRAMFILES(X86)': 'C:\\\\Program Files (x86)\\\\Common Files', 'COMMONPROGRAMW6432': 'C:\\\\Program Files\\\\Common Files', 'COMPUTERNAME': 'DESKTOP-D6EN7PF', 'COMSPEC': 'C:\\\\Windows\\\\system32\\\\cmd.exe', 'CONDA_DEFAULT_ENV': 'base', 'CONDA_EXE': 'C:\\\\ProgramData\\\\Anaconda3\\\\Scripts\\\\conda.exe', 'CONDA_PROMPT_MODIFIER': '(base) ', 'CONDA_PYTHON_EXE': 'C:\\\\ProgramData\\\\Anaconda3\\\\python.exe', 'CONDA_SHLVL': '1', 'DRIVERDATA': 'C:\\\\Windows\\\\System32\\\\Drivers\\\\DriverData', 'FPS_BROWSER_APP_PROFILE_STRING': 'Internet Explorer', 'FPS_BROWSER_USER_PROFILE_STRING': 'Default', 'HOMEDRIVE': 'C:', 'HOMEPATH': '\\\\Users\\\\Student', 'LOCALAPPDATA': 'C:\\\\Users\\\\Student\\\\AppData\\\\Local', 'LOGONSERVER': '\\\\\\\\DESKTOP-D6EN7PF', 'NUMBER_OF_PROCESSORS': '3', 'ONEDRIVE': 'C:\\\\Users\\\\Student\\\\OneDrive', 'OS': 'Windows_NT', 'PATH': 'C:\\\\ProgramData\\\\Anaconda3;C:\\\\ProgramData\\\\Anaconda3\\\\Library\\\\mingw-w64\\\\bin;C:\\\\ProgramData\\\\Anaconda3\\\\Library\\\\usr\\\\bin;C:\\\\ProgramData\\\\Anaconda3\\\\Library\\\\bin;C:\\\\ProgramData\\\\Anaconda3\\\\Scripts;C:\\\\ProgramData\\\\Anaconda3\\\\bin;C:\\\\ProgramData\\\\Anaconda3\\\\condabin;C:\\\\ProgramData\\\\Anaconda3;C:\\\\ProgramData\\\\Anaconda3\\\\Library\\\\mingw-w64\\\\bin;C:\\\\ProgramData\\\\Anaconda3\\\\Library\\\\usr\\\\bin;C:\\\\ProgramData\\\\Anaconda3\\\\Library\\\\bin;C:\\\\ProgramData\\\\Anaconda3\\\\Scripts;C:\\\\Windows\\\\system32;C:\\\\Windows;C:\\\\Windows\\\\System32\\\\Wbem;C:\\\\Windows\\\\System32\\\\WindowsPowerShell\\\\v1.0;C:\\\\Windows\\\\System32\\\\OpenSSH;C:\\\\Users\\\\Student\\\\AppData\\\\Local\\\\Microsoft\\\\WindowsApps;.', 'PATHEXT': '.COM;.EXE;.BAT;.CMD;.VBS;.VBE;.JS;.JSE;.WSF;.WSH;.MSC', 'PROCESSOR_ARCHITECTURE': 'AMD64', 'PROCESSOR_IDENTIFIER': 'Intel64 Family 6 Model 30 Stepping 5, GenuineIntel', 'PROCESSOR_LEVEL': '6', 'PROCESSOR_REVISION': '1e05', 'PROGRAMDATA': 'C:\\\\ProgramData', 'PROGRAMFILES': 'C:\\\\Program Files', 'PROGRAMFILES(X86)': 'C:\\\\Program Files (x86)', 'PROGRAMW6432': 'C:\\\\Program Files', 'PROMPT': '(base) $P$G', 'PSMODULEPATH': 'C:\\\\Program Files\\\\WindowsPowerShell\\\\Modules;C:\\\\Windows\\\\system32\\\\WindowsPowerShell\\\\v1.0\\\\Modules', 'PUBLIC': 'C:\\\\Users\\\\Public', 'SESSIONNAME': 'Console', 'SYSTEMDRIVE': 'C:', 'SYSTEMROOT': 'C:\\\\Windows', 'TEMP': 'C:\\\\Users\\\\Student\\\\AppData\\\\Local\\\\Temp', 'TMP': 'C:\\\\Users\\\\Student\\\\AppData\\\\Local\\\\Temp', 'USERDOMAIN': 'DESKTOP-D6EN7PF', 'USERDOMAIN_ROAMINGPROFILE': 'DESKTOP-D6EN7PF', 'USERNAME': 'Student', 'USERPROFILE': 'C:\\\\Users\\\\Student', 'WINDIR': 'C:\\\\Windows', 'CONDA_PREFIX': 'C:\\\\ProgramData\\\\Anaconda3', 'CONDA_ROOT': 'C:\\\\ProgramData\\\\Anaconda3', 'PYDEVD_USE_FRAME_EVAL': 'NO', 'JPY_INTERRUPT_EVENT': '3724', 'IPY_INTERRUPT_EVENT': '3724', 'JPY_PARENT_PID': '3628', 'TERM': 'xterm-color', 'CLICOLOR': '1', 'PAGER': 'cat', 'GIT_PAGER': 'cat', 'MPLBACKEND': 'module://matplotlib_inline.backend_inline'})\n"
     ]
    }
   ],
   "source": [
    "print(os.environ)"
   ]
  },
  {
   "cell_type": "code",
   "execution_count": 34,
   "id": "ce988210",
   "metadata": {},
   "outputs": [
    {
     "name": "stdout",
     "output_type": "stream",
     "text": [
      "C:\\Users\\Student\\AppData\\Local\\Temp\n"
     ]
    }
   ],
   "source": [
    "print(os.environ.get('TEMP'))"
   ]
  },
  {
   "cell_type": "code",
   "execution_count": 35,
   "id": "94e36785",
   "metadata": {},
   "outputs": [
    {
     "name": "stdout",
     "output_type": "stream",
     "text": [
      "None\n"
     ]
    }
   ],
   "source": [
    "print(os.environ.get('STUFF'))"
   ]
  },
  {
   "cell_type": "code",
   "execution_count": 36,
   "id": "f33244de",
   "metadata": {},
   "outputs": [
    {
     "name": "stdout",
     "output_type": "stream",
     "text": [
      "None\n"
     ]
    }
   ],
   "source": [
    "print(os.environ.get('HOME'))"
   ]
  },
  {
   "cell_type": "code",
   "execution_count": 37,
   "id": "f87723c7",
   "metadata": {},
   "outputs": [
    {
     "name": "stdout",
     "output_type": "stream",
     "text": [
      "None\n"
     ]
    }
   ],
   "source": [
    "print(os.environ.get('home'))"
   ]
  },
  {
   "cell_type": "code",
   "execution_count": 38,
   "id": "48106458",
   "metadata": {},
   "outputs": [],
   "source": [
    "#create a file path; this won't create the file iteself\n",
    "\n",
    "file_path = os.path.join(os.environ.get('TEMP'), 'test.txt')"
   ]
  },
  {
   "cell_type": "code",
   "execution_count": 39,
   "id": "d954b3f3",
   "metadata": {},
   "outputs": [
    {
     "name": "stdout",
     "output_type": "stream",
     "text": [
      "C:\\Users\\Student\\AppData\\Local\\Temp\\test.txt\n"
     ]
    }
   ],
   "source": [
    "print(file_path)"
   ]
  },
  {
   "cell_type": "code",
   "execution_count": 40,
   "id": "2c335e70",
   "metadata": {},
   "outputs": [
    {
     "data": {
      "text/plain": [
       "False"
      ]
     },
     "execution_count": 40,
     "metadata": {},
     "output_type": "execute_result"
    }
   ],
   "source": [
    "#check to see if directory exists\n",
    "\n",
    "os.path.exists('/tmp/data/test.txt')"
   ]
  },
  {
   "cell_type": "code",
   "execution_count": 45,
   "id": "21ff9468",
   "metadata": {},
   "outputs": [
    {
     "data": {
      "text/plain": [
       "True"
      ]
     },
     "execution_count": 45,
     "metadata": {},
     "output_type": "execute_result"
    }
   ],
   "source": [
    "os.path.exists('C:\\\\Users\\\\Student\\\\AppData\\\\Local\\\\Temp')"
   ]
  },
  {
   "cell_type": "code",
   "execution_count": 46,
   "id": "f55943ee",
   "metadata": {},
   "outputs": [
    {
     "data": {
      "text/plain": [
       "True"
      ]
     },
     "execution_count": 46,
     "metadata": {},
     "output_type": "execute_result"
    }
   ],
   "source": [
    "#checking to see if something is a file or directory\n",
    "\n",
    "os.path.isdir('C:\\\\Users\\\\Student\\\\AppData\\\\Local\\\\Temp')"
   ]
  },
  {
   "cell_type": "code",
   "execution_count": 49,
   "id": "0f6cb456",
   "metadata": {},
   "outputs": [
    {
     "data": {
      "text/plain": [
       "False"
      ]
     },
     "execution_count": 49,
     "metadata": {},
     "output_type": "execute_result"
    }
   ],
   "source": [
    "os.path.isdir('C:\\\\Users\\\\Student\\\\Desktop\\\\Python\\\\final\\tea.txt')"
   ]
  },
  {
   "cell_type": "code",
   "execution_count": 50,
   "id": "5508d77f",
   "metadata": {},
   "outputs": [
    {
     "data": {
      "text/plain": [
       "'C:\\\\Users\\\\Student\\\\Desktop\\\\Python'"
      ]
     },
     "execution_count": 50,
     "metadata": {},
     "output_type": "execute_result"
    }
   ],
   "source": [
    "#split a file and its extention\n",
    "\n",
    "os.getcwd()"
   ]
  },
  {
   "cell_type": "code",
   "execution_count": 51,
   "id": "91306f28",
   "metadata": {},
   "outputs": [
    {
     "data": {
      "text/plain": [
       "('final/tea', '.txt')"
      ]
     },
     "execution_count": 51,
     "metadata": {},
     "output_type": "execute_result"
    }
   ],
   "source": [
    "os.path.splitext('final/tea.txt')"
   ]
  },
  {
   "cell_type": "code",
   "execution_count": null,
   "id": "45f9ca1c",
   "metadata": {},
   "outputs": [],
   "source": []
  }
 ],
 "metadata": {
  "kernelspec": {
   "display_name": "Python 3 (ipykernel)",
   "language": "python",
   "name": "python3"
  },
  "language_info": {
   "codemirror_mode": {
    "name": "ipython",
    "version": 3
   },
   "file_extension": ".py",
   "mimetype": "text/x-python",
   "name": "python",
   "nbconvert_exporter": "python",
   "pygments_lexer": "ipython3",
   "version": "3.9.12"
  }
 },
 "nbformat": 4,
 "nbformat_minor": 5
}
