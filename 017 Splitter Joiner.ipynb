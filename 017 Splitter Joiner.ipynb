{
 "cells": [
  {
   "cell_type": "code",
   "execution_count": 1,
   "id": "f6e84fa5",
   "metadata": {},
   "outputs": [],
   "source": [
    "#splitter joiner"
   ]
  },
  {
   "cell_type": "code",
   "execution_count": 5,
   "id": "8c1ada01",
   "metadata": {},
   "outputs": [],
   "source": [
    "def splitter():\n",
    "    buffer_size = 1000000 #bytes\n",
    "    in_file = open('Wildlife.wmv', 'rb')\n",
    "    file_prefix = 'Wildlife'\n",
    "    buffer = in_file.read(buffer_size)\n",
    "    i = 0\n",
    "    while len(buffer):\n",
    "        file_prefix += str(i) #file_prefix = file_prefix + str(i)\n",
    "        out_file = open(file_prefix, 'wb')\n",
    "        out_file.write(buffer)\n",
    "        out_file.close()\n",
    "        print('.', end='') #progressbar\n",
    "        buffer = in_file.read(buffer_size)\n",
    "        i += 1\n",
    "        file_prefix = 'Wildlife'\n",
    "    in_file.close()\n",
    "    print()\n",
    "    print('Files splitted')"
   ]
  },
  {
   "cell_type": "code",
   "execution_count": 6,
   "id": "2c14c181",
   "metadata": {},
   "outputs": [
    {
     "name": "stdout",
     "output_type": "stream",
     "text": [
      "...........................\n",
      "Files splitted\n"
     ]
    }
   ],
   "source": [
    "splitter()"
   ]
  },
  {
   "cell_type": "code",
   "execution_count": 12,
   "id": "1c4ec63a",
   "metadata": {},
   "outputs": [],
   "source": [
    "def joiner():\n",
    "    out_file = open('NewWildlife.wmv', 'ab')\n",
    "    file_prefix = 'Wildlife'\n",
    "    in_file = open(file_prefix + str(0), 'rb')\n",
    "    buffer = in_file.read()\n",
    "    i = 0\n",
    "    while len(buffer):\n",
    "        out_file.write(buffer)\n",
    "        print('.', end='')\n",
    "        i += 1\n",
    "        if i == 27:\n",
    "            break\n",
    "        file_prefix = 'Wildlife'\n",
    "        file_prefix += str(i)\n",
    "        in_file = open(file_prefix, 'rb')\n",
    "        buffer = in_file.read()\n",
    "    out_file.close()\n",
    "    print()\n",
    "    print('Files rejoined')"
   ]
  },
  {
   "cell_type": "code",
   "execution_count": 13,
   "id": "c20c06ec",
   "metadata": {},
   "outputs": [
    {
     "name": "stdout",
     "output_type": "stream",
     "text": [
      "...........................\n",
      "Files rejoined\n"
     ]
    }
   ],
   "source": [
    "joiner()"
   ]
  },
  {
   "cell_type": "code",
   "execution_count": null,
   "id": "0a7929e9",
   "metadata": {},
   "outputs": [],
   "source": []
  }
 ],
 "metadata": {
  "kernelspec": {
   "display_name": "Python 3 (ipykernel)",
   "language": "python",
   "name": "python3"
  },
  "language_info": {
   "codemirror_mode": {
    "name": "ipython",
    "version": 3
   },
   "file_extension": ".py",
   "mimetype": "text/x-python",
   "name": "python",
   "nbconvert_exporter": "python",
   "pygments_lexer": "ipython3",
   "version": "3.9.12"
  }
 },
 "nbformat": 4,
 "nbformat_minor": 5
}
