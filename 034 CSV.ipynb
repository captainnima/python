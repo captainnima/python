{
 "cells": [
  {
   "cell_type": "markdown",
   "metadata": {},
   "source": [
    "# 034 CSV"
   ]
  },
  {
   "cell_type": "code",
   "execution_count": 1,
   "metadata": {},
   "outputs": [],
   "source": [
    "#working with csv files\n",
    "\n",
    "import csv"
   ]
  },
  {
   "cell_type": "code",
   "execution_count": 2,
   "metadata": {},
   "outputs": [],
   "source": [
    "csv_file = open('sample.csv', 'r')\n",
    "csv_reader = csv.reader(csv_file)"
   ]
  },
  {
   "cell_type": "code",
   "execution_count": 3,
   "metadata": {},
   "outputs": [
    {
     "name": "stdout",
     "output_type": "stream",
     "text": [
      "<_csv.reader object at 0x107383450>\n"
     ]
    }
   ],
   "source": [
    "print(csv_reader)"
   ]
  },
  {
   "cell_type": "code",
   "execution_count": 4,
   "metadata": {},
   "outputs": [
    {
     "name": "stdout",
     "output_type": "stream",
     "text": [
      "['FIRST NAME', 'LAST NAME', 'USERNAME', 'PASSWORD', 'EMAIL ADDRESS', 'PHONE NUMBER', 'PASSPORT', 'GROUPS', 'USERCODE', 'TITLE', 'ADDRESS 1', 'ADDRESS 2', 'CITY', 'STATE', 'ZIP']\n",
      "\n",
      "['Frank', 'Riley', 'friley', 'changeme', 'friley@kanab.org', '123-456-7890', '3', '1,3', '1040', 'Teacher', '328 Innovation', 'Suite # 200 ', 'state college', 'PA', '16803']\n",
      "\n",
      "['Steve', 'Brannigan', 'sbrannigan', 'changeme', 'sbrannigan@kanab.org', '123-456-7890', '3', '1', '1041', 'Teacher', '328 Innovation', 'Suite # 200 ', 'state college', 'PA', '16803']\n",
      "\n",
      "['Marie', 'Ambrose', 'mambrose', 'changeme', 'mambrose@kanab.org', '123-456-7890', '3', '1', '1042', 'Teacher', '328 Innovation', 'Suite # 200 ', 'state college', 'PA', '16803']\n",
      "\n"
     ]
    }
   ],
   "source": [
    "#we need to iterate over the csv_reader\n",
    "\n",
    "for line in csv_reader:\n",
    "    print(line) #each line is a list of values\n",
    "    print()"
   ]
  },
  {
   "cell_type": "code",
   "execution_count": 5,
   "metadata": {},
   "outputs": [
    {
     "name": "stdout",
     "output_type": "stream",
     "text": [
      "EMAIL ADDRESS\n",
      "friley@kanab.org\n",
      "sbrannigan@kanab.org\n",
      "mambrose@kanab.org\n"
     ]
    }
   ],
   "source": [
    "#let's get all the emails\n",
    "\n",
    "csv_file = open('sample.csv', 'r')\n",
    "csv_reader = csv.reader(csv_file)\n",
    "for line in csv_reader:\n",
    "    print(line[4])"
   ]
  },
  {
   "cell_type": "code",
   "execution_count": 6,
   "metadata": {},
   "outputs": [
    {
     "name": "stdout",
     "output_type": "stream",
     "text": [
      "friley@kanab.org\n",
      "sbrannigan@kanab.org\n",
      "mambrose@kanab.org\n"
     ]
    }
   ],
   "source": [
    "#we don't want to see the header so let's step over it\n",
    "\n",
    "csv_file = open('sample.csv', 'r')\n",
    "csv_reader = csv.reader(csv_file)\n",
    "next(csv_reader) #step over the item\n",
    "for line in csv_reader:\n",
    "    print(line[4])"
   ]
  },
  {
   "cell_type": "code",
   "execution_count": 9,
   "metadata": {},
   "outputs": [
    {
     "name": "stdout",
     "output_type": "stream",
     "text": [
      "...."
     ]
    }
   ],
   "source": [
    "#writing to a csv file with '-' as delimiter\n",
    "\n",
    "csv_file = open('sample.csv', 'r')\n",
    "csv_reader = csv.reader(csv_file)\n",
    "\n",
    "new_file = open('new_sample.csv', 'w')\n",
    "csv_writer = csv.writer(new_file, delimiter='-')\n",
    "\n",
    "for line in csv_reader:\n",
    "    csv_writer.writerow(line)\n",
    "    print('.', end='')\n",
    "csv_file.close()"
   ]
  },
  {
   "cell_type": "code",
   "execution_count": 11,
   "metadata": {},
   "outputs": [
    {
     "name": "stdout",
     "output_type": "stream",
     "text": [
      "...."
     ]
    }
   ],
   "source": [
    "#writing to a tab delimited file\n",
    "\n",
    "csv_file = open('sample.csv', 'r')\n",
    "csv_reader = csv.reader(csv_file)\n",
    "\n",
    "tab_file = open('tab_sample.csv', 'w')\n",
    "csv_writer = csv.writer(tab_file, delimiter='\\t')\n",
    "\n",
    "for line in csv_reader:\n",
    "    csv_writer.writerow(line)\n",
    "    print('.', end='')\n",
    "csv_file.close()"
   ]
  },
  {
   "cell_type": "code",
   "execution_count": 12,
   "metadata": {},
   "outputs": [
    {
     "name": "stdout",
     "output_type": "stream",
     "text": [
      "['FIRST NAME', 'LAST NAME', 'USERNAME', 'PASSWORD', 'EMAIL ADDRESS', 'PHONE NUMBER', 'PASSPORT', 'GROUPS', 'USERCODE', 'TITLE', 'ADDRESS 1', 'ADDRESS 2', 'CITY', 'STATE', 'ZIP']\n",
      "['Frank', 'Riley', 'friley', 'changeme', 'friley@kanab.org', '123-456-7890', '3', '1,3', '1040', 'Teacher', '328 Innovation', 'Suite # 200 ', 'state college', 'PA', '16803']\n",
      "['Steve', 'Brannigan', 'sbrannigan', 'changeme', 'sbrannigan@kanab.org', '123-456-7890', '3', '1', '1041', 'Teacher', '328 Innovation', 'Suite # 200 ', 'state college', 'PA', '16803']\n",
      "['Marie', 'Ambrose', 'mambrose', 'changeme', 'mambrose@kanab.org', '123-456-7890', '3', '1', '1042', 'Teacher', '328 Innovation', 'Suite # 200 ', 'state college', 'PA', '16803']\n"
     ]
    }
   ],
   "source": [
    "csv_file = open('tab_sample.csv', 'r')\n",
    "csv_reader = csv.reader(csv_file, delimiter='\\t')\n",
    "for line in csv_reader:\n",
    "    print(line)\n",
    "csv_file.close()"
   ]
  },
  {
   "cell_type": "code",
   "execution_count": null,
   "metadata": {},
   "outputs": [],
   "source": []
  },
  {
   "cell_type": "code",
   "execution_count": null,
   "metadata": {},
   "outputs": [],
   "source": []
  }
 ],
 "metadata": {
  "kernelspec": {
   "display_name": "Python 3 (ipykernel)",
   "language": "python",
   "name": "python3"
  },
  "language_info": {
   "codemirror_mode": {
    "name": "ipython",
    "version": 3
   },
   "file_extension": ".py",
   "mimetype": "text/x-python",
   "name": "python",
   "nbconvert_exporter": "python",
   "pygments_lexer": "ipython3",
   "version": "3.11.5"
  }
 },
 "nbformat": 4,
 "nbformat_minor": 2
}
