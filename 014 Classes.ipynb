{
 "cells": [
  {
   "cell_type": "code",
   "execution_count": 1,
   "id": "82ac4bd6",
   "metadata": {},
   "outputs": [],
   "source": [
    "#classes allow logical grouping of functions and data (methods and attributes)"
   ]
  },
  {
   "cell_type": "code",
   "execution_count": 2,
   "id": "38e114f9",
   "metadata": {},
   "outputs": [],
   "source": [
    "#empty class with no attributes or methods\n",
    "\n",
    "class Employee:\n",
    "    pass"
   ]
  },
  {
   "cell_type": "code",
   "execution_count": 3,
   "id": "8665fbef",
   "metadata": {},
   "outputs": [],
   "source": [
    "#instances of the class (that is objects)\n",
    "\n",
    "emp_1 = Employee()\n",
    "emp_2 = Employee()"
   ]
  },
  {
   "cell_type": "code",
   "execution_count": 4,
   "id": "8c2caa3b",
   "metadata": {},
   "outputs": [
    {
     "name": "stdout",
     "output_type": "stream",
     "text": [
      "<__main__.Employee object at 0x000001A6B7FE4100>\n"
     ]
    }
   ],
   "source": [
    "print(emp_1)"
   ]
  },
  {
   "cell_type": "code",
   "execution_count": 5,
   "id": "579c9e89",
   "metadata": {},
   "outputs": [
    {
     "name": "stdout",
     "output_type": "stream",
     "text": [
      "1815563092224\n"
     ]
    }
   ],
   "source": [
    "print(id(emp_1))"
   ]
  },
  {
   "cell_type": "code",
   "execution_count": 6,
   "id": "4e113868",
   "metadata": {},
   "outputs": [],
   "source": [
    "#add instance variables to Employee\n",
    "#instance variables are unique to each instance of the object\n",
    "#they are in fact called properties"
   ]
  },
  {
   "cell_type": "code",
   "execution_count": 7,
   "id": "5b3ec328",
   "metadata": {},
   "outputs": [],
   "source": [
    "emp_1.first = 'Bugs'\n",
    "emp_1.last = 'Bunny'\n",
    "emp_1.pay = 100000\n",
    "\n",
    "emp_2.first = 'Daffy'\n",
    "emp_2.last = 'Duck'\n",
    "emp_2.pay = 80000\n",
    "\n"
   ]
  },
  {
   "cell_type": "code",
   "execution_count": 8,
   "id": "6007456b",
   "metadata": {},
   "outputs": [
    {
     "name": "stdout",
     "output_type": "stream",
     "text": [
      "Bugs Bunny 100000\n"
     ]
    }
   ],
   "source": [
    "print(emp_1.first, emp_1.last, emp_1.pay)"
   ]
  },
  {
   "cell_type": "code",
   "execution_count": 10,
   "id": "06656e74",
   "metadata": {},
   "outputs": [],
   "source": [
    "#to avoid setting the variables manually like this,\n",
    "#we can declare these as instance variables inside\n",
    "#the class definition\n",
    "\n",
    "#to do this, we use the __init__ constructor\n",
    "#when creating corresponding functionality (methods), they receive\n",
    "#the instance as the first parameter; by convention we call this\n",
    "#self\n",
    "\n",
    "#think about it like this: when we write self.first = f, it's like\n",
    "#earlier when we wrote emp_1.first = 'Bugs'; it's just now that this\n",
    "#is done automatically in out constructor\n",
    "\n",
    "\n",
    "class Employee:\n",
    "    def __init__(self, f, l, p=50000): #construtor method\n",
    "        self.first = f\n",
    "        self.last = l\n",
    "        self.pay = p\n",
    "        self.email = f + '.' + l + '@company.edu'"
   ]
  },
  {
   "cell_type": "code",
   "execution_count": 11,
   "id": "176ea56d",
   "metadata": {},
   "outputs": [],
   "source": [
    "emp_3 = Employee('Porky', 'Pig', 90000)"
   ]
  },
  {
   "cell_type": "code",
   "execution_count": 12,
   "id": "24c6b422",
   "metadata": {},
   "outputs": [
    {
     "name": "stdout",
     "output_type": "stream",
     "text": [
      "Porky Pig 90000\n"
     ]
    }
   ],
   "source": [
    "print(emp_3.first, emp_3.last, emp_3.pay)"
   ]
  },
  {
   "cell_type": "code",
   "execution_count": 13,
   "id": "9000e215",
   "metadata": {},
   "outputs": [
    {
     "name": "stdout",
     "output_type": "stream",
     "text": [
      "Porky.Pig@company.edu\n"
     ]
    }
   ],
   "source": [
    "print(emp_3.email)"
   ]
  },
  {
   "cell_type": "code",
   "execution_count": 16,
   "id": "ef660306",
   "metadata": {},
   "outputs": [],
   "source": [
    "class Employee:\n",
    "    def __init__(self, first, last, pay=50000): #construtor method\n",
    "        self.first = first\n",
    "        self.last = last\n",
    "        self.pay = pay\n",
    "        self.email = first + '.' + last + '@company.edu'\n",
    "        \n",
    "    def full_name(self):\n",
    "        return self.first + ' ' + self.last"
   ]
  },
  {
   "cell_type": "code",
   "execution_count": 17,
   "id": "9311c6cb",
   "metadata": {},
   "outputs": [],
   "source": [
    "emp_4 = Employee('Pete', 'Puma')"
   ]
  },
  {
   "cell_type": "code",
   "execution_count": 18,
   "id": "c6288d0a",
   "metadata": {},
   "outputs": [
    {
     "name": "stdout",
     "output_type": "stream",
     "text": [
      "50000\n"
     ]
    }
   ],
   "source": [
    "print(emp_4.pay)"
   ]
  },
  {
   "cell_type": "code",
   "execution_count": 19,
   "id": "94d57bc8",
   "metadata": {},
   "outputs": [
    {
     "data": {
      "text/plain": [
       "'Pete Puma'"
      ]
     },
     "execution_count": 19,
     "metadata": {},
     "output_type": "execute_result"
    }
   ],
   "source": [
    "emp_4.full_name()"
   ]
  },
  {
   "cell_type": "code",
   "execution_count": 20,
   "id": "51fcd121",
   "metadata": {},
   "outputs": [
    {
     "name": "stdout",
     "output_type": "stream",
     "text": [
      "Pete Puma\n"
     ]
    }
   ],
   "source": [
    "print(emp_4.full_name())"
   ]
  },
  {
   "cell_type": "code",
   "execution_count": 21,
   "id": "a60cd026",
   "metadata": {},
   "outputs": [],
   "source": [
    "class Employee:\n",
    "    def __init__(self, first, last, pay=50000): #construtor method\n",
    "        self.first = first\n",
    "        self.last = last\n",
    "        self.pay = pay\n",
    "        self.email = first + '.' + last + '@company.edu'\n",
    "        \n",
    "    def full_name(self):\n",
    "        return self.first + ' ' + self.last\n",
    "    \n",
    "    def apply_raise(self):\n",
    "        self.pay = int(self.pay * 1.04)"
   ]
  },
  {
   "cell_type": "code",
   "execution_count": 22,
   "id": "b8168b9f",
   "metadata": {},
   "outputs": [],
   "source": [
    "emp_5 = Employee('Marvin', 'Martian')"
   ]
  },
  {
   "cell_type": "code",
   "execution_count": 23,
   "id": "05290d87",
   "metadata": {},
   "outputs": [
    {
     "data": {
      "text/plain": [
       "'Marvin Martian'"
      ]
     },
     "execution_count": 23,
     "metadata": {},
     "output_type": "execute_result"
    }
   ],
   "source": [
    "emp_5.full_name()"
   ]
  },
  {
   "cell_type": "code",
   "execution_count": 24,
   "id": "bf74cf02",
   "metadata": {},
   "outputs": [
    {
     "data": {
      "text/plain": [
       "50000"
      ]
     },
     "execution_count": 24,
     "metadata": {},
     "output_type": "execute_result"
    }
   ],
   "source": [
    "emp_5.pay"
   ]
  },
  {
   "cell_type": "code",
   "execution_count": 25,
   "id": "077fc237",
   "metadata": {},
   "outputs": [],
   "source": [
    "emp_5.apply_raise()"
   ]
  },
  {
   "cell_type": "code",
   "execution_count": 26,
   "id": "93e242ee",
   "metadata": {},
   "outputs": [
    {
     "data": {
      "text/plain": [
       "52000"
      ]
     },
     "execution_count": 26,
     "metadata": {},
     "output_type": "execute_result"
    }
   ],
   "source": [
    "emp_5.pay"
   ]
  },
  {
   "cell_type": "code",
   "execution_count": 27,
   "id": "b1af241c",
   "metadata": {},
   "outputs": [],
   "source": [
    "#working with class variables\n",
    "#class variables are different from instance variables\n",
    "#class variables are there for \"every\" instance of the class\n",
    "#that is for all objects\n",
    "\n",
    "class Employee:\n",
    "    raise_amount = 1.04 #class variable\n",
    "    \n",
    "    def __init__(self, first, last, pay=50000): #construtor method\n",
    "        self.first = first\n",
    "        self.last = last\n",
    "        self.pay = pay\n",
    "        self.email = first + '.' + last + '@company.edu'\n",
    "        \n",
    "    def full_name(self):\n",
    "        return self.first + ' ' + self.last\n",
    "    \n",
    "    def apply_raise(self):\n",
    "        self.pay = int(self.pay * self.raise_amount)"
   ]
  },
  {
   "cell_type": "code",
   "execution_count": 28,
   "id": "9e7bb587",
   "metadata": {},
   "outputs": [],
   "source": [
    "emp_6 = Employee('Mickey', 'Mouse', 70000)"
   ]
  },
  {
   "cell_type": "code",
   "execution_count": 29,
   "id": "fca99413",
   "metadata": {},
   "outputs": [
    {
     "name": "stdout",
     "output_type": "stream",
     "text": [
      "Mickey Mouse 70000\n"
     ]
    }
   ],
   "source": [
    "print(emp_6.full_name(), emp_6.pay)"
   ]
  },
  {
   "cell_type": "code",
   "execution_count": 30,
   "id": "6de27ac9",
   "metadata": {},
   "outputs": [],
   "source": [
    "emp_6.apply_raise()"
   ]
  },
  {
   "cell_type": "code",
   "execution_count": 31,
   "id": "500ee6bf",
   "metadata": {},
   "outputs": [
    {
     "name": "stdout",
     "output_type": "stream",
     "text": [
      "72800\n"
     ]
    }
   ],
   "source": [
    "print(emp_6.pay)"
   ]
  },
  {
   "cell_type": "code",
   "execution_count": 32,
   "id": "a515935b",
   "metadata": {},
   "outputs": [],
   "source": [
    "Employee.raise_amount = 1.07"
   ]
  },
  {
   "cell_type": "code",
   "execution_count": 33,
   "id": "1a639953",
   "metadata": {},
   "outputs": [],
   "source": [
    "emp_6.apply_raise()"
   ]
  },
  {
   "cell_type": "code",
   "execution_count": 34,
   "id": "4daf8737",
   "metadata": {},
   "outputs": [
    {
     "name": "stdout",
     "output_type": "stream",
     "text": [
      "77896\n"
     ]
    }
   ],
   "source": [
    "print(emp_6.pay)"
   ]
  },
  {
   "cell_type": "code",
   "execution_count": 37,
   "id": "f327c4e4",
   "metadata": {},
   "outputs": [
    {
     "name": "stdout",
     "output_type": "stream",
     "text": [
      "{'first': 'Mickey', 'last': 'Mouse', 'pay': 77896, 'email': 'Mickey.Mouse@company.edu'}\n"
     ]
    }
   ],
   "source": [
    "#print out the name space of an instance\n",
    "#no mention of the raise_amount variable since it is a class variable\n",
    "#and not an instance variable\n",
    "\n",
    "print(emp_6.__dict__)"
   ]
  },
  {
   "cell_type": "code",
   "execution_count": 38,
   "id": "a9b19f6e",
   "metadata": {},
   "outputs": [
    {
     "name": "stdout",
     "output_type": "stream",
     "text": [
      "Bernard Mouse 100000\n"
     ]
    }
   ],
   "source": [
    "temp_emp = Employee('Bernard', 'Mouse', 100000)\n",
    "print(temp_emp.full_name(), temp_emp.pay)"
   ]
  },
  {
   "cell_type": "code",
   "execution_count": 39,
   "id": "e1d56ea8",
   "metadata": {},
   "outputs": [],
   "source": [
    "temp_emp.apply_raise()"
   ]
  },
  {
   "cell_type": "code",
   "execution_count": 40,
   "id": "9ec7fc20",
   "metadata": {},
   "outputs": [
    {
     "name": "stdout",
     "output_type": "stream",
     "text": [
      "107000\n"
     ]
    }
   ],
   "source": [
    "print(temp_emp.pay)"
   ]
  },
  {
   "cell_type": "code",
   "execution_count": 41,
   "id": "4ade22c5",
   "metadata": {},
   "outputs": [
    {
     "name": "stdout",
     "output_type": "stream",
     "text": [
      "{'__module__': '__main__', 'raise_amount': 1.07, '__init__': <function Employee.__init__ at 0x000001A6B9DDAA60>, 'full_name': <function Employee.full_name at 0x000001A6B9E03040>, 'apply_raise': <function Employee.apply_raise at 0x000001A6B9E030D0>, '__dict__': <attribute '__dict__' of 'Employee' objects>, '__weakref__': <attribute '__weakref__' of 'Employee' objects>, '__doc__': None}\n"
     ]
    }
   ],
   "source": [
    "#print the class name space; notice that the class variable shows up\n",
    "\n",
    "print(Employee.__dict__)"
   ]
  },
  {
   "cell_type": "code",
   "execution_count": 42,
   "id": "a8a83c1b",
   "metadata": {},
   "outputs": [
    {
     "name": "stdout",
     "output_type": "stream",
     "text": [
      "Mickey Mouse\n"
     ]
    }
   ],
   "source": [
    "#change the class variable for an instance\n",
    "\n",
    "print(emp_6.full_name())"
   ]
  },
  {
   "cell_type": "code",
   "execution_count": 43,
   "id": "3f1c1a15",
   "metadata": {},
   "outputs": [
    {
     "name": "stdout",
     "output_type": "stream",
     "text": [
      "1.07\n"
     ]
    }
   ],
   "source": [
    "emp_6.raise_amount = 1.10\n",
    "print(Employee.raise_amount)"
   ]
  },
  {
   "cell_type": "code",
   "execution_count": 44,
   "id": "7efc6d3f",
   "metadata": {},
   "outputs": [
    {
     "name": "stdout",
     "output_type": "stream",
     "text": [
      "1.1\n"
     ]
    }
   ],
   "source": [
    "print(emp_6.raise_amount)"
   ]
  },
  {
   "cell_type": "code",
   "execution_count": 45,
   "id": "a24fc8fe",
   "metadata": {},
   "outputs": [
    {
     "name": "stdout",
     "output_type": "stream",
     "text": [
      "{'first': 'Mickey', 'last': 'Mouse', 'pay': 77896, 'email': 'Mickey.Mouse@company.edu', 'raise_amount': 1.1}\n"
     ]
    }
   ],
   "source": [
    "#remember that each instance looks inside itself to see if an attribute\n",
    "#exists; if not, it checks the parent and so on; in this case, since\n",
    "#we have emp_6 use rasie_amount, when we print out its name space, the\n",
    "#attribute shows up since it was changed for it specifically\n",
    "\n",
    "print(emp_6.__dict__)"
   ]
  },
  {
   "cell_type": "code",
   "execution_count": 46,
   "id": "10265c03",
   "metadata": {},
   "outputs": [],
   "source": [
    "Employee.raise_amount = 1.20"
   ]
  },
  {
   "cell_type": "code",
   "execution_count": 47,
   "id": "4127ed8a",
   "metadata": {},
   "outputs": [
    {
     "name": "stdout",
     "output_type": "stream",
     "text": [
      "{'first': 'Mickey', 'last': 'Mouse', 'pay': 77896, 'email': 'Mickey.Mouse@company.edu', 'raise_amount': 1.1}\n"
     ]
    }
   ],
   "source": [
    "print(emp_6.__dict__)"
   ]
  },
  {
   "cell_type": "code",
   "execution_count": 48,
   "id": "ec037513",
   "metadata": {},
   "outputs": [
    {
     "name": "stdout",
     "output_type": "stream",
     "text": [
      "77896\n"
     ]
    }
   ],
   "source": [
    "print(emp_6.pay)"
   ]
  },
  {
   "cell_type": "code",
   "execution_count": 49,
   "id": "6f28ff7c",
   "metadata": {},
   "outputs": [],
   "source": [
    "emp_6.apply_raise()"
   ]
  },
  {
   "cell_type": "code",
   "execution_count": 50,
   "id": "0f7d918a",
   "metadata": {},
   "outputs": [
    {
     "name": "stdout",
     "output_type": "stream",
     "text": [
      "85685\n"
     ]
    }
   ],
   "source": [
    "print(emp_6.pay)"
   ]
  },
  {
   "cell_type": "code",
   "execution_count": 51,
   "id": "4c45ed7c",
   "metadata": {},
   "outputs": [],
   "source": [
    "del emp_6.raise_amount"
   ]
  },
  {
   "cell_type": "code",
   "execution_count": 52,
   "id": "aa849466",
   "metadata": {},
   "outputs": [
    {
     "name": "stdout",
     "output_type": "stream",
     "text": [
      "{'first': 'Mickey', 'last': 'Mouse', 'pay': 85685, 'email': 'Mickey.Mouse@company.edu'}\n"
     ]
    }
   ],
   "source": [
    "print(emp_6.__dict__)"
   ]
  },
  {
   "cell_type": "code",
   "execution_count": 53,
   "id": "295a344b",
   "metadata": {},
   "outputs": [],
   "source": [
    "emp_6.apply_raise()"
   ]
  },
  {
   "cell_type": "code",
   "execution_count": 54,
   "id": "bc29db57",
   "metadata": {},
   "outputs": [
    {
     "name": "stdout",
     "output_type": "stream",
     "text": [
      "102822\n"
     ]
    }
   ],
   "source": [
    "print(emp_6.pay)"
   ]
  },
  {
   "cell_type": "code",
   "execution_count": 1,
   "id": "643f2e11",
   "metadata": {},
   "outputs": [],
   "source": [
    "class Employee:\n",
    "    raise_amount = 1.04 #class variable\n",
    "    num_of_emps = 0 #number of employees\n",
    "    \n",
    "    def __init__(self, first, last, pay=50000): #construtor method\n",
    "        self.first = first\n",
    "        self.last = last\n",
    "        self.pay = pay\n",
    "        self.email = first + '.' + last + '@company.edu'\n",
    "        \n",
    "        Employee.num_of_emps += 1 #add 1 each time a new employee is added\n",
    "                                  #notice the Employee class sicne we do not\n",
    "                                  #want the total number of employees to be\n",
    "                                  #different for every instance\n",
    "        \n",
    "    def __del__(self):\n",
    "        Employee.num_of_emps -= 1\n",
    "        \n",
    "    def full_name(self):\n",
    "        return self.first + ' ' + self.last\n",
    "    \n",
    "    def apply_raise(self):\n",
    "        self.pay = int(self.pay * self.raise_amount)"
   ]
  },
  {
   "cell_type": "code",
   "execution_count": 2,
   "id": "fb46601b",
   "metadata": {},
   "outputs": [],
   "source": [
    "emp_7 = Employee('Bianca', 'Mouse', 70000)\n",
    "emp_8 = Employee('Bernard', 'Mouse', 70000)"
   ]
  },
  {
   "cell_type": "code",
   "execution_count": 3,
   "id": "3faaddea",
   "metadata": {},
   "outputs": [
    {
     "name": "stdout",
     "output_type": "stream",
     "text": [
      "2\n"
     ]
    }
   ],
   "source": [
    "print(Employee.num_of_emps)"
   ]
  },
  {
   "cell_type": "code",
   "execution_count": 4,
   "id": "1260cda7",
   "metadata": {},
   "outputs": [],
   "source": [
    "del emp_7"
   ]
  },
  {
   "cell_type": "code",
   "execution_count": 5,
   "id": "b2eddeda",
   "metadata": {},
   "outputs": [
    {
     "name": "stdout",
     "output_type": "stream",
     "text": [
      "1\n"
     ]
    }
   ],
   "source": [
    "print(Employee.num_of_emps)"
   ]
  },
  {
   "cell_type": "code",
   "execution_count": 6,
   "id": "2340d692",
   "metadata": {},
   "outputs": [],
   "source": [
    "#decorators\n",
    "\n",
    "class Employee:\n",
    "    raise_amount = 1.04 #class variable\n",
    "    num_of_emps = 0 #number of employees\n",
    "    \n",
    "    def __init__(self, first, last, pay=50000): #construtor method\n",
    "        self.first = first\n",
    "        self.last = last\n",
    "        self.pay = pay\n",
    "        self.email = first + '.' + last + '@company.edu'\n",
    "        \n",
    "        Employee.num_of_emps += 1 #add 1 each time a new employee is added\n",
    "                                  #notice the Employee class sicne we do not\n",
    "                                  #want the total number of employees to be\n",
    "                                  #different for every instance\n",
    "        \n",
    "    def __del__(self):\n",
    "        Employee.num_of_emps -= 1\n",
    "        \n",
    "    def full_name(self):\n",
    "        return self.first + ' ' + self.last\n",
    "    \n",
    "    def apply_raise(self):\n",
    "        self.pay = int(self.pay * self.raise_amount)\n",
    "        \n",
    "    @classmethod    #class method for all instances\n",
    "    def set_raise_amount(cls, amount):\n",
    "        cls.raise_amount = amount"
   ]
  },
  {
   "cell_type": "code",
   "execution_count": 9,
   "id": "8f2f00b9",
   "metadata": {},
   "outputs": [],
   "source": [
    "emp_7 = Employee('Bianca', 'Mouse', 100000)\n",
    "emp_8 = Employee('Bernard', 'Mouse', 100000)"
   ]
  },
  {
   "cell_type": "code",
   "execution_count": 10,
   "id": "1c65d372",
   "metadata": {},
   "outputs": [],
   "source": [
    "Employee.set_raise_amount(1.07)"
   ]
  },
  {
   "cell_type": "code",
   "execution_count": 11,
   "id": "be741e05",
   "metadata": {},
   "outputs": [
    {
     "name": "stdout",
     "output_type": "stream",
     "text": [
      "107000\n",
      "107000\n"
     ]
    }
   ],
   "source": [
    "emp_7.apply_raise()\n",
    "emp_8.apply_raise()\n",
    "\n",
    "print(emp_7.pay)\n",
    "print(emp_8.pay)"
   ]
  },
  {
   "cell_type": "code",
   "execution_count": 12,
   "id": "65cf6ee8",
   "metadata": {},
   "outputs": [
    {
     "name": "stdout",
     "output_type": "stream",
     "text": [
      "['Daisy', 'Duck', '50000']\n"
     ]
    }
   ],
   "source": [
    "#parsing a string\n",
    "\n",
    "emp_str_9 = 'Daisy-Duck-50000'\n",
    "\n",
    "print(emp_str_9.split('-'))"
   ]
  },
  {
   "cell_type": "code",
   "execution_count": 15,
   "id": "296c2a16",
   "metadata": {},
   "outputs": [
    {
     "name": "stdout",
     "output_type": "stream",
     "text": [
      "Daisy Duck 50000\n"
     ]
    }
   ],
   "source": [
    "first, last, pay = emp_str_9.split('-')\n",
    "emp_9 = Employee(first, last, pay)\n",
    "print(emp_9.full_name(), emp_9.pay)"
   ]
  },
  {
   "cell_type": "code",
   "execution_count": 16,
   "id": "b006d589",
   "metadata": {},
   "outputs": [],
   "source": [
    "#above works but it is cumbersome\n",
    "\n",
    "#lets create a new class method to do the work for us\n",
    "\n",
    "class Employee:\n",
    "    raise_amount = 1.04 #class variable\n",
    "    num_of_emps = 0 #number of employees\n",
    "    \n",
    "    def __init__(self, first, last, pay=50000): #construtor method\n",
    "        self.first = first\n",
    "        self.last = last\n",
    "        self.pay = pay\n",
    "        self.email = first + '.' + last + '@company.edu'\n",
    "        \n",
    "        Employee.num_of_emps += 1 #add 1 each time a new employee is added\n",
    "                                  #notice the Employee class sicne we do not\n",
    "                                  #want the total number of employees to be\n",
    "                                  #different for every instance\n",
    "        \n",
    "    def __del__(self):\n",
    "        Employee.num_of_emps -= 1\n",
    "        \n",
    "    def full_name(self):\n",
    "        return self.first + ' ' + self.last\n",
    "    \n",
    "    def apply_raise(self):\n",
    "        self.pay = int(self.pay * self.raise_amount)\n",
    "        \n",
    "    @classmethod    #class method for all instances\n",
    "    def set_raise_amount(cls, amount):\n",
    "        cls.raise_amount = amount\n",
    "        \n",
    "    @classmethod\n",
    "    def from_string(cls, emp_str):\n",
    "        first, last, pay = emp_str.split('-')\n",
    "        return cls(first, last, pay) #create the object and return it"
   ]
  },
  {
   "cell_type": "code",
   "execution_count": 17,
   "id": "2b64b32f",
   "metadata": {},
   "outputs": [
    {
     "name": "stdout",
     "output_type": "stream",
     "text": [
      "Tweety Bird 50000\n"
     ]
    }
   ],
   "source": [
    "emp_str_10 = 'Tweety-Bird-50000'\n",
    "\n",
    "emp_10 = Employee.from_string(emp_str_10)\n",
    "print(emp_10.full_name(), emp_10.pay)"
   ]
  },
  {
   "cell_type": "code",
   "execution_count": 18,
   "id": "e7740a5e",
   "metadata": {},
   "outputs": [],
   "source": [
    "#static methods\n",
    "#regular methods automatically pass their instance as an argument (that is the self)\n",
    "#class methods automatically pass the class as an argument (cls)\n",
    "#static methods do not pass anything automatically; so they are more or less functions\n",
    "\n",
    "class Employee:\n",
    "    raise_amount = 1.04 #class variable\n",
    "    num_of_emps = 0 #number of employees\n",
    "    \n",
    "    def __init__(self, first, last, pay=50000): #construtor method\n",
    "        self.first = first\n",
    "        self.last = last\n",
    "        self.pay = pay\n",
    "        self.email = first + '.' + last + '@company.edu'\n",
    "        \n",
    "        Employee.num_of_emps += 1 #add 1 each time a new employee is added\n",
    "                                  #notice the Employee class sicne we do not\n",
    "                                  #want the total number of employees to be\n",
    "                                  #different for every instance\n",
    "        \n",
    "    def __del__(self):\n",
    "        Employee.num_of_emps -= 1\n",
    "        \n",
    "    def full_name(self):\n",
    "        return self.first + ' ' + self.last\n",
    "    \n",
    "    def apply_raise(self):\n",
    "        self.pay = int(self.pay * self.raise_amount)\n",
    "        \n",
    "    @classmethod    #class method for all instances\n",
    "    def set_raise_amount(cls, amount):\n",
    "        cls.raise_amount = amount\n",
    "        \n",
    "    @classmethod\n",
    "    def from_string(cls, emp_str):\n",
    "        first, last, pay = emp_str.split('-')\n",
    "        return cls(first, last, pay) #create the object and return it\n",
    "    \n",
    "    @staticmethod #static method to determine if a day is a workday\n",
    "    def is_workday(day):\n",
    "        if (day.weekday() == 5 or day.weekday() == 6):\n",
    "            return False\n",
    "        else:\n",
    "            return True"
   ]
  },
  {
   "cell_type": "code",
   "execution_count": 19,
   "id": "229edd30",
   "metadata": {},
   "outputs": [],
   "source": [
    "import datetime"
   ]
  },
  {
   "cell_type": "code",
   "execution_count": 21,
   "id": "f7c4b50b",
   "metadata": {},
   "outputs": [
    {
     "name": "stdout",
     "output_type": "stream",
     "text": [
      "False\n"
     ]
    }
   ],
   "source": [
    "my_date = datetime.date(2019, 7, 14)\n",
    "print(Employee.is_workday(my_date))"
   ]
  },
  {
   "cell_type": "code",
   "execution_count": 22,
   "id": "27fc3b3b",
   "metadata": {},
   "outputs": [
    {
     "name": "stdout",
     "output_type": "stream",
     "text": [
      "True\n"
     ]
    }
   ],
   "source": [
    "my_date = datetime.date(2019, 7, 16)\n",
    "print(Employee.is_workday(my_date))"
   ]
  },
  {
   "cell_type": "code",
   "execution_count": null,
   "id": "57868922",
   "metadata": {},
   "outputs": [],
   "source": [
    "#inheritance and subclasses\n",
    "#inheritance allows attributes and methods to be inherited from parents\n",
    "#we can override the parent classes and subclasses\n",
    "#we can also add addtional functionality"
   ]
  },
  {
   "cell_type": "code",
   "execution_count": 24,
   "id": "1512574d",
   "metadata": {},
   "outputs": [],
   "source": [
    "#create a new inherited class\n",
    "\n",
    "class Developer(Employee):\n",
    "    pass"
   ]
  },
  {
   "cell_type": "code",
   "execution_count": 25,
   "id": "07b47c18",
   "metadata": {},
   "outputs": [
    {
     "name": "stdout",
     "output_type": "stream",
     "text": [
      "Bugs Bunny 10000 Bugs.Bunny@company.edu\n"
     ]
    }
   ],
   "source": [
    "dev_1 = Developer('Bugs', 'Bunny', 10000)\n",
    "print(dev_1.full_name(), dev_1.pay, dev_1.email)"
   ]
  },
  {
   "cell_type": "code",
   "execution_count": 26,
   "id": "5a1b6bb3",
   "metadata": {},
   "outputs": [
    {
     "name": "stdout",
     "output_type": "stream",
     "text": [
      "Help on class Developer in module __main__:\n",
      "\n",
      "class Developer(Employee)\n",
      " |  Developer(first, last, pay=50000)\n",
      " |  \n",
      " |  Method resolution order:\n",
      " |      Developer\n",
      " |      Employee\n",
      " |      builtins.object\n",
      " |  \n",
      " |  Methods inherited from Employee:\n",
      " |  \n",
      " |  __del__(self)\n",
      " |  \n",
      " |  __init__(self, first, last, pay=50000)\n",
      " |      Initialize self.  See help(type(self)) for accurate signature.\n",
      " |  \n",
      " |  apply_raise(self)\n",
      " |  \n",
      " |  full_name(self)\n",
      " |  \n",
      " |  ----------------------------------------------------------------------\n",
      " |  Class methods inherited from Employee:\n",
      " |  \n",
      " |  from_string(emp_str) from builtins.type\n",
      " |  \n",
      " |  set_raise_amount(amount) from builtins.type\n",
      " |  \n",
      " |  ----------------------------------------------------------------------\n",
      " |  Static methods inherited from Employee:\n",
      " |  \n",
      " |  is_workday(day)\n",
      " |  \n",
      " |  ----------------------------------------------------------------------\n",
      " |  Data descriptors inherited from Employee:\n",
      " |  \n",
      " |  __dict__\n",
      " |      dictionary for instance variables (if defined)\n",
      " |  \n",
      " |  __weakref__\n",
      " |      list of weak references to the object (if defined)\n",
      " |  \n",
      " |  ----------------------------------------------------------------------\n",
      " |  Data and other attributes inherited from Employee:\n",
      " |  \n",
      " |  num_of_emps = 1\n",
      " |  \n",
      " |  raise_amount = 1.04\n",
      "\n",
      "None\n"
     ]
    }
   ],
   "source": [
    "#use the help() to show the method resolution order\n",
    "\n",
    "print(help(Developer))"
   ]
  },
  {
   "cell_type": "code",
   "execution_count": 27,
   "id": "d339e1ce",
   "metadata": {},
   "outputs": [],
   "source": [
    "#we want Developers to have a 10% raise\n",
    "\n",
    "class Developer(Employee):\n",
    "    raise_amount = 1.10"
   ]
  },
  {
   "cell_type": "code",
   "execution_count": 28,
   "id": "93abe61b",
   "metadata": {},
   "outputs": [],
   "source": [
    "dev_1 = Developer('Bugs', 'Bunny', 10000)\n",
    "emp_1 = Employee('Daffy', 'Duck', 10000)"
   ]
  },
  {
   "cell_type": "code",
   "execution_count": 29,
   "id": "8ad8de13",
   "metadata": {},
   "outputs": [],
   "source": [
    "dev_1.apply_raise()\n",
    "emp_1.apply_raise()"
   ]
  },
  {
   "cell_type": "code",
   "execution_count": 30,
   "id": "a50bcd12",
   "metadata": {},
   "outputs": [
    {
     "name": "stdout",
     "output_type": "stream",
     "text": [
      "11000\n",
      "10400\n"
     ]
    }
   ],
   "source": [
    "print(dev_1.pay)\n",
    "print(emp_1.pay)"
   ]
  },
  {
   "cell_type": "code",
   "execution_count": 31,
   "id": "0937b130",
   "metadata": {},
   "outputs": [],
   "source": [
    "#we want to pass the main programming language of the developer as a parameter\n",
    "\n",
    "class Developer(Employee):\n",
    "    raise_amount = 1.10\n",
    "    \n",
    "    def __init__(self, first, last, pay, prog_lang):\n",
    "        super().__init__(first, last, pay)\n",
    "        self.prog_lang = prog_lang"
   ]
  },
  {
   "cell_type": "code",
   "execution_count": 32,
   "id": "6d7d171f",
   "metadata": {},
   "outputs": [],
   "source": [
    "dev_1 = Developer('Bugs', 'Bunny', 10000, 'Python')\n",
    "emp_1 = Employee('Daffy', 'Duck', 10000)"
   ]
  },
  {
   "cell_type": "code",
   "execution_count": 33,
   "id": "f07cb83e",
   "metadata": {},
   "outputs": [
    {
     "name": "stdout",
     "output_type": "stream",
     "text": [
      "Bugs Bunny Bugs.Bunny@company.edu Python\n"
     ]
    }
   ],
   "source": [
    "print(dev_1.full_name(), dev_1.email, dev_1.prog_lang)"
   ]
  },
  {
   "cell_type": "code",
   "execution_count": 34,
   "id": "edf9e9af",
   "metadata": {},
   "outputs": [],
   "source": [
    "#create Managers\n",
    "\n",
    "class Manager(Employee):\n",
    "    raise_amount = 1.10\n",
    "    \n",
    "    def __init__(self, first, last, pay, employees=None):\n",
    "        super().__init__(first, last, pay)\n",
    "        \n",
    "        if employees == None:\n",
    "            self.employees = []\n",
    "        else:\n",
    "            self.employees = employees\n",
    "            \n",
    "    def add_employee(self, employee):\n",
    "        if employee not in self.employees:\n",
    "            self.employees.append(employee)\n",
    "            \n",
    "    def remove_employee(self, employee):\n",
    "        if employee in self.employees:\n",
    "            self.employees.remove(employee)\n",
    "            \n",
    "    def print_employees(self):\n",
    "        for employee in self.employees:\n",
    "            print('-->', employee.full_name(), employee.email)"
   ]
  },
  {
   "cell_type": "code",
   "execution_count": 35,
   "id": "ae7c91d7",
   "metadata": {},
   "outputs": [],
   "source": [
    "dev_1 = Developer('Bugs', 'Bunny', 100000, 'Python')\n",
    "dev_2 = Developer('Marvin', 'Martian', 80000, 'C++')\n",
    "emp_1 = Employee('Charlie', 'Dog', 70000)\n",
    "mgr_1 = Manager('Porky', 'Pig', 90000, [dev_1, dev_2, emp_1])"
   ]
  },
  {
   "cell_type": "code",
   "execution_count": 36,
   "id": "2250560c",
   "metadata": {},
   "outputs": [
    {
     "name": "stdout",
     "output_type": "stream",
     "text": [
      "Porky.Pig@company.edu\n"
     ]
    }
   ],
   "source": [
    "print(mgr_1.email)"
   ]
  },
  {
   "cell_type": "code",
   "execution_count": 37,
   "id": "2dad133c",
   "metadata": {},
   "outputs": [
    {
     "name": "stdout",
     "output_type": "stream",
     "text": [
      "--> Bugs Bunny Bugs.Bunny@company.edu\n",
      "--> Marvin Martian Marvin.Martian@company.edu\n",
      "--> Charlie Dog Charlie.Dog@company.edu\n"
     ]
    }
   ],
   "source": [
    "mgr_1.print_employees()"
   ]
  },
  {
   "cell_type": "code",
   "execution_count": 38,
   "id": "447580ab",
   "metadata": {},
   "outputs": [],
   "source": [
    "dev_3 = Developer('Daffy', 'Duck', 80000, 'Java')\n",
    "dev_4 = Developer('Pete', 'Puma', 80000, 'Ada')\n",
    "emp_2 = Employee('Bianca', 'Mouse', 90000)\n",
    "emp_3 = Employee('Bernard', 'Mosue', 90000)"
   ]
  },
  {
   "cell_type": "code",
   "execution_count": 39,
   "id": "cbce282f",
   "metadata": {},
   "outputs": [],
   "source": [
    "mgr_1.add_employee(dev_3)\n",
    "mgr_1.add_employee(dev_4)\n",
    "mgr_1.add_employee(emp_2)\n",
    "mgr_1.add_employee(emp_3)"
   ]
  },
  {
   "cell_type": "code",
   "execution_count": 40,
   "id": "dfb4ae8a",
   "metadata": {},
   "outputs": [
    {
     "name": "stdout",
     "output_type": "stream",
     "text": [
      "--> Bugs Bunny Bugs.Bunny@company.edu\n",
      "--> Marvin Martian Marvin.Martian@company.edu\n",
      "--> Charlie Dog Charlie.Dog@company.edu\n",
      "--> Daffy Duck Daffy.Duck@company.edu\n",
      "--> Pete Puma Pete.Puma@company.edu\n",
      "--> Bianca Mouse Bianca.Mouse@company.edu\n",
      "--> Bernard Mosue Bernard.Mosue@company.edu\n"
     ]
    }
   ],
   "source": [
    "mgr_1.print_employees()"
   ]
  },
  {
   "cell_type": "code",
   "execution_count": 41,
   "id": "d74b4ec4",
   "metadata": {},
   "outputs": [],
   "source": [
    "mgr_1.remove_employee(dev_3)"
   ]
  },
  {
   "cell_type": "code",
   "execution_count": 42,
   "id": "56c14a42",
   "metadata": {},
   "outputs": [
    {
     "name": "stdout",
     "output_type": "stream",
     "text": [
      "--> Bugs Bunny Bugs.Bunny@company.edu\n",
      "--> Marvin Martian Marvin.Martian@company.edu\n",
      "--> Charlie Dog Charlie.Dog@company.edu\n",
      "--> Pete Puma Pete.Puma@company.edu\n",
      "--> Bianca Mouse Bianca.Mouse@company.edu\n",
      "--> Bernard Mosue Bernard.Mosue@company.edu\n"
     ]
    }
   ],
   "source": [
    "mgr_1.print_employees()"
   ]
  },
  {
   "cell_type": "code",
   "execution_count": 43,
   "id": "5cbd9bad",
   "metadata": {},
   "outputs": [
    {
     "name": "stdout",
     "output_type": "stream",
     "text": [
      "Bugs Bunny\n"
     ]
    }
   ],
   "source": [
    "print(dev_1.full_name())"
   ]
  },
  {
   "cell_type": "code",
   "execution_count": 44,
   "id": "af702a6f",
   "metadata": {},
   "outputs": [],
   "source": [
    "mgr_1.add_employee(dev_1)"
   ]
  },
  {
   "cell_type": "code",
   "execution_count": 45,
   "id": "10916cc2",
   "metadata": {},
   "outputs": [
    {
     "name": "stdout",
     "output_type": "stream",
     "text": [
      "--> Bugs Bunny Bugs.Bunny@company.edu\n",
      "--> Marvin Martian Marvin.Martian@company.edu\n",
      "--> Charlie Dog Charlie.Dog@company.edu\n",
      "--> Pete Puma Pete.Puma@company.edu\n",
      "--> Bianca Mouse Bianca.Mouse@company.edu\n",
      "--> Bernard Mosue Bernard.Mosue@company.edu\n"
     ]
    }
   ],
   "source": [
    "mgr_1.print_employees()"
   ]
  },
  {
   "cell_type": "code",
   "execution_count": 46,
   "id": "08136465",
   "metadata": {},
   "outputs": [],
   "source": [
    "#two built-in functions for working with classes\n",
    "#isinstance() and issubclass()"
   ]
  },
  {
   "cell_type": "code",
   "execution_count": 47,
   "id": "060024c7",
   "metadata": {},
   "outputs": [
    {
     "name": "stdout",
     "output_type": "stream",
     "text": [
      "True\n"
     ]
    }
   ],
   "source": [
    "print(isinstance(mgr_1, Employee))"
   ]
  },
  {
   "cell_type": "code",
   "execution_count": 48,
   "id": "8331e87e",
   "metadata": {},
   "outputs": [
    {
     "name": "stdout",
     "output_type": "stream",
     "text": [
      "False\n"
     ]
    }
   ],
   "source": [
    "print(isinstance(mgr_1, Developer))"
   ]
  },
  {
   "cell_type": "code",
   "execution_count": 49,
   "id": "663fbefc",
   "metadata": {},
   "outputs": [
    {
     "ename": "TypeError",
     "evalue": "issubclass() arg 1 must be a class",
     "output_type": "error",
     "traceback": [
      "\u001b[1;31m---------------------------------------------------------------------------\u001b[0m",
      "\u001b[1;31mTypeError\u001b[0m                                 Traceback (most recent call last)",
      "Input \u001b[1;32mIn [49]\u001b[0m, in \u001b[0;36m<cell line: 1>\u001b[1;34m()\u001b[0m\n\u001b[1;32m----> 1\u001b[0m \u001b[38;5;28mprint\u001b[39m(\u001b[38;5;28;43missubclass\u001b[39;49m\u001b[43m(\u001b[49m\u001b[43mmgr_1\u001b[49m\u001b[43m,\u001b[49m\u001b[43m \u001b[49m\u001b[43mEmployee\u001b[49m\u001b[43m)\u001b[49m)\n",
      "\u001b[1;31mTypeError\u001b[0m: issubclass() arg 1 must be a class"
     ]
    }
   ],
   "source": [
    "print(issubclass(mgr_1, Employee))"
   ]
  },
  {
   "cell_type": "code",
   "execution_count": 50,
   "id": "ae7b1d55",
   "metadata": {},
   "outputs": [
    {
     "name": "stdout",
     "output_type": "stream",
     "text": [
      "True\n"
     ]
    }
   ],
   "source": [
    "print(issubclass(Manager, Employee)) #correct way of writing it"
   ]
  },
  {
   "cell_type": "code",
   "execution_count": 51,
   "id": "f25b2f9a",
   "metadata": {},
   "outputs": [
    {
     "name": "stdout",
     "output_type": "stream",
     "text": [
      "False\n"
     ]
    }
   ],
   "source": [
    "print(issubclass(Developer, Manager))"
   ]
  },
  {
   "cell_type": "code",
   "execution_count": null,
   "id": "5bf3ac38",
   "metadata": {},
   "outputs": [],
   "source": []
  }
 ],
 "metadata": {
  "kernelspec": {
   "display_name": "Python 3 (ipykernel)",
   "language": "python",
   "name": "python3"
  },
  "language_info": {
   "codemirror_mode": {
    "name": "ipython",
    "version": 3
   },
   "file_extension": ".py",
   "mimetype": "text/x-python",
   "name": "python",
   "nbconvert_exporter": "python",
   "pygments_lexer": "ipython3",
   "version": "3.9.12"
  }
 },
 "nbformat": 4,
 "nbformat_minor": 5
}
