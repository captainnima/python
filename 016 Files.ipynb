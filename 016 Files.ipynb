{
 "cells": [
  {
   "cell_type": "code",
   "execution_count": 9,
   "id": "e24917b7",
   "metadata": {},
   "outputs": [],
   "source": [
    "#use the open() method to open and work with files\n",
    "\n",
    "f = open('presidents.txt', 'w') #text: r, w, a, r+, a+; binary: rb, wb, ab"
   ]
  },
  {
   "cell_type": "code",
   "execution_count": 36,
   "id": "c72284d8",
   "metadata": {},
   "outputs": [],
   "source": [
    "p = ['Washington', 'Adams', 'Jefferson', 'Madison', 'Monroe', 'Adams', 'Jackson', 'Van Buren', 'Polk']"
   ]
  },
  {
   "cell_type": "code",
   "execution_count": 11,
   "id": "ef5d60b1",
   "metadata": {},
   "outputs": [
    {
     "name": "stdout",
     "output_type": "stream",
     "text": [
      "Washington\n",
      "Adams\n",
      "Jefferson\n",
      "Madison\n",
      "Monroe\n",
      "Adams\n",
      "Jackson\n",
      "Van Buren\n",
      "Polk\n"
     ]
    }
   ],
   "source": [
    "for president in p:\n",
    "    print(president)"
   ]
  },
  {
   "cell_type": "code",
   "execution_count": 12,
   "id": "163b6b3b",
   "metadata": {},
   "outputs": [],
   "source": [
    "for president in p:\n",
    "    f.write(president)\n",
    "f.close()"
   ]
  },
  {
   "cell_type": "code",
   "execution_count": 13,
   "id": "af97b1c0",
   "metadata": {},
   "outputs": [],
   "source": [
    "f = open('presidents.txt', 'r+')\n",
    "\n",
    "for president in p:\n",
    "    f.write(president + '\\n')\n",
    "f.close()"
   ]
  },
  {
   "cell_type": "code",
   "execution_count": 14,
   "id": "31dbedcc",
   "metadata": {},
   "outputs": [
    {
     "name": "stdout",
     "output_type": "stream",
     "text": [
      "Washington\n",
      "\n",
      "Adams\n",
      "\n",
      "Jefferson\n",
      "\n",
      "Madison\n",
      "\n",
      "Monroe\n",
      "\n",
      "Adams\n",
      "\n",
      "Jackson\n",
      "\n",
      "Van Buren\n",
      "\n",
      "Polk\n",
      "\n"
     ]
    }
   ],
   "source": [
    "f = open('presidents.txt', 'r')\n",
    "\n",
    "for president in f:\n",
    "    print(president)"
   ]
  },
  {
   "cell_type": "code",
   "execution_count": 16,
   "id": "b92c9fb9",
   "metadata": {},
   "outputs": [
    {
     "name": "stdout",
     "output_type": "stream",
     "text": [
      "Washington\n",
      "Adams\n",
      "Jefferson\n",
      "Madison\n",
      "Monroe\n",
      "Adams\n",
      "Jackson\n",
      "Van Buren\n",
      "Polk\n"
     ]
    }
   ],
   "source": [
    "f.close()\n",
    "f = open('presidents.txt', 'r')\n",
    "for president in f:\n",
    "    print(president, end='')"
   ]
  },
  {
   "cell_type": "code",
   "execution_count": 17,
   "id": "b5c07c8b",
   "metadata": {},
   "outputs": [],
   "source": [
    "f.close()"
   ]
  },
  {
   "cell_type": "code",
   "execution_count": 18,
   "id": "d12b5291",
   "metadata": {},
   "outputs": [
    {
     "name": "stdout",
     "output_type": "stream",
     "text": [
      "Washington\n",
      "Adams\n",
      "Jefferson\n",
      "Madison\n",
      "Monroe\n",
      "Adams\n",
      "Jackson\n",
      "Van Buren\n",
      "Polk\n",
      "\n",
      "The file is now closed\n"
     ]
    }
   ],
   "source": [
    "#another way to open a file which automatically closes it is using a \n",
    "#\"with\" context manager\n",
    "\n",
    "with open('presidents.txt', 'r') as f:\n",
    "    for p in f:\n",
    "        print(p, end='')\n",
    "    print()\n",
    "print('The file is now closed')"
   ]
  },
  {
   "cell_type": "code",
   "execution_count": 19,
   "id": "2ca7dabd",
   "metadata": {},
   "outputs": [
    {
     "name": "stdout",
     "output_type": "stream",
     "text": [
      "True\n"
     ]
    }
   ],
   "source": [
    "print(f.closed)"
   ]
  },
  {
   "cell_type": "code",
   "execution_count": 20,
   "id": "fb45735c",
   "metadata": {},
   "outputs": [
    {
     "name": "stdout",
     "output_type": "stream",
     "text": [
      "r\n"
     ]
    }
   ],
   "source": [
    "print(f.mode)"
   ]
  },
  {
   "cell_type": "code",
   "execution_count": 21,
   "id": "0d8c2dec",
   "metadata": {},
   "outputs": [
    {
     "name": "stdout",
     "output_type": "stream",
     "text": [
      "['Washington\\n', 'Adams\\n', 'Jefferson\\n', 'Madison\\n', 'Monroe\\n', 'Adams\\n', 'Jackson\\n', 'Van Buren\\n', 'Polk\\n']\n"
     ]
    }
   ],
   "source": [
    "#readlines() returns a list of values\n",
    "\n",
    "with open('presidents.txt', 'r') as f:\n",
    "    f_contents = f.readlines()\n",
    "    print(f_contents)"
   ]
  },
  {
   "cell_type": "code",
   "execution_count": 22,
   "id": "a647f432",
   "metadata": {},
   "outputs": [
    {
     "data": {
      "text/plain": [
       "'Jefferson\\n'"
      ]
     },
     "execution_count": 22,
     "metadata": {},
     "output_type": "execute_result"
    }
   ],
   "source": [
    "f_contents[2]"
   ]
  },
  {
   "cell_type": "code",
   "execution_count": 23,
   "id": "482c02ea",
   "metadata": {},
   "outputs": [
    {
     "name": "stdout",
     "output_type": "stream",
     "text": [
      "['Washington', 'Adams', 'Jefferson', 'Madison', 'Monroe', 'Adams', 'Jackson', 'Van Buren', 'Polk']\n"
     ]
    }
   ],
   "source": [
    "with open('presidents.txt', 'r') as f:\n",
    "    f_contents = f.readlines()\n",
    "    p_contents = []\n",
    "    for p in f_contents:\n",
    "        p = p.strip()\n",
    "        p_contents.append(p)\n",
    "    print(p_contents)"
   ]
  },
  {
   "cell_type": "code",
   "execution_count": 24,
   "id": "1ff5f06b",
   "metadata": {},
   "outputs": [
    {
     "name": "stdout",
     "output_type": "stream",
     "text": [
      "Washington\n",
      "\n"
     ]
    }
   ],
   "source": [
    "with open('presidents.txt', 'r') as f:\n",
    "    f_contents = f.readline() #readline() without the s reads the first line\n",
    "    print(f_contents)"
   ]
  },
  {
   "cell_type": "code",
   "execution_count": 25,
   "id": "a414e7fc",
   "metadata": {},
   "outputs": [
    {
     "name": "stdout",
     "output_type": "stream",
     "text": [
      "Washington\n",
      "Adams\n",
      "Jefferson\n",
      "Madison\n",
      "Monroe\n",
      "Adams\n",
      "Jackson\n",
      "Van Buren\n",
      "Polk\n",
      "\n"
     ]
    }
   ],
   "source": [
    "with open('presidents.txt', 'r') as f:\n",
    "    f_contents = f.read()\n",
    "    print(f_contents)"
   ]
  },
  {
   "cell_type": "code",
   "execution_count": 26,
   "id": "885b4563",
   "metadata": {},
   "outputs": [
    {
     "name": "stdout",
     "output_type": "stream",
     "text": [
      "Washington\n",
      "A\n"
     ]
    }
   ],
   "source": [
    "with open('presidents.txt', 'r') as f:\n",
    "    f_contents = f.read(12)\n",
    "    print(f_contents)"
   ]
  },
  {
   "cell_type": "code",
   "execution_count": 27,
   "id": "88b585b1",
   "metadata": {},
   "outputs": [
    {
     "name": "stdout",
     "output_type": "stream",
     "text": [
      "Adams\n",
      "Jefferson\n",
      "Madis\n"
     ]
    }
   ],
   "source": [
    "#specifying a location to seek\n",
    "\n",
    "with open('presidents.txt', 'r') as f:\n",
    "    f.seek(12)\n",
    "    f_contents = f.read(21)\n",
    "    print(f_contents)"
   ]
  },
  {
   "cell_type": "code",
   "execution_count": 28,
   "id": "93fca693",
   "metadata": {},
   "outputs": [
    {
     "name": "stdout",
     "output_type": "stream",
     "text": [
      "b'\\x01\\x01\\x00\\x00\\x01\\x00\\x01\\x00\\x00\\xff\\xdb\\x00C\\x00\\x08\\x06\\x06\\x07\\x06\\x05\\x08\\x07\\x07'\n"
     ]
    }
   ],
   "source": [
    "#reading binary files\n",
    "\n",
    "with open('disney.jpg', 'rb') as f:\n",
    "    f.seek(11)\n",
    "    f_contents = f.read(23)\n",
    "    print(f_contents)"
   ]
  },
  {
   "cell_type": "code",
   "execution_count": 29,
   "id": "357b2c55",
   "metadata": {},
   "outputs": [],
   "source": [
    "#do a file copy\n",
    "\n",
    "with open('disney.jpg', 'rb') as f:\n",
    "    f_contents = f.read()\n",
    "    \n",
    "with open('mouse.jpg', 'wb') as o:\n",
    "    o.write(f_contents)\n"
   ]
  },
  {
   "cell_type": "code",
   "execution_count": 30,
   "id": "6b545746",
   "metadata": {},
   "outputs": [
    {
     "name": "stdout",
     "output_type": "stream",
     "text": [
      "Washington\n",
      "Adams\n",
      "Jefferson\n",
      "Madison\n",
      "Monroe\n",
      "Adams\n",
      "Jackson\n",
      "Van Buren\n",
      "Polk\n"
     ]
    }
   ],
   "source": [
    "#what if we don't know how large the file is?\n",
    "\n",
    "size_to_read = 10 #bytes\n",
    "\n",
    "with open('presidents.txt', 'r') as f:\n",
    "    f_contents = f.read(size_to_read)\n",
    "    while len(f_contents) > 0:\n",
    "        print(f_contents, end='')\n",
    "        f_contents = f.read(size_to_read)"
   ]
  },
  {
   "cell_type": "code",
   "execution_count": 32,
   "id": "62570311",
   "metadata": {},
   "outputs": [
    {
     "name": "stdout",
     "output_type": "stream",
     "text": [
      "18446744073709551627\n",
      "Washington22\n",
      "\n",
      "Adams\n",
      "Jef33\n",
      "ferson\n",
      "Mad44\n",
      "ison\n",
      "Monro56\n",
      "e\n",
      "Adams\n",
      "Ja67\n",
      "ckson\n",
      "Van 78\n",
      "Buren\n",
      "Polk80\n",
      "\n"
     ]
    }
   ],
   "source": [
    "#viewing where we are\n",
    "\n",
    "size_to_read = 10 #bytes\n",
    "\n",
    "with open('presidents.txt', 'r') as f:\n",
    "    f_contents = f.read(size_to_read)\n",
    "    while len(f_contents) > 0:\n",
    "        print(str(f.tell()))\n",
    "        print(f_contents, end='')\n",
    "        f_contents = f.read(size_to_read)"
   ]
  },
  {
   "cell_type": "code",
   "execution_count": 33,
   "id": "9659303d",
   "metadata": {
    "scrolled": true
   },
   "outputs": [
    {
     "ename": "UnsupportedOperation",
     "evalue": "not writable",
     "output_type": "error",
     "traceback": [
      "\u001b[1;31m---------------------------------------------------------------------------\u001b[0m",
      "\u001b[1;31mUnsupportedOperation\u001b[0m                      Traceback (most recent call last)",
      "Input \u001b[1;32mIn [33]\u001b[0m, in \u001b[0;36m<cell line: 3>\u001b[1;34m()\u001b[0m\n\u001b[0;32m      1\u001b[0m \u001b[38;5;66;03m#writing to files\u001b[39;00m\n\u001b[0;32m      3\u001b[0m \u001b[38;5;28;01mwith\u001b[39;00m \u001b[38;5;28mopen\u001b[39m(\u001b[38;5;124m'\u001b[39m\u001b[38;5;124mpresidents.txt\u001b[39m\u001b[38;5;124m'\u001b[39m, \u001b[38;5;124m'\u001b[39m\u001b[38;5;124mr\u001b[39m\u001b[38;5;124m'\u001b[39m) \u001b[38;5;28;01mas\u001b[39;00m f:\n\u001b[1;32m----> 4\u001b[0m     \u001b[43mf\u001b[49m\u001b[38;5;241;43m.\u001b[39;49m\u001b[43mwrite\u001b[49m\u001b[43m(\u001b[49m\u001b[38;5;124;43m'\u001b[39;49m\u001b[38;5;124;43mLincoln\u001b[39;49m\u001b[38;5;124;43m'\u001b[39;49m\u001b[43m)\u001b[49m\n",
      "\u001b[1;31mUnsupportedOperation\u001b[0m: not writable"
     ]
    }
   ],
   "source": [
    "#writing to files\n",
    "\n",
    "with open('presidents.txt', 'r') as f:\n",
    "    f.write('Lincoln')"
   ]
  },
  {
   "cell_type": "code",
   "execution_count": 34,
   "id": "e294005d",
   "metadata": {},
   "outputs": [],
   "source": [
    "#this overwrites the file\n",
    "with open('presidents.txt', 'w') as f:\n",
    "    f.write('Lincoln')"
   ]
  },
  {
   "cell_type": "code",
   "execution_count": 37,
   "id": "c5c96d06",
   "metadata": {},
   "outputs": [],
   "source": [
    "f = open('presidents.txt', 'r+')\n",
    "\n",
    "for president in p:\n",
    "    f.write(president + '\\n')\n",
    "f.close()"
   ]
  },
  {
   "cell_type": "code",
   "execution_count": 38,
   "id": "c02690d0",
   "metadata": {},
   "outputs": [],
   "source": [
    "#this one appends to the end\n",
    "with open('presidents.txt', 'a') as f:\n",
    "    f.write('Lincoln')"
   ]
  },
  {
   "cell_type": "code",
   "execution_count": null,
   "id": "e87e2c9f",
   "metadata": {},
   "outputs": [],
   "source": []
  }
 ],
 "metadata": {
  "kernelspec": {
   "display_name": "Python 3 (ipykernel)",
   "language": "python",
   "name": "python3"
  },
  "language_info": {
   "codemirror_mode": {
    "name": "ipython",
    "version": 3
   },
   "file_extension": ".py",
   "mimetype": "text/x-python",
   "name": "python",
   "nbconvert_exporter": "python",
   "pygments_lexer": "ipython3",
   "version": "3.9.12"
  }
 },
 "nbformat": 4,
 "nbformat_minor": 5
}
