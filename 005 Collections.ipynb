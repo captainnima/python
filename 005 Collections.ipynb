{
 "cells": [
  {
   "cell_type": "code",
   "execution_count": 1,
   "id": "dea9cdb3",
   "metadata": {},
   "outputs": [],
   "source": [
    "#collections are also called sequences\n",
    "#we will look at lists, tuples, and sets"
   ]
  },
  {
   "cell_type": "code",
   "execution_count": 2,
   "id": "2b2404af",
   "metadata": {},
   "outputs": [],
   "source": [
    "#lists; created using the []\n",
    "\n",
    "courses = [] #empty list"
   ]
  },
  {
   "cell_type": "code",
   "execution_count": 3,
   "id": "f3066b21",
   "metadata": {},
   "outputs": [
    {
     "data": {
      "text/plain": [
       "[]"
      ]
     },
     "execution_count": 3,
     "metadata": {},
     "output_type": "execute_result"
    }
   ],
   "source": [
    "courses"
   ]
  },
  {
   "cell_type": "code",
   "execution_count": 4,
   "id": "257cdccc",
   "metadata": {},
   "outputs": [],
   "source": [
    "courses = ['History', 'Math', 'Physics', 'Coding', 3]"
   ]
  },
  {
   "cell_type": "code",
   "execution_count": 5,
   "id": "346edabc",
   "metadata": {},
   "outputs": [
    {
     "data": {
      "text/plain": [
       "['History', 'Math', 'Physics', 'Coding', 3]"
      ]
     },
     "execution_count": 5,
     "metadata": {},
     "output_type": "execute_result"
    }
   ],
   "source": [
    "courses"
   ]
  },
  {
   "cell_type": "code",
   "execution_count": 6,
   "id": "8350a905",
   "metadata": {},
   "outputs": [
    {
     "name": "stdout",
     "output_type": "stream",
     "text": [
      "5\n"
     ]
    }
   ],
   "source": [
    "print(len(courses))"
   ]
  },
  {
   "cell_type": "code",
   "execution_count": 7,
   "id": "a53d76af",
   "metadata": {},
   "outputs": [
    {
     "data": {
      "text/plain": [
       "['Math', 'Physics']"
      ]
     },
     "execution_count": 7,
     "metadata": {},
     "output_type": "execute_result"
    }
   ],
   "source": [
    "courses[1:3]"
   ]
  },
  {
   "cell_type": "code",
   "execution_count": 8,
   "id": "6cb85c79",
   "metadata": {},
   "outputs": [
    {
     "data": {
      "text/plain": [
       "['History', 'Math', 'Physics', 'Coding']"
      ]
     },
     "execution_count": 8,
     "metadata": {},
     "output_type": "execute_result"
    }
   ],
   "source": [
    "courses.remove(3)\n",
    "courses"
   ]
  },
  {
   "cell_type": "code",
   "execution_count": 9,
   "id": "c94af161",
   "metadata": {},
   "outputs": [
    {
     "data": {
      "text/plain": [
       "['History', 'Math', 'Physics', 'Coding', 'Art']"
      ]
     },
     "execution_count": 9,
     "metadata": {},
     "output_type": "execute_result"
    }
   ],
   "source": [
    "courses.append('Art')\n",
    "courses"
   ]
  },
  {
   "cell_type": "code",
   "execution_count": 10,
   "id": "c5a0ce7a",
   "metadata": {},
   "outputs": [
    {
     "data": {
      "text/plain": [
       "['English', 'Drafting']"
      ]
     },
     "execution_count": 10,
     "metadata": {},
     "output_type": "execute_result"
    }
   ],
   "source": [
    "more_courses = ['English', 'Drafting']\n",
    "more_courses"
   ]
  },
  {
   "cell_type": "code",
   "execution_count": 11,
   "id": "5d2fc0dc",
   "metadata": {},
   "outputs": [
    {
     "data": {
      "text/plain": [
       "['History', 'Math', 'Physics', 'Coding', 'Art', 'English', 'Drafting']"
      ]
     },
     "execution_count": 11,
     "metadata": {},
     "output_type": "execute_result"
    }
   ],
   "source": [
    "courses.extend(more_courses)\n",
    "courses"
   ]
  },
  {
   "cell_type": "code",
   "execution_count": 12,
   "id": "c6a29cb4",
   "metadata": {},
   "outputs": [
    {
     "data": {
      "text/plain": [
       "['History',\n",
       " 'Math',\n",
       " 'Chemistry',\n",
       " 'Physics',\n",
       " 'Coding',\n",
       " 'Art',\n",
       " 'English',\n",
       " 'Drafting']"
      ]
     },
     "execution_count": 12,
     "metadata": {},
     "output_type": "execute_result"
    }
   ],
   "source": [
    "courses.insert(2, 'Chemistry')\n",
    "courses"
   ]
  },
  {
   "cell_type": "code",
   "execution_count": 13,
   "id": "a602df0a",
   "metadata": {},
   "outputs": [
    {
     "data": {
      "text/plain": [
       "'Physics'"
      ]
     },
     "execution_count": 13,
     "metadata": {},
     "output_type": "execute_result"
    }
   ],
   "source": [
    "#pop() returns a value\n",
    "\n",
    "phy = courses.pop(3)\n",
    "phy"
   ]
  },
  {
   "cell_type": "code",
   "execution_count": 14,
   "id": "4d6a6819",
   "metadata": {},
   "outputs": [
    {
     "data": {
      "text/plain": [
       "['History', 'Math', 'Chemistry', 'Coding', 'Art', 'English', 'Drafting']"
      ]
     },
     "execution_count": 14,
     "metadata": {},
     "output_type": "execute_result"
    }
   ],
   "source": [
    "courses"
   ]
  },
  {
   "cell_type": "code",
   "execution_count": 15,
   "id": "046757b7",
   "metadata": {},
   "outputs": [
    {
     "name": "stdout",
     "output_type": "stream",
     "text": [
      "History\n",
      "Math\n",
      "Chemistry\n",
      "Coding\n",
      "Art\n",
      "English\n",
      "Drafting\n"
     ]
    }
   ],
   "source": [
    "for item in courses:\n",
    "    print(item)"
   ]
  },
  {
   "cell_type": "code",
   "execution_count": 16,
   "id": "1ce31d95",
   "metadata": {},
   "outputs": [
    {
     "name": "stdout",
     "output_type": "stream",
     "text": [
      "I\n",
      "t\n",
      "'\n",
      "s\n",
      " \n",
      "c\n",
      "o\n",
      "f\n",
      "f\n",
      "e\n",
      "e\n",
      " \n",
      "t\n",
      "i\n",
      "m\n",
      "e\n"
     ]
    }
   ],
   "source": [
    "message = \"It's coffee time\"\n",
    "for m in message:\n",
    "    print(m)"
   ]
  },
  {
   "cell_type": "code",
   "execution_count": 17,
   "id": "50929efe",
   "metadata": {},
   "outputs": [
    {
     "name": "stdout",
     "output_type": "stream",
     "text": [
      "True\n"
     ]
    }
   ],
   "source": [
    "#using the \"in\" operator\n",
    "\n",
    "print('Math' in courses)"
   ]
  },
  {
   "cell_type": "code",
   "execution_count": 18,
   "id": "4ef5f9fb",
   "metadata": {},
   "outputs": [
    {
     "data": {
      "text/plain": [
       "['History', 'Math', 'Chemistry', 'Coding', 'Art', 'English', 'Drafting']"
      ]
     },
     "execution_count": 18,
     "metadata": {},
     "output_type": "execute_result"
    }
   ],
   "source": [
    "courses"
   ]
  },
  {
   "cell_type": "code",
   "execution_count": 19,
   "id": "bf2f0c25",
   "metadata": {},
   "outputs": [
    {
     "data": {
      "text/plain": [
       "False"
      ]
     },
     "execution_count": 19,
     "metadata": {},
     "output_type": "execute_result"
    }
   ],
   "source": [
    "'Programming' in courses"
   ]
  },
  {
   "cell_type": "code",
   "execution_count": 20,
   "id": "dd2d5dbf",
   "metadata": {},
   "outputs": [
    {
     "name": "stdout",
     "output_type": "stream",
     "text": [
      "0 --> History\n",
      "1 --> Math\n",
      "2 --> Chemistry\n",
      "3 --> Coding\n",
      "4 --> Art\n",
      "5 --> English\n",
      "6 --> Drafting\n"
     ]
    }
   ],
   "source": [
    "#to get the index, use the enumerate() function\n",
    "#returns the index and the value\n",
    "\n",
    "for i, c in enumerate(courses):\n",
    "    print(i, '-->', c)"
   ]
  },
  {
   "cell_type": "code",
   "execution_count": 21,
   "id": "6b8c7b44",
   "metadata": {},
   "outputs": [
    {
     "name": "stdout",
     "output_type": "stream",
     "text": [
      "1 --> History\n",
      "2 --> Math\n",
      "3 --> Chemistry\n",
      "4 --> Coding\n",
      "5 --> Art\n",
      "6 --> English\n",
      "7 --> Drafting\n"
     ]
    }
   ],
   "source": [
    "#we can choose the index ourselves\n",
    "\n",
    "for i, c in enumerate(courses, start=1):\n",
    "    print(i, '-->', c)"
   ]
  },
  {
   "cell_type": "code",
   "execution_count": 22,
   "id": "ecf037f9",
   "metadata": {},
   "outputs": [
    {
     "name": "stdout",
     "output_type": "stream",
     "text": [
      "History;Math;Chemistry;Coding;Art;English;Drafting\n"
     ]
    }
   ],
   "source": [
    "#using the join() method with strings\n",
    "\n",
    "courses_str = ';'.join(courses)\n",
    "print(courses_str)"
   ]
  },
  {
   "cell_type": "code",
   "execution_count": 23,
   "id": "5300e6a7",
   "metadata": {},
   "outputs": [
    {
     "data": {
      "text/plain": [
       "['History', 'Math', 'Chemistry', 'Coding', 'Art', 'English', 'Drafting']"
      ]
     },
     "execution_count": 23,
     "metadata": {},
     "output_type": "execute_result"
    }
   ],
   "source": [
    "courses"
   ]
  },
  {
   "cell_type": "code",
   "execution_count": 24,
   "id": "f1106347",
   "metadata": {},
   "outputs": [
    {
     "data": {
      "text/plain": [
       "'History;Math;Chemistry;Coding;Art;English;Drafting'"
      ]
     },
     "execution_count": 24,
     "metadata": {},
     "output_type": "execute_result"
    }
   ],
   "source": [
    "#split() method; creates a list from a string\n",
    "\n",
    "courses_str"
   ]
  },
  {
   "cell_type": "code",
   "execution_count": 25,
   "id": "3af1c674",
   "metadata": {},
   "outputs": [
    {
     "data": {
      "text/plain": [
       "['History', 'Math', 'Chemistry', 'Coding', 'Art', 'English', 'Drafting']"
      ]
     },
     "execution_count": 25,
     "metadata": {},
     "output_type": "execute_result"
    }
   ],
   "source": [
    "new_list = courses_str.split(';') #no param means split over space\n",
    "new_list"
   ]
  },
  {
   "cell_type": "code",
   "execution_count": 27,
   "id": "95a18cb4",
   "metadata": {},
   "outputs": [
    {
     "name": "stdout",
     "output_type": "stream",
     "text": [
      "<class 'tuple'>\n"
     ]
    }
   ],
   "source": [
    "#tuples; immutable\n",
    "#use the comma to create\n",
    "\n",
    "schools = ('GMU', 'GWU')\n",
    "print(type(schools))"
   ]
  },
  {
   "cell_type": "code",
   "execution_count": 28,
   "id": "b3275065",
   "metadata": {},
   "outputs": [
    {
     "name": "stdout",
     "output_type": "stream",
     "text": [
      "<class 'tuple'>\n"
     ]
    }
   ],
   "source": [
    "#() are not necessary\n",
    "\n",
    "schools = 'Stanford', 'MIT', 'GWU'\n",
    "print(type(schools))"
   ]
  },
  {
   "cell_type": "code",
   "execution_count": 29,
   "id": "f9b43d5d",
   "metadata": {},
   "outputs": [
    {
     "name": "stdout",
     "output_type": "stream",
     "text": [
      "<class 'int'>\n"
     ]
    }
   ],
   "source": [
    "t = (9)\n",
    "print(type(t))"
   ]
  },
  {
   "cell_type": "code",
   "execution_count": 30,
   "id": "4fdf492f",
   "metadata": {},
   "outputs": [
    {
     "name": "stdout",
     "output_type": "stream",
     "text": [
      "<class 'tuple'>\n"
     ]
    }
   ],
   "source": [
    "m = (9,)\n",
    "print(type(m))"
   ]
  },
  {
   "cell_type": "code",
   "execution_count": 31,
   "id": "8c00c9ba",
   "metadata": {},
   "outputs": [
    {
     "name": "stdout",
     "output_type": "stream",
     "text": [
      "<class 'tuple'>\n"
     ]
    }
   ],
   "source": [
    "#empty tuple\n",
    "e = tuple()\n",
    "print(type(e))"
   ]
  },
  {
   "cell_type": "code",
   "execution_count": 32,
   "id": "7c709bea",
   "metadata": {},
   "outputs": [
    {
     "data": {
      "text/plain": [
       "('Stanford', 'MIT', 'GWU')"
      ]
     },
     "execution_count": 32,
     "metadata": {},
     "output_type": "execute_result"
    }
   ],
   "source": [
    "schools"
   ]
  },
  {
   "cell_type": "code",
   "execution_count": 33,
   "id": "ceeb5c8a",
   "metadata": {},
   "outputs": [
    {
     "data": {
      "text/plain": [
       "('MIT',)"
      ]
     },
     "execution_count": 33,
     "metadata": {},
     "output_type": "execute_result"
    }
   ],
   "source": [
    "schools[1:2]"
   ]
  },
  {
   "cell_type": "code",
   "execution_count": 34,
   "id": "e0187d1f",
   "metadata": {},
   "outputs": [
    {
     "ename": "AttributeError",
     "evalue": "'tuple' object has no attribute 'append'",
     "output_type": "error",
     "traceback": [
      "\u001b[1;31m---------------------------------------------------------------------------\u001b[0m",
      "\u001b[1;31mAttributeError\u001b[0m                            Traceback (most recent call last)",
      "Input \u001b[1;32mIn [34]\u001b[0m, in \u001b[0;36m<cell line: 1>\u001b[1;34m()\u001b[0m\n\u001b[1;32m----> 1\u001b[0m \u001b[43mschools\u001b[49m\u001b[38;5;241;43m.\u001b[39;49m\u001b[43mappend\u001b[49m(\u001b[38;5;124m'\u001b[39m\u001b[38;5;124mGMU\u001b[39m\u001b[38;5;124m'\u001b[39m)\n",
      "\u001b[1;31mAttributeError\u001b[0m: 'tuple' object has no attribute 'append'"
     ]
    }
   ],
   "source": [
    "schools.append('GMU')"
   ]
  },
  {
   "cell_type": "code",
   "execution_count": 35,
   "id": "01683d83",
   "metadata": {},
   "outputs": [
    {
     "data": {
      "text/plain": [
       "{'Coding', 'Math', 'Physics'}"
      ]
     },
     "execution_count": 35,
     "metadata": {},
     "output_type": "execute_result"
    }
   ],
   "source": [
    "#sets\n",
    "#values are unordered and no duplicates are kept;\n",
    "#duplicates are removed; use {} to create\n",
    "set_courses = {'Coding', 'Math', 'Physics', 'Coding'}\n",
    "set_courses"
   ]
  },
  {
   "cell_type": "code",
   "execution_count": 36,
   "id": "a1a8b207",
   "metadata": {},
   "outputs": [
    {
     "name": "stdout",
     "output_type": "stream",
     "text": [
      "True\n"
     ]
    }
   ],
   "source": [
    "print('Math' in set_courses)"
   ]
  },
  {
   "cell_type": "code",
   "execution_count": 37,
   "id": "4eef7dd8",
   "metadata": {},
   "outputs": [
    {
     "data": {
      "text/plain": [
       "{'Art', 'Coding', 'Drafting'}"
      ]
     },
     "execution_count": 37,
     "metadata": {},
     "output_type": "execute_result"
    }
   ],
   "source": [
    "art_courses = {'Art', 'Drafting', 'Coding'}\n",
    "art_courses"
   ]
  },
  {
   "cell_type": "code",
   "execution_count": 38,
   "id": "6619736a",
   "metadata": {},
   "outputs": [
    {
     "data": {
      "text/plain": [
       "{'Coding'}"
      ]
     },
     "execution_count": 38,
     "metadata": {},
     "output_type": "execute_result"
    }
   ],
   "source": [
    "set_courses.intersection(art_courses)"
   ]
  },
  {
   "cell_type": "code",
   "execution_count": 39,
   "id": "31840876",
   "metadata": {},
   "outputs": [
    {
     "data": {
      "text/plain": [
       "{'Math', 'Physics'}"
      ]
     },
     "execution_count": 39,
     "metadata": {},
     "output_type": "execute_result"
    }
   ],
   "source": [
    "set_courses.difference(art_courses)"
   ]
  },
  {
   "cell_type": "code",
   "execution_count": 40,
   "id": "6738c841",
   "metadata": {},
   "outputs": [
    {
     "data": {
      "text/plain": [
       "{'Art', 'Coding', 'Drafting', 'Math', 'Physics'}"
      ]
     },
     "execution_count": 40,
     "metadata": {},
     "output_type": "execute_result"
    }
   ],
   "source": [
    "set_courses.union(art_courses)"
   ]
  },
  {
   "cell_type": "code",
   "execution_count": 41,
   "id": "abf5b3c8",
   "metadata": {},
   "outputs": [],
   "source": [
    "#creating empty list, tuple, set\n",
    "\n",
    "empty_list = []\n",
    "empty_list = list()\n",
    "\n",
    "empty_tuple = ()\n",
    "empty_tuple = tuple()\n",
    "\n",
    "empty_set = {} #doesn't work\n",
    "empty_set = set()"
   ]
  },
  {
   "cell_type": "code",
   "execution_count": 42,
   "id": "b5181b4d",
   "metadata": {},
   "outputs": [
    {
     "name": "stdout",
     "output_type": "stream",
     "text": [
      "<class 'dict'>\n"
     ]
    }
   ],
   "source": [
    "my_set = {}\n",
    "print(type(my_set))"
   ]
  },
  {
   "cell_type": "code",
   "execution_count": null,
   "id": "3d706297",
   "metadata": {},
   "outputs": [],
   "source": []
  }
 ],
 "metadata": {
  "kernelspec": {
   "display_name": "Python 3 (ipykernel)",
   "language": "python",
   "name": "python3"
  },
  "language_info": {
   "codemirror_mode": {
    "name": "ipython",
    "version": 3
   },
   "file_extension": ".py",
   "mimetype": "text/x-python",
   "name": "python",
   "nbconvert_exporter": "python",
   "pygments_lexer": "ipython3",
   "version": "3.9.12"
  }
 },
 "nbformat": 4,
 "nbformat_minor": 5
}
