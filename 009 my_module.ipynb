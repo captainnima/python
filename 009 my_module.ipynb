{
 "cells": [
  {
   "cell_type": "code",
   "execution_count": 1,
   "id": "880b0a5d",
   "metadata": {},
   "outputs": [],
   "source": [
    "def coffee_func(person='Bugs'):\n",
    "    return 'coffee time for {}'.format(person)"
   ]
  },
  {
   "cell_type": "code",
   "execution_count": 2,
   "id": "577fb4e5",
   "metadata": {},
   "outputs": [],
   "source": [
    "message = 'It\\'s lunch time'"
   ]
  }
 ],
 "metadata": {
  "kernelspec": {
   "display_name": "Python 3 (ipykernel)",
   "language": "python",
   "name": "python3"
  },
  "language_info": {
   "codemirror_mode": {
    "name": "ipython",
    "version": 3
   },
   "file_extension": ".py",
   "mimetype": "text/x-python",
   "name": "python",
   "nbconvert_exporter": "python",
   "pygments_lexer": "ipython3",
   "version": "3.9.12"
  }
 },
 "nbformat": 4,
 "nbformat_minor": 5
}
