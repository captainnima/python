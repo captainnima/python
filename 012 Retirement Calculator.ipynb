{
 "cells": [
  {
   "cell_type": "code",
   "execution_count": 1,
   "id": "8322687d",
   "metadata": {},
   "outputs": [],
   "source": [
    "#retirement calculator\n",
    "\n",
    "import math"
   ]
  },
  {
   "cell_type": "code",
   "execution_count": 9,
   "id": "3ab2da0c",
   "metadata": {
    "scrolled": true
   },
   "outputs": [
    {
     "name": "stdout",
     "output_type": "stream",
     "text": [
      "Enter your principle: 50000\n",
      "Enter the interest rate like 7.5: 5\n",
      "Enter number of years before retirement: 50\n",
      "Enter monthly contibution amount: 500\n",
      "Your retirement with no contribution is 599758.46\n",
      "Your retirement with contribution is 5503082.17\n"
     ]
    }
   ],
   "source": [
    "principle = float(input('Enter your principle: '))\n",
    "interest = float(input('Enter the interest rate like 7.5: '))\n",
    "interest = interest / 100\n",
    "years = float(input('Enter number of years before retirement: '))\n",
    "contribution = float(input('Enter monthly contibution amount: '))\n",
    "\n",
    "retirement_no_contribution = round(principle*math.pow((1+interest/4), 4*years), 2)\n",
    "\n",
    "retirement_with_contribution = round(contribution*((math.pow((1+interest/4), 4*years)-1) \\\n",
    "                                             / (interest/years)) * (1+interest/years), 2)\n",
    "\n",
    "print('Your retirement with no contribution is {}'.format(retirement_no_contribution))\n",
    "print('Your retirement with contribution is {}'.format(retirement_with_contribution))"
   ]
  },
  {
   "cell_type": "code",
   "execution_count": null,
   "id": "fbc2360a",
   "metadata": {},
   "outputs": [],
   "source": []
  }
 ],
 "metadata": {
  "kernelspec": {
   "display_name": "Python 3 (ipykernel)",
   "language": "python",
   "name": "python3"
  },
  "language_info": {
   "codemirror_mode": {
    "name": "ipython",
    "version": 3
   },
   "file_extension": ".py",
   "mimetype": "text/x-python",
   "name": "python",
   "nbconvert_exporter": "python",
   "pygments_lexer": "ipython3",
   "version": "3.9.12"
  }
 },
 "nbformat": 4,
 "nbformat_minor": 5
}
