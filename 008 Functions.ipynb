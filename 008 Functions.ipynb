{
 "cells": [
  {
   "cell_type": "code",
   "execution_count": 1,
   "id": "70c6147c",
   "metadata": {},
   "outputs": [],
   "source": [
    "#functions allow for modular code and code reuse"
   ]
  },
  {
   "cell_type": "code",
   "execution_count": 2,
   "id": "abfeea9a",
   "metadata": {},
   "outputs": [],
   "source": [
    "def coffee_func():\n",
    "    print('coffee time')"
   ]
  },
  {
   "cell_type": "code",
   "execution_count": 3,
   "id": "8741e888",
   "metadata": {},
   "outputs": [
    {
     "name": "stdout",
     "output_type": "stream",
     "text": [
      "coffee time\n"
     ]
    }
   ],
   "source": [
    "coffee_func()"
   ]
  },
  {
   "cell_type": "code",
   "execution_count": 4,
   "id": "9888b9e6",
   "metadata": {},
   "outputs": [],
   "source": [
    "def coffee_func():\n",
    "    return 'coffee time'"
   ]
  },
  {
   "cell_type": "code",
   "execution_count": 5,
   "id": "9c9cfa4b",
   "metadata": {},
   "outputs": [
    {
     "data": {
      "text/plain": [
       "'coffee time'"
      ]
     },
     "execution_count": 5,
     "metadata": {},
     "output_type": "execute_result"
    }
   ],
   "source": [
    "coffee_func()"
   ]
  },
  {
   "cell_type": "code",
   "execution_count": 6,
   "id": "7d50a3fc",
   "metadata": {},
   "outputs": [
    {
     "name": "stdout",
     "output_type": "stream",
     "text": [
      "coffee time\n"
     ]
    }
   ],
   "source": [
    "print(coffee_func())"
   ]
  },
  {
   "cell_type": "code",
   "execution_count": 7,
   "id": "7f3d9eba",
   "metadata": {},
   "outputs": [
    {
     "data": {
      "text/plain": [
       "'coffee time'"
      ]
     },
     "execution_count": 7,
     "metadata": {},
     "output_type": "execute_result"
    }
   ],
   "source": [
    "message = coffee_func()\n",
    "message"
   ]
  },
  {
   "cell_type": "code",
   "execution_count": 8,
   "id": "116c24e3",
   "metadata": {},
   "outputs": [],
   "source": [
    "def tea_func():\n",
    "    return 'tea time', 'afternoon'"
   ]
  },
  {
   "cell_type": "code",
   "execution_count": 9,
   "id": "075f63e6",
   "metadata": {},
   "outputs": [
    {
     "data": {
      "text/plain": [
       "('tea time', 'afternoon')"
      ]
     },
     "execution_count": 9,
     "metadata": {},
     "output_type": "execute_result"
    }
   ],
   "source": [
    "tea_func()"
   ]
  },
  {
   "cell_type": "code",
   "execution_count": 10,
   "id": "411c57c5",
   "metadata": {},
   "outputs": [
    {
     "data": {
      "text/plain": [
       "'tea time'"
      ]
     },
     "execution_count": 10,
     "metadata": {},
     "output_type": "execute_result"
    }
   ],
   "source": [
    "tea_func()[0]"
   ]
  },
  {
   "cell_type": "code",
   "execution_count": 11,
   "id": "6f599ddc",
   "metadata": {},
   "outputs": [
    {
     "data": {
      "text/plain": [
       "'afternoon'"
      ]
     },
     "execution_count": 11,
     "metadata": {},
     "output_type": "execute_result"
    }
   ],
   "source": [
    "tea_func()[1]"
   ]
  },
  {
   "cell_type": "code",
   "execution_count": 12,
   "id": "772c45fb",
   "metadata": {},
   "outputs": [],
   "source": [
    "message = tea_func()"
   ]
  },
  {
   "cell_type": "code",
   "execution_count": 13,
   "id": "b36a3dc0",
   "metadata": {},
   "outputs": [
    {
     "data": {
      "text/plain": [
       "'afternoon'"
      ]
     },
     "execution_count": 13,
     "metadata": {},
     "output_type": "execute_result"
    }
   ],
   "source": [
    "message[1]"
   ]
  },
  {
   "cell_type": "code",
   "execution_count": 14,
   "id": "44db5722",
   "metadata": {},
   "outputs": [],
   "source": [
    "#pass keyword; means do nothing\n",
    "\n",
    "def do_nothing():\n",
    "    pass"
   ]
  },
  {
   "cell_type": "code",
   "execution_count": 15,
   "id": "0c70cc58",
   "metadata": {},
   "outputs": [],
   "source": [
    "do_nothing()"
   ]
  },
  {
   "cell_type": "code",
   "execution_count": 16,
   "id": "8aa3cb02",
   "metadata": {},
   "outputs": [
    {
     "name": "stdout",
     "output_type": "stream",
     "text": [
      "None\n"
     ]
    }
   ],
   "source": [
    "print(do_nothing())"
   ]
  },
  {
   "cell_type": "code",
   "execution_count": 18,
   "id": "b9e27982",
   "metadata": {},
   "outputs": [
    {
     "name": "stdout",
     "output_type": "stream",
     "text": [
      "COFFEE TIME\n"
     ]
    }
   ],
   "source": [
    "#daisy chain functions\n",
    "\n",
    "print(coffee_func().upper())"
   ]
  },
  {
   "cell_type": "code",
   "execution_count": 19,
   "id": "1d97e059",
   "metadata": {},
   "outputs": [],
   "source": [
    "#working with arguments\n",
    "\n",
    "def coffee_func(person):\n",
    "    return 'coffee time for {}'.format(person)"
   ]
  },
  {
   "cell_type": "code",
   "execution_count": 20,
   "id": "90f5c981",
   "metadata": {},
   "outputs": [
    {
     "data": {
      "text/plain": [
       "'coffee time for Bugs Bunny'"
      ]
     },
     "execution_count": 20,
     "metadata": {},
     "output_type": "execute_result"
    }
   ],
   "source": [
    "coffee_func('Bugs Bunny')"
   ]
  },
  {
   "cell_type": "code",
   "execution_count": 21,
   "id": "2c516dcb",
   "metadata": {},
   "outputs": [
    {
     "ename": "TypeError",
     "evalue": "coffee_func() missing 1 required positional argument: 'person'",
     "output_type": "error",
     "traceback": [
      "\u001b[1;31m---------------------------------------------------------------------------\u001b[0m",
      "\u001b[1;31mTypeError\u001b[0m                                 Traceback (most recent call last)",
      "Input \u001b[1;32mIn [21]\u001b[0m, in \u001b[0;36m<cell line: 1>\u001b[1;34m()\u001b[0m\n\u001b[1;32m----> 1\u001b[0m \u001b[43mcoffee_func\u001b[49m\u001b[43m(\u001b[49m\u001b[43m)\u001b[49m\n",
      "\u001b[1;31mTypeError\u001b[0m: coffee_func() missing 1 required positional argument: 'person'"
     ]
    }
   ],
   "source": [
    "coffee_func()"
   ]
  },
  {
   "cell_type": "code",
   "execution_count": 22,
   "id": "edd0322b",
   "metadata": {},
   "outputs": [],
   "source": [
    "def coffee_func(person = 'Bugs Bunny'):\n",
    "    return 'coffee time for {}'.format(person)"
   ]
  },
  {
   "cell_type": "code",
   "execution_count": 23,
   "id": "b42f12fe",
   "metadata": {},
   "outputs": [
    {
     "data": {
      "text/plain": [
       "'coffee time for Bugs Bunny'"
      ]
     },
     "execution_count": 23,
     "metadata": {},
     "output_type": "execute_result"
    }
   ],
   "source": [
    "coffee_func()"
   ]
  },
  {
   "cell_type": "code",
   "execution_count": 24,
   "id": "bfbddcce",
   "metadata": {},
   "outputs": [
    {
     "data": {
      "text/plain": [
       "'coffee time for Porky Pig'"
      ]
     },
     "execution_count": 24,
     "metadata": {},
     "output_type": "execute_result"
    }
   ],
   "source": [
    "coffee_func('Porky Pig')"
   ]
  },
  {
   "cell_type": "code",
   "execution_count": 25,
   "id": "53667eac",
   "metadata": {},
   "outputs": [],
   "source": [
    "#variable length list of arguments\n",
    "\n",
    "def coffee_func(*args, **kwargs): #* is positional args and ** keywords args\n",
    "    print(args)\n",
    "    print(kwargs)"
   ]
  },
  {
   "cell_type": "code",
   "execution_count": 26,
   "id": "e2b38c7b",
   "metadata": {},
   "outputs": [
    {
     "name": "stdout",
     "output_type": "stream",
     "text": [
      "()\n",
      "{}\n"
     ]
    }
   ],
   "source": [
    "coffee_func()"
   ]
  },
  {
   "cell_type": "code",
   "execution_count": 27,
   "id": "1d9080f1",
   "metadata": {},
   "outputs": [
    {
     "name": "stdout",
     "output_type": "stream",
     "text": [
      "('Bugs', 'Daffy', 'Porky')\n",
      "{}\n"
     ]
    }
   ],
   "source": [
    "coffee_func('Bugs', 'Daffy', 'Porky')"
   ]
  },
  {
   "cell_type": "code",
   "execution_count": 28,
   "id": "4520ffe0",
   "metadata": {},
   "outputs": [
    {
     "name": "stdout",
     "output_type": "stream",
     "text": [
      "('Bugs', 'Daffy', 'Porky')\n",
      "{'name': 'Pete Puma', 'age': 54}\n"
     ]
    }
   ],
   "source": [
    "coffee_func('Bugs', 'Daffy', 'Porky', name='Pete Puma', age=54)"
   ]
  },
  {
   "cell_type": "code",
   "execution_count": 29,
   "id": "9d024274",
   "metadata": {},
   "outputs": [],
   "source": [
    "#first three are positional arguments; last two are keyword arguments\n",
    "#positional arguments come as tuples\n",
    "#keyword arguments are treated as dictionaries"
   ]
  },
  {
   "cell_type": "code",
   "execution_count": 30,
   "id": "a733c7ea",
   "metadata": {},
   "outputs": [],
   "source": [
    "def tea_func(*args):\n",
    "    print(args)"
   ]
  },
  {
   "cell_type": "code",
   "execution_count": 31,
   "id": "20c17960",
   "metadata": {},
   "outputs": [
    {
     "name": "stdout",
     "output_type": "stream",
     "text": [
      "('Bugs', 'Daffy', 'Porky')\n"
     ]
    }
   ],
   "source": [
    "tea_func('Bugs', 'Daffy', 'Porky')"
   ]
  },
  {
   "cell_type": "code",
   "execution_count": 32,
   "id": "04390178",
   "metadata": {},
   "outputs": [],
   "source": [
    "def hotcocoa_func(person='Bugs', **kwargs):\n",
    "    print(kwargs)"
   ]
  },
  {
   "cell_type": "code",
   "execution_count": 33,
   "id": "ed26a320",
   "metadata": {},
   "outputs": [
    {
     "name": "stdout",
     "output_type": "stream",
     "text": [
      "{'name': 'Pete', 'last': 'Puma', 'age': 54}\n"
     ]
    }
   ],
   "source": [
    "hotcocoa_func(name='Pete', last='Puma', age=54)"
   ]
  },
  {
   "cell_type": "code",
   "execution_count": 35,
   "id": "c5735f0a",
   "metadata": {},
   "outputs": [],
   "source": [
    "courses = ['Math', 'Art', 'Coding']\n",
    "info ={'name': 'Bugs Bunny', 'age': 55}\n",
    "\n",
    "def student_info(*args, **kwargs):\n",
    "    print(args)\n",
    "    print(kwargs)"
   ]
  },
  {
   "cell_type": "code",
   "execution_count": 36,
   "id": "012e2d91",
   "metadata": {},
   "outputs": [
    {
     "name": "stdout",
     "output_type": "stream",
     "text": [
      "(['Math', 'Art', 'Coding'], {'name': 'Bugs Bunny', 'age': 55})\n",
      "{}\n"
     ]
    }
   ],
   "source": [
    "student_info(courses, info) #this doesn't work"
   ]
  },
  {
   "cell_type": "code",
   "execution_count": 37,
   "id": "42764f5a",
   "metadata": {},
   "outputs": [
    {
     "name": "stdout",
     "output_type": "stream",
     "text": [
      "('Math', 'Art', 'Coding')\n",
      "{'name': 'Bugs Bunny', 'age': 55}\n"
     ]
    }
   ],
   "source": [
    "#* and ** operators unpack the list and the dict and pass the parameters\n",
    "\n",
    "student_info(*courses, **info)"
   ]
  },
  {
   "cell_type": "code",
   "execution_count": null,
   "id": "6d585847",
   "metadata": {},
   "outputs": [],
   "source": []
  }
 ],
 "metadata": {
  "kernelspec": {
   "display_name": "Python 3 (ipykernel)",
   "language": "python",
   "name": "python3"
  },
  "language_info": {
   "codemirror_mode": {
    "name": "ipython",
    "version": 3
   },
   "file_extension": ".py",
   "mimetype": "text/x-python",
   "name": "python",
   "nbconvert_exporter": "python",
   "pygments_lexer": "ipython3",
   "version": "3.9.12"
  }
 },
 "nbformat": 4,
 "nbformat_minor": 5
}
