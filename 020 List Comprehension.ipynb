{
 "cells": [
  {
   "cell_type": "code",
   "execution_count": 1,
   "id": "9679429e",
   "metadata": {},
   "outputs": [
    {
     "name": "stdout",
     "output_type": "stream",
     "text": [
      "[0, 1, 8, 27, 64, 125, 216, 343, 512, 729]\n"
     ]
    }
   ],
   "source": [
    "#create a list of cubes\n",
    "\n",
    "cubes = []\n",
    "\n",
    "for i in range(10):\n",
    "    cubes.append(i**3)\n",
    "    \n",
    "print(cubes)"
   ]
  },
  {
   "cell_type": "code",
   "execution_count": 2,
   "id": "a8493044",
   "metadata": {},
   "outputs": [
    {
     "name": "stdout",
     "output_type": "stream",
     "text": [
      "[0, 1, 8, 27, 64, 125, 216, 343, 512, 729]\n"
     ]
    }
   ],
   "source": [
    "#comprehension format -- [items of the list - loops to create those items - conditionals (optional)]\n",
    "\n",
    "cubes = [i**3 for i in range(10)]\n",
    "print(cubes)"
   ]
  },
  {
   "cell_type": "code",
   "execution_count": 3,
   "id": "dea38261",
   "metadata": {},
   "outputs": [
    {
     "name": "stdout",
     "output_type": "stream",
     "text": [
      "[0, 125]\n"
     ]
    }
   ],
   "source": [
    "cubes_mod_5 = [i**3 for i in range(10) if i**3 % 5 == 0]\n",
    "print(cubes_mod_5)"
   ]
  },
  {
   "cell_type": "code",
   "execution_count": null,
   "id": "312e847f",
   "metadata": {},
   "outputs": [],
   "source": []
  }
 ],
 "metadata": {
  "kernelspec": {
   "display_name": "Python 3 (ipykernel)",
   "language": "python",
   "name": "python3"
  },
  "language_info": {
   "codemirror_mode": {
    "name": "ipython",
    "version": 3
   },
   "file_extension": ".py",
   "mimetype": "text/x-python",
   "name": "python",
   "nbconvert_exporter": "python",
   "pygments_lexer": "ipython3",
   "version": "3.9.12"
  }
 },
 "nbformat": 4,
 "nbformat_minor": 5
}
