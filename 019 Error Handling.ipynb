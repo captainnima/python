{
 "cells": [
  {
   "cell_type": "code",
   "execution_count": 1,
   "id": "80134cdb",
   "metadata": {},
   "outputs": [],
   "source": [
    "#error handling (exception handling)"
   ]
  },
  {
   "cell_type": "code",
   "execution_count": 2,
   "id": "a3bdc921",
   "metadata": {},
   "outputs": [
    {
     "name": "stdout",
     "output_type": "stream",
     "text": [
      "1.1111111111111112\n"
     ]
    }
   ],
   "source": [
    "try:\n",
    "    x,y = 10,9\n",
    "    print(x/y)\n",
    "except:\n",
    "    print('Error occurred')"
   ]
  },
  {
   "cell_type": "code",
   "execution_count": 3,
   "id": "e6510467",
   "metadata": {},
   "outputs": [
    {
     "name": "stdout",
     "output_type": "stream",
     "text": [
      "Error occurred\n"
     ]
    }
   ],
   "source": [
    "try:\n",
    "    x,y = 10,0\n",
    "    print(x/y)\n",
    "except:\n",
    "    print('Error occurred')"
   ]
  },
  {
   "cell_type": "code",
   "execution_count": 4,
   "id": "7405adf4",
   "metadata": {},
   "outputs": [
    {
     "name": "stdout",
     "output_type": "stream",
     "text": [
      "1.1111111111111112\n",
      "coffee time\n"
     ]
    }
   ],
   "source": [
    "try:\n",
    "    x,y = 10,9\n",
    "    print(x/y)\n",
    "except:\n",
    "    print('Error occurred')\n",
    "else: #optional: this one executes if no error\n",
    "    print('coffee time')"
   ]
  },
  {
   "cell_type": "code",
   "execution_count": 5,
   "id": "3321903a",
   "metadata": {},
   "outputs": [
    {
     "name": "stdout",
     "output_type": "stream",
     "text": [
      "Error occurred\n"
     ]
    }
   ],
   "source": [
    "try:\n",
    "    x,y = 10,0\n",
    "    print(x/y)\n",
    "except:\n",
    "    print('Error occurred')\n",
    "else: #optional: this one executes if no error\n",
    "    print('coffee time')"
   ]
  },
  {
   "cell_type": "code",
   "execution_count": 6,
   "id": "75ff4b2e",
   "metadata": {},
   "outputs": [
    {
     "name": "stdout",
     "output_type": "stream",
     "text": [
      "1.1111111111111112\n",
      "coffee time\n",
      "afternoon tea time\n"
     ]
    }
   ],
   "source": [
    "try:\n",
    "    x,y = 10,9\n",
    "    print(x/y)\n",
    "except:\n",
    "    print('Error occurred')\n",
    "else: #optional: this one executes if no error\n",
    "    print('coffee time')\n",
    "finally: #optional: this one runs no matter what\n",
    "    print('afternoon tea time')"
   ]
  },
  {
   "cell_type": "code",
   "execution_count": 7,
   "id": "80254d8e",
   "metadata": {},
   "outputs": [
    {
     "name": "stdout",
     "output_type": "stream",
     "text": [
      "Error occurred\n",
      "afternoon tea time\n"
     ]
    }
   ],
   "source": [
    "try:\n",
    "    x,y = 10,0\n",
    "    print(x/y)\n",
    "except:\n",
    "    print('Error occurred')\n",
    "else: #optional: this one executes if no error\n",
    "    print('coffee time')\n",
    "finally: #optional: this one runs no matter what\n",
    "    print('afternoon tea time')"
   ]
  },
  {
   "cell_type": "code",
   "execution_count": null,
   "id": "05b13bfc",
   "metadata": {},
   "outputs": [],
   "source": []
  }
 ],
 "metadata": {
  "kernelspec": {
   "display_name": "Python 3 (ipykernel)",
   "language": "python",
   "name": "python3"
  },
  "language_info": {
   "codemirror_mode": {
    "name": "ipython",
    "version": 3
   },
   "file_extension": ".py",
   "mimetype": "text/x-python",
   "name": "python",
   "nbconvert_exporter": "python",
   "pygments_lexer": "ipython3",
   "version": "3.9.12"
  }
 },
 "nbformat": 4,
 "nbformat_minor": 5
}
