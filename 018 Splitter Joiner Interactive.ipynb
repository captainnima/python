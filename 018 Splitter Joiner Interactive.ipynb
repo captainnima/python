{
 "cells": [
  {
   "cell_type": "code",
   "execution_count": 1,
   "id": "2b14b9a6",
   "metadata": {},
   "outputs": [],
   "source": [
    "#splitter joiner interactive"
   ]
  },
  {
   "cell_type": "code",
   "execution_count": 2,
   "id": "eade685f",
   "metadata": {},
   "outputs": [],
   "source": [
    "import os\n",
    "import os.path"
   ]
  },
  {
   "cell_type": "code",
   "execution_count": 7,
   "id": "24cf31e3",
   "metadata": {},
   "outputs": [],
   "source": [
    "#splitter\n",
    "\n",
    "def menu():\n",
    "    print('Welcome to splitter')\n",
    "    print()\n",
    "    print('You will need to specify a file name and a split size')\n",
    "    file_name = input('Enter a file name: ')\n",
    "    buffersize = int(input('Enter the split size in bytes: '))\n",
    "    return file_name, buffersize\n",
    "\n",
    "def clean_up(file_name):\n",
    "    try: #try to cleanup the leftovers\n",
    "        meta_file = file_name + '.meta'\n",
    "        in_file = open(meta_file, 'r')\n",
    "        meta_info = in_file.readlines()\n",
    "        splits = int(meta_info[2])\n",
    "        for i in range(splits):\n",
    "            os.remove(file_name + str(i))\n",
    "        \n",
    "    except:\n",
    "        pass\n",
    "\n",
    "def splitter():\n",
    "    responses = menu()\n",
    "    \n",
    "    try:\n",
    "        file_name = responses[0]\n",
    "        if os.path.isfile(file_name): #if file name exists in the directory\n",
    "            clean_up(file_name)\n",
    "        else:\n",
    "            pass\n",
    "        \n",
    "        buffersize = responses[1]\n",
    "        in_file = open(file_name, 'rb')\n",
    "        split_file_prefix = file_name\n",
    "        buffer = in_file.read(buffersize)\n",
    "        i = 0\n",
    "        while len(buffer):\n",
    "            split_file_prefix += str(i)\n",
    "            out_file = open(split_file_prefix, 'wb')\n",
    "            out_file.write(buffer)\n",
    "            out_file.close()\n",
    "            print('.', end='') #progressbar\n",
    "            buffer = in_file.read(buffersize)\n",
    "            i += 1\n",
    "            split_file_prefix = file_name\n",
    "        \n",
    "        print()\n",
    "        print('Split complete')\n",
    "        \n",
    "        #create a meta file\n",
    "        out_file = open(file_name + '.meta', 'w')\n",
    "        out_file.write(split_file_prefix + '\\n')\n",
    "        out_file.write(str(buffersize) + '\\n')\n",
    "        out_file.write(str(i))\n",
    "        \n",
    "        out_file.close()\n",
    "        in_file.close()\n",
    "        \n",
    "    except:\n",
    "        print('File not found or some other error')\n",
    "    "
   ]
  },
  {
   "cell_type": "code",
   "execution_count": 9,
   "id": "d8a8aa6c",
   "metadata": {},
   "outputs": [
    {
     "name": "stdout",
     "output_type": "stream",
     "text": [
      "Welcome to splitter\n",
      "\n",
      "You will need to specify a file name and a split size\n",
      "Enter a file name: Wildlife.wmv\n",
      "Enter the split size in bytes: 2000000\n",
      "..............\n",
      "Split complete\n"
     ]
    }
   ],
   "source": [
    "splitter()"
   ]
  },
  {
   "cell_type": "code",
   "execution_count": 13,
   "id": "b5746cb3",
   "metadata": {},
   "outputs": [],
   "source": [
    "#joiner\n",
    "\n",
    "def menu():\n",
    "    print('Welcome to file joiner')\n",
    "    print()\n",
    "    print('You will need to specify the original file name')\n",
    "    file_name = input('Enter the original file name: ')\n",
    "    return file_name\n",
    "\n",
    "def joiner():\n",
    "    try:\n",
    "        file_name = menu()\n",
    "        meta_file = file_name + '.meta'\n",
    "        \n",
    "        in_file = open(meta_file, 'r')\n",
    "        meta_info = in_file.readlines()\n",
    "        split_file_prefix = meta_info[0].strip()\n",
    "        buffersize = int(meta_info[1].strip())\n",
    "        splits = int(meta_info[2])\n",
    "        \n",
    "        try:\n",
    "            os.remove('New' + file_name)\n",
    "        except:\n",
    "            pass\n",
    "        \n",
    "        out_file = open('New' + file_name, 'ab')\n",
    "        in_file = open(split_file_prefix + str(0), 'rb')\n",
    "        buffer = in_file.read(buffersize)\n",
    "        i = 0\n",
    "        \n",
    "        while len(buffer):\n",
    "            out_file.write(buffer)\n",
    "            print('.', end='')\n",
    "            i += 1\n",
    "            if i == splits:\n",
    "                break\n",
    "            split_file_prefix = meta_info[0].strip()\n",
    "            split_file_prefix += str(i)\n",
    "            in_file = open(split_file_prefix, 'rb')\n",
    "            buffer = in_file.read(buffersize)\n",
    "        \n",
    "        in_file.close()\n",
    "        out_file.close()\n",
    "        print()\n",
    "        print('Files rejoined. File name is: New' + file_name)\n",
    "        \n",
    "    except:\n",
    "        print('Nonexistent file or some other error')"
   ]
  },
  {
   "cell_type": "code",
   "execution_count": 14,
   "id": "d066f7ae",
   "metadata": {},
   "outputs": [
    {
     "name": "stdout",
     "output_type": "stream",
     "text": [
      "Welcome to file joiner\n",
      "\n",
      "You will need to specify the original file name\n",
      "Enter the original file name: Wildlife.wmv\n",
      "..............\n",
      "Files rejoined. File name is: NewWildlife.wmv\n"
     ]
    }
   ],
   "source": [
    "joiner()"
   ]
  },
  {
   "cell_type": "code",
   "execution_count": null,
   "id": "117b2933",
   "metadata": {},
   "outputs": [],
   "source": []
  }
 ],
 "metadata": {
  "kernelspec": {
   "display_name": "Python 3 (ipykernel)",
   "language": "python",
   "name": "python3"
  },
  "language_info": {
   "codemirror_mode": {
    "name": "ipython",
    "version": 3
   },
   "file_extension": ".py",
   "mimetype": "text/x-python",
   "name": "python",
   "nbconvert_exporter": "python",
   "pygments_lexer": "ipython3",
   "version": "3.9.12"
  }
 },
 "nbformat": 4,
 "nbformat_minor": 5
}
