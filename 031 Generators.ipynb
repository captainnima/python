{
 "cells": [
  {
   "cell_type": "markdown",
   "metadata": {},
   "source": [
    "# PY031 Generators"
   ]
  },
  {
   "cell_type": "code",
   "execution_count": null,
   "metadata": {},
   "outputs": [],
   "source": [
    "#why use generators and their advantage over lists"
   ]
  },
  {
   "cell_type": "code",
   "execution_count": 1,
   "metadata": {},
   "outputs": [
    {
     "name": "stdout",
     "output_type": "stream",
     "text": [
      "[1, 4, 9, 16, 25]\n"
     ]
    }
   ],
   "source": [
    "#first a list\n",
    "\n",
    "def square(nums):\n",
    "    result = []\n",
    "    for i in nums:\n",
    "        result.append(i**2)\n",
    "    return result\n",
    "\n",
    "my_numbers = square([1,2,3,4,5])\n",
    "print(my_numbers)"
   ]
  },
  {
   "cell_type": "code",
   "execution_count": 2,
   "metadata": {},
   "outputs": [
    {
     "name": "stdout",
     "output_type": "stream",
     "text": [
      "<generator object square at 0x10623f920>\n"
     ]
    }
   ],
   "source": [
    "#let's do this via a generator\n",
    "\n",
    "def square(nums):\n",
    "    for i in nums:\n",
    "        yield i**2 #yield creates a generator\n",
    "\n",
    "\n",
    "my_numbers = square([1,2,3,4,5])\n",
    "print(my_numbers)"
   ]
  },
  {
   "cell_type": "code",
   "execution_count": null,
   "metadata": {},
   "outputs": [],
   "source": [
    "#the generator returns an object\n",
    "#unlike a list, it does not compute and store\n",
    "#the results in memory\n",
    "#to get to the items, we can use the next()\n",
    "#method or loop over it"
   ]
  },
  {
   "cell_type": "code",
   "execution_count": 3,
   "metadata": {},
   "outputs": [
    {
     "data": {
      "text/plain": [
       "1"
      ]
     },
     "execution_count": 3,
     "metadata": {},
     "output_type": "execute_result"
    }
   ],
   "source": [
    "next(my_numbers)"
   ]
  },
  {
   "cell_type": "code",
   "execution_count": 4,
   "metadata": {},
   "outputs": [
    {
     "data": {
      "text/plain": [
       "4"
      ]
     },
     "execution_count": 4,
     "metadata": {},
     "output_type": "execute_result"
    }
   ],
   "source": [
    "next(my_numbers)"
   ]
  },
  {
   "cell_type": "code",
   "execution_count": 5,
   "metadata": {},
   "outputs": [
    {
     "data": {
      "text/plain": [
       "9"
      ]
     },
     "execution_count": 5,
     "metadata": {},
     "output_type": "execute_result"
    }
   ],
   "source": [
    "next(my_numbers)"
   ]
  },
  {
   "cell_type": "code",
   "execution_count": 6,
   "metadata": {},
   "outputs": [
    {
     "name": "stdout",
     "output_type": "stream",
     "text": [
      "16\n",
      "25\n"
     ]
    }
   ],
   "source": [
    "for num in my_numbers:\n",
    "    print(num)"
   ]
  },
  {
   "cell_type": "code",
   "execution_count": 7,
   "metadata": {},
   "outputs": [
    {
     "name": "stdout",
     "output_type": "stream",
     "text": [
      "[1, 4, 9, 16, 25]\n"
     ]
    }
   ],
   "source": [
    "#let's use a list comprehension\n",
    "\n",
    "my_numbers = [i*i for i in [1,2,3,4,5]]\n",
    "print(my_numbers)"
   ]
  },
  {
   "cell_type": "code",
   "execution_count": 8,
   "metadata": {},
   "outputs": [
    {
     "name": "stdout",
     "output_type": "stream",
     "text": [
      "<generator object <genexpr> at 0x1062d02b0>\n"
     ]
    }
   ],
   "source": [
    "#to make it a generator, just use ()\n",
    "\n",
    "my_numbers = (i*i for i in [1,2,3,4,5])\n",
    "print(my_numbers)"
   ]
  },
  {
   "cell_type": "code",
   "execution_count": 9,
   "metadata": {},
   "outputs": [
    {
     "data": {
      "text/plain": [
       "1"
      ]
     },
     "execution_count": 9,
     "metadata": {},
     "output_type": "execute_result"
    }
   ],
   "source": [
    "next(my_numbers)"
   ]
  },
  {
   "cell_type": "code",
   "execution_count": 10,
   "metadata": {},
   "outputs": [
    {
     "data": {
      "text/plain": [
       "4"
      ]
     },
     "execution_count": 10,
     "metadata": {},
     "output_type": "execute_result"
    }
   ],
   "source": [
    "next(my_numbers)"
   ]
  },
  {
   "cell_type": "code",
   "execution_count": 11,
   "metadata": {},
   "outputs": [
    {
     "data": {
      "text/plain": [
       "9"
      ]
     },
     "execution_count": 11,
     "metadata": {},
     "output_type": "execute_result"
    }
   ],
   "source": [
    "next(my_numbers)"
   ]
  },
  {
   "cell_type": "code",
   "execution_count": 12,
   "metadata": {},
   "outputs": [
    {
     "name": "stdout",
     "output_type": "stream",
     "text": [
      "<generator object <genexpr> at 0x1062d0110>\n"
     ]
    }
   ],
   "source": [
    "my_numbers = (i*i for i in [1,2,3,4,5])\n",
    "print(my_numbers)"
   ]
  },
  {
   "cell_type": "code",
   "execution_count": 13,
   "metadata": {},
   "outputs": [
    {
     "name": "stdout",
     "output_type": "stream",
     "text": [
      "[1, 4, 9, 16, 25]\n"
     ]
    }
   ],
   "source": [
    "#converting a generator to a list\n",
    "\n",
    "print(list(my_numbers))"
   ]
  },
  {
   "cell_type": "code",
   "execution_count": null,
   "metadata": {},
   "outputs": [],
   "source": [
    "#because generators do not return the values immediately,\n",
    "#they are not memory hungry and values are popped\n",
    "#as they are needed\n",
    "\n",
    "#let's compare"
   ]
  },
  {
   "cell_type": "code",
   "execution_count": 14,
   "metadata": {},
   "outputs": [
    {
     "name": "stdout",
     "output_type": "stream",
     "text": [
      "Requirement already satisfied: memory_profiler in /Applications/anaconda3/lib/python3.11/site-packages (0.61.0)\r\n",
      "Requirement already satisfied: psutil in /Applications/anaconda3/lib/python3.11/site-packages (from memory_profiler) (5.9.0)\r\n"
     ]
    }
   ],
   "source": [
    "!pip install memory_profiler"
   ]
  },
  {
   "cell_type": "code",
   "execution_count": 15,
   "metadata": {},
   "outputs": [
    {
     "name": "stdout",
     "output_type": "stream",
     "text": [
      "Memory (Before): [76.40625]\n",
      "\n",
      "List stats\n",
      "Memory (After): [299.109375]\n",
      "Took 0.4360054169956129 seconds\n",
      "\n",
      "******************\n",
      "\n",
      "Generator stats\n",
      "Memory (After): [96.296875]\n",
      "Took 0.022878332994878292 seconds\n"
     ]
    }
   ],
   "source": [
    "import memory_profiler\n",
    "import random\n",
    "import time\n",
    "\n",
    "names = ['Bugs', 'Daffy', 'Porky', 'Pete', 'Marvin', 'Pepe', 'Foghorn', 'Charlie']\n",
    "majors = ['Computer Science', 'Math', 'Basket Weaving', 'Arts', 'Physics']\n",
    "\n",
    "print('Memory (Before): {}'.format(memory_profiler.memory_usage()))\n",
    "print()\n",
    "\n",
    "def character_list(num_character):\n",
    "    result = []\n",
    "    for i in range(num_character):\n",
    "        character = {\n",
    "                        'id': i,\n",
    "                        'name': random.choice(names),\n",
    "                        'major': random.choice(majors)\n",
    "                    }\n",
    "        result.append(character)\n",
    "        \n",
    "    return result\n",
    "\n",
    "def character_generator(num_character):\n",
    "    for i in range(num_character):\n",
    "        character = {\n",
    "                    'id': i,\n",
    "                    'name': random.choice(names),\n",
    "                    'major': random.choice(majors)\n",
    "                }\n",
    "        yield character\n",
    "\n",
    "#for list\n",
    "\n",
    "t1 = time.perf_counter()\n",
    "character = character_list(1000000)\n",
    "t2 = time.perf_counter()\n",
    "\n",
    "print(\"List stats\")\n",
    "print('Memory (After): {}'.format(memory_profiler.memory_usage()))\n",
    "print('Took {} seconds'.format(t2-t1))\n",
    "\n",
    "print()\n",
    "print(\"******************\")\n",
    "print()\n",
    "\n",
    "#for generator\n",
    "t1 = time.perf_counter()\n",
    "character = character_generator(1_000_000)\n",
    "t2 = time.perf_counter()\n",
    "\n",
    "print(\"Generator stats\")\n",
    "print('Memory (After): {}'.format(memory_profiler.memory_usage()))\n",
    "print('Took {} seconds'.format(t2-t1))"
   ]
  },
  {
   "cell_type": "code",
   "execution_count": 16,
   "metadata": {},
   "outputs": [
    {
     "data": {
      "text/plain": [
       "{'id': 0, 'name': 'Daffy', 'major': 'Computer Science'}"
      ]
     },
     "execution_count": 16,
     "metadata": {},
     "output_type": "execute_result"
    }
   ],
   "source": [
    "next(character)"
   ]
  },
  {
   "cell_type": "code",
   "execution_count": 17,
   "metadata": {},
   "outputs": [
    {
     "data": {
      "text/plain": [
       "{'id': 1, 'name': 'Charlie', 'major': 'Math'}"
      ]
     },
     "execution_count": 17,
     "metadata": {},
     "output_type": "execute_result"
    }
   ],
   "source": [
    "next(character)"
   ]
  },
  {
   "cell_type": "code",
   "execution_count": 18,
   "metadata": {},
   "outputs": [
    {
     "data": {
      "text/plain": [
       "{'id': 2, 'name': 'Pete', 'major': 'Math'}"
      ]
     },
     "execution_count": 18,
     "metadata": {},
     "output_type": "execute_result"
    }
   ],
   "source": [
    "next(character)"
   ]
  },
  {
   "cell_type": "code",
   "execution_count": null,
   "metadata": {},
   "outputs": [],
   "source": []
  }
 ],
 "metadata": {
  "kernelspec": {
   "display_name": "Python 3 (ipykernel)",
   "language": "python",
   "name": "python3"
  },
  "language_info": {
   "codemirror_mode": {
    "name": "ipython",
    "version": 3
   },
   "file_extension": ".py",
   "mimetype": "text/x-python",
   "name": "python",
   "nbconvert_exporter": "python",
   "pygments_lexer": "ipython3",
   "version": "3.11.5"
  }
 },
 "nbformat": 4,
 "nbformat_minor": 2
}
