{
 "cells": [
  {
   "cell_type": "code",
   "execution_count": 1,
   "id": "a111eb7a",
   "metadata": {},
   "outputs": [
    {
     "name": "stdout",
     "output_type": "stream",
     "text": [
      "Defaulting to user installation because normal site-packages is not writeable\n",
      "Requirement already satisfied: pillow in c:\\programdata\\anaconda3\\lib\\site-packages (9.0.1)\n"
     ]
    }
   ],
   "source": [
    "!pip install pillow"
   ]
  },
  {
   "cell_type": "code",
   "execution_count": 1,
   "id": "02723bbe",
   "metadata": {},
   "outputs": [],
   "source": [
    "from PIL import Image\n",
    "import os"
   ]
  },
  {
   "cell_type": "code",
   "execution_count": 2,
   "id": "16165314",
   "metadata": {},
   "outputs": [
    {
     "name": "stdout",
     "output_type": "stream",
     "text": [
      "C:\\Users\\Student\\Desktop\\Python\n"
     ]
    }
   ],
   "source": [
    "print(os.getcwd())"
   ]
  },
  {
   "cell_type": "code",
   "execution_count": 3,
   "id": "d0b30ae0",
   "metadata": {},
   "outputs": [],
   "source": [
    "os.chdir('013 images')"
   ]
  },
  {
   "cell_type": "code",
   "execution_count": 4,
   "id": "76b57d90",
   "metadata": {},
   "outputs": [
    {
     "name": "stdout",
     "output_type": "stream",
     "text": [
      "C:\\Users\\Student\\Desktop\\Python\\013 images\n"
     ]
    }
   ],
   "source": [
    "print(os.getcwd())"
   ]
  },
  {
   "cell_type": "code",
   "execution_count": 5,
   "id": "4183faf0",
   "metadata": {},
   "outputs": [
    {
     "name": "stdout",
     "output_type": "stream",
     "text": [
      "['.ipynb_checkpoints', '2022-10-11 IMG_0148.jpg', '2022-10-11 IMG_0148.png', '2022-10-11 IMG_0149.jpg', '2022-10-11 IMG_0149.png', '2022-10-11 IMG_0150.jpg', '2022-10-11 IMG_0150.png', '2022-10-11 IMG_0151.jpg', '2022-10-11 IMG_0151.png', '2022-10-11 IMG_0154.jpg', '2022-10-11 IMG_0154.png', '400']\n"
     ]
    }
   ],
   "source": [
    "print(os.listdir())"
   ]
  },
  {
   "cell_type": "code",
   "execution_count": 8,
   "id": "7d035609",
   "metadata": {},
   "outputs": [],
   "source": [
    "#open and view an image\n",
    "\n",
    "my_image = Image.open('2022-10-11 IMG_0154.jpg')"
   ]
  },
  {
   "cell_type": "code",
   "execution_count": 9,
   "id": "9a0c7a7e",
   "metadata": {},
   "outputs": [],
   "source": [
    "my_image.show()"
   ]
  },
  {
   "cell_type": "code",
   "execution_count": 10,
   "id": "469c6a5b",
   "metadata": {},
   "outputs": [],
   "source": [
    "#save a jpg as a png\n",
    "\n",
    "my_image.save('2022-10-11 IMG_0154.png')"
   ]
  },
  {
   "cell_type": "code",
   "execution_count": 12,
   "id": "66d3db09",
   "metadata": {},
   "outputs": [
    {
     "name": "stdout",
     "output_type": "stream",
     "text": [
      "2022-10-11 IMG_0148.jpg\n",
      "2022-10-11 IMG_0149.jpg\n",
      "2022-10-11 IMG_0150.jpg\n",
      "2022-10-11 IMG_0151.jpg\n",
      "2022-10-11 IMG_0154.jpg\n"
     ]
    }
   ],
   "source": [
    "#loop through the directory and save the jpgs as pngs\n",
    "\n",
    "for f in os.listdir('.'):\n",
    "    if f.endswith('.jpg') or f.endswith('.jpeg'):\n",
    "        print(f)\n",
    "        i = Image.open(f)\n",
    "        f_name, f_ext = os.path.splitext(f)\n",
    "        i.save('{}.png'.format(f_name))"
   ]
  },
  {
   "cell_type": "code",
   "execution_count": 13,
   "id": "8882eedd",
   "metadata": {},
   "outputs": [
    {
     "name": "stdout",
     "output_type": "stream",
     "text": [
      "['2022-10-11 IMG_0148.jpg', '2022-10-11 IMG_0148.png', '2022-10-11 IMG_0149.jpg', '2022-10-11 IMG_0149.png', '2022-10-11 IMG_0150.jpg', '2022-10-11 IMG_0150.png', '2022-10-11 IMG_0151.jpg', '2022-10-11 IMG_0151.png', '2022-10-11 IMG_0154.jpg', '2022-10-11 IMG_0154.png']\n"
     ]
    }
   ],
   "source": [
    "print(os.listdir())"
   ]
  },
  {
   "cell_type": "code",
   "execution_count": 15,
   "id": "68125271",
   "metadata": {},
   "outputs": [
    {
     "name": "stdout",
     "output_type": "stream",
     "text": [
      "2022-10-11 IMG_0148.jpg\n",
      "2022-10-11 IMG_0149.jpg\n",
      "2022-10-11 IMG_0150.jpg\n",
      "2022-10-11 IMG_0151.jpg\n",
      "2022-10-11 IMG_0154.jpg\n"
     ]
    }
   ],
   "source": [
    "#photo resizing\n",
    "\n",
    "size_400 = (400, 400) #tuple\n",
    "\n",
    "for f in os.listdir('.'):\n",
    "    if f.endswith('.jpg') or f.endswith('.jpeg'):\n",
    "        print(f)\n",
    "        i = Image.open(f)\n",
    "        f_name, f_ext = os.path.splitext(f)\n",
    "        i.thumbnail(size_400) #takes a tuple\n",
    "        i.save('400/{}_400{}'.format(f_name, f_ext))"
   ]
  },
  {
   "cell_type": "code",
   "execution_count": 16,
   "id": "7c047cc7",
   "metadata": {},
   "outputs": [],
   "source": [
    "#rotate an image\n",
    "\n",
    "my_image.show()"
   ]
  },
  {
   "cell_type": "code",
   "execution_count": 6,
   "id": "8522a38c",
   "metadata": {},
   "outputs": [],
   "source": [
    "my_image.rotate(90)"
   ]
  },
  {
   "cell_type": "code",
   "execution_count": 18,
   "id": "9f17317b",
   "metadata": {},
   "outputs": [],
   "source": [
    "my_image.show()"
   ]
  },
  {
   "cell_type": "code",
   "execution_count": 7,
   "id": "7cd1ffc5",
   "metadata": {},
   "outputs": [],
   "source": [
    "#convert the image to black and white\n",
    "\n",
    "my_image.convert(mode='L') #add .save() to the end to save it"
   ]
  },
  {
   "cell_type": "code",
   "execution_count": 20,
   "id": "609b231b",
   "metadata": {},
   "outputs": [],
   "source": [
    "#add a blur\n",
    "\n",
    "from PIL import ImageFilter"
   ]
  },
  {
   "cell_type": "code",
   "execution_count": 8,
   "id": "d4bdea10",
   "metadata": {},
   "outputs": [],
   "source": [
    "my_image.filter(ImageFilter.GaussianBlur()) #not much of blur"
   ]
  },
  {
   "cell_type": "code",
   "execution_count": 9,
   "id": "77b2342a",
   "metadata": {},
   "outputs": [],
   "source": [
    "my_image.filter(ImageFilter.GaussianBlur(10))"
   ]
  },
  {
   "cell_type": "code",
   "execution_count": 10,
   "id": "e5d1febf",
   "metadata": {},
   "outputs": [],
   "source": [
    "#image transformation\n",
    "\n",
    "output = my_image.transpose(Image.FLIP_LEFT_RIGHT)\n",
    "output"
   ]
  },
  {
   "cell_type": "code",
   "execution_count": 11,
   "id": "3f2bcd7e",
   "metadata": {},
   "outputs": [],
   "source": [
    "output = my_image.transpose(Image.FLIP_TOP_BOTTOM)\n",
    "output"
   ]
  },
  {
   "cell_type": "code",
   "execution_count": 12,
   "id": "0c9fc99f",
   "metadata": {},
   "outputs": [],
   "source": [
    "output = my_image.transpose(Image.ROTATE_90)\n",
    "output"
   ]
  },
  {
   "cell_type": "code",
   "execution_count": 13,
   "id": "b245336d",
   "metadata": {},
   "outputs": [],
   "source": [
    "output = my_image.transpose(Image.ROTATE_180)\n",
    "output"
   ]
  },
  {
   "cell_type": "code",
   "execution_count": 14,
   "id": "27901dee",
   "metadata": {},
   "outputs": [],
   "source": [
    "output = my_image.transpose(Image.ROTATE_270)\n",
    "output"
   ]
  },
  {
   "cell_type": "code",
   "execution_count": null,
   "id": "e1bfd663",
   "metadata": {},
   "outputs": [],
   "source": []
  }
 ],
 "metadata": {
  "kernelspec": {
   "display_name": "Python 3 (ipykernel)",
   "language": "python",
   "name": "python3"
  },
  "language_info": {
   "codemirror_mode": {
    "name": "ipython",
    "version": 3
   },
   "file_extension": ".py",
   "mimetype": "text/x-python",
   "name": "python",
   "nbconvert_exporter": "python",
   "pygments_lexer": "ipython3",
   "version": "3.9.12"
  }
 },
 "nbformat": 4,
 "nbformat_minor": 5
}
